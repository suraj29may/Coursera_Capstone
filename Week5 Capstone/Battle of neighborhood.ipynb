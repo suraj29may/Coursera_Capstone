{
 "cells": [
  {
   "cell_type": "code",
   "execution_count": 57,
   "outputs": [
    {
     "name": "stdout",
     "output_type": "stream",
     "text": [
      "All Required Libraries Imported!\n"
     ]
    }
   ],
   "source": [
    "import pandas as pd\n",
    "import requests\n",
    "import numpy as np\n",
    "import geocoder\n",
    "import folium\n",
    "import requests\n",
    "import matplotlib.cm as cm\n",
    "import matplotlib.colors as colors\n",
    "import json\n",
    "import xml\n",
    "import matplotlib.pyplot as plt\n",
    "%matplotlib inline\n",
    "import warnings\n",
    "warnings.filterwarnings(\"ignore\")\n",
    "\n",
    "from pandas.io.json import json_normalize\n",
    "from sklearn.cluster import KMeans\n",
    "from geopy.geocoders import Nominatim\n",
    "from bs4 import BeautifulSoup\n",
    "\n",
    "pd.set_option('display.max_columns', None)\n",
    "pd.set_option('display.max_rows', None)\n",
    "\n",
    "print(\"All Required Libraries Imported!\")"
   ],
   "metadata": {
    "collapsed": false,
    "pycharm": {
     "name": "#%%\n"
    }
   }
  },
  {
   "cell_type": "code",
   "execution_count": 58,
   "outputs": [],
   "source": [
    "url = \"https://en.wikipedia.org/wiki/List_of_postal_codes_of_Canada:_M\"\n",
    "extracting_data = requests.get(url).text\n",
    "wiki_data = BeautifulSoup(extracting_data, 'lxml')"
   ],
   "metadata": {
    "collapsed": false,
    "pycharm": {
     "name": "#%%\n"
    }
   }
  },
  {
   "cell_type": "code",
   "execution_count": 59,
   "outputs": [],
   "source": [
    "column_names = ['Postalcode','Borough','Neighborhood']\n",
    "toronto = pd.DataFrame(columns = column_names)\n",
    "\n",
    "content = wiki_data.find('div', class_='mw-parser-output')\n",
    "table = content.table.tbody\n",
    "postcode = 0\n",
    "borough = 0\n",
    "neighborhood = 0\n",
    "\n",
    "for tr in table.find_all('tr'):\n",
    "    i = 0\n",
    "    for td in tr.find_all('td'):\n",
    "        if i == 0:\n",
    "            postcode = td.text\n",
    "            i = i + 1\n",
    "        elif i == 1:\n",
    "            borough = td.text\n",
    "            i = i + 1\n",
    "        elif i == 2:\n",
    "            neighborhood = td.text.strip('\\n').replace(']','')\n",
    "    toronto = toronto.append({'Postalcode': postcode,'Borough': borough,'Neighborhood': neighborhood},ignore_index=True)"
   ],
   "metadata": {
    "collapsed": false,
    "pycharm": {
     "name": "#%%\n"
    }
   }
  },
  {
   "cell_type": "code",
   "execution_count": 60,
   "outputs": [],
   "source": [
    "# clean dataframe\n",
    "toronto = toronto[toronto.Borough!='Not assigned']\n",
    "toronto = toronto[toronto.Borough!= 0]\n",
    "toronto.reset_index(drop = True, inplace = True)\n",
    "i = 0\n",
    "for i in range(0,toronto.shape[0]):\n",
    "    if toronto.iloc[i][2] == 'Not assigned':\n",
    "        toronto.iloc[i][2] = toronto.iloc[i][1]\n",
    "        i = i+1"
   ],
   "metadata": {
    "collapsed": false,
    "pycharm": {
     "name": "#%%\n"
    }
   }
  },
  {
   "cell_type": "code",
   "execution_count": 61,
   "outputs": [
    {
     "data": {
      "text/plain": "  Postalcode         Borough                            Neighborhood\n0      M1A\\n  Not assigned\\n                          Not assigned\\n\n1      M1B\\n   Scarborough\\n                          Malvern, Rouge\n2      M1C\\n   Scarborough\\n  Rouge Hill, Port Union, Highland Creek\n3      M1E\\n   Scarborough\\n       Guildwood, Morningside, West Hill\n4      M1G\\n   Scarborough\\n                                  Woburn",
      "text/html": "<div>\n<style scoped>\n    .dataframe tbody tr th:only-of-type {\n        vertical-align: middle;\n    }\n\n    .dataframe tbody tr th {\n        vertical-align: top;\n    }\n\n    .dataframe thead th {\n        text-align: right;\n    }\n</style>\n<table border=\"1\" class=\"dataframe\">\n  <thead>\n    <tr style=\"text-align: right;\">\n      <th></th>\n      <th>Postalcode</th>\n      <th>Borough</th>\n      <th>Neighborhood</th>\n    </tr>\n  </thead>\n  <tbody>\n    <tr>\n      <th>0</th>\n      <td>M1A\\n</td>\n      <td>Not assigned\\n</td>\n      <td>Not assigned\\n</td>\n    </tr>\n    <tr>\n      <th>1</th>\n      <td>M1B\\n</td>\n      <td>Scarborough\\n</td>\n      <td>Malvern, Rouge</td>\n    </tr>\n    <tr>\n      <th>2</th>\n      <td>M1C\\n</td>\n      <td>Scarborough\\n</td>\n      <td>Rouge Hill, Port Union, Highland Creek</td>\n    </tr>\n    <tr>\n      <th>3</th>\n      <td>M1E\\n</td>\n      <td>Scarborough\\n</td>\n      <td>Guildwood, Morningside, West Hill</td>\n    </tr>\n    <tr>\n      <th>4</th>\n      <td>M1G\\n</td>\n      <td>Scarborough\\n</td>\n      <td>Woburn</td>\n    </tr>\n  </tbody>\n</table>\n</div>"
     },
     "execution_count": 61,
     "metadata": {},
     "output_type": "execute_result"
    }
   ],
   "source": [
    "df = toronto.groupby(['Postalcode','Borough'])['Neighborhood'].apply(', '.join).reset_index()\n",
    "df.head()\n"
   ],
   "metadata": {
    "collapsed": false,
    "pycharm": {
     "name": "#%%\n"
    }
   }
  },
  {
   "cell_type": "code",
   "execution_count": 62,
   "outputs": [
    {
     "data": {
      "text/plain": "       Postalcode         Borough    Neighborhood\ncount         180             180             180\nunique        180              11             100\ntop         M5W\\n  Not assigned\\n  Not assigned\\n\nfreq            1              77              77",
      "text/html": "<div>\n<style scoped>\n    .dataframe tbody tr th:only-of-type {\n        vertical-align: middle;\n    }\n\n    .dataframe tbody tr th {\n        vertical-align: top;\n    }\n\n    .dataframe thead th {\n        text-align: right;\n    }\n</style>\n<table border=\"1\" class=\"dataframe\">\n  <thead>\n    <tr style=\"text-align: right;\">\n      <th></th>\n      <th>Postalcode</th>\n      <th>Borough</th>\n      <th>Neighborhood</th>\n    </tr>\n  </thead>\n  <tbody>\n    <tr>\n      <th>count</th>\n      <td>180</td>\n      <td>180</td>\n      <td>180</td>\n    </tr>\n    <tr>\n      <th>unique</th>\n      <td>180</td>\n      <td>11</td>\n      <td>100</td>\n    </tr>\n    <tr>\n      <th>top</th>\n      <td>M5W\\n</td>\n      <td>Not assigned\\n</td>\n      <td>Not assigned\\n</td>\n    </tr>\n    <tr>\n      <th>freq</th>\n      <td>1</td>\n      <td>77</td>\n      <td>77</td>\n    </tr>\n  </tbody>\n</table>\n</div>"
     },
     "execution_count": 62,
     "metadata": {},
     "output_type": "execute_result"
    }
   ],
   "source": [
    "df.describe()\n"
   ],
   "metadata": {
    "collapsed": false,
    "pycharm": {
     "name": "#%%\n"
    }
   }
  },
  {
   "cell_type": "code",
   "execution_count": 63,
   "outputs": [],
   "source": [
    "df = df.dropna()\n",
    "empty = 'Not assigned'\n",
    "df = df[(df.Postalcode != empty ) & (df.Borough != empty) & (df.Neighborhood != empty)]\n"
   ],
   "metadata": {
    "collapsed": false,
    "pycharm": {
     "name": "#%%\n"
    }
   }
  },
  {
   "cell_type": "code",
   "execution_count": 64,
   "outputs": [
    {
     "data": {
      "text/plain": "  Postalcode         Borough                            Neighborhood\n0      M1A\\n  Not assigned\\n                          Not assigned\\n\n1      M1B\\n   Scarborough\\n                          Malvern, Rouge\n2      M1C\\n   Scarborough\\n  Rouge Hill, Port Union, Highland Creek\n3      M1E\\n   Scarborough\\n       Guildwood, Morningside, West Hill\n4      M1G\\n   Scarborough\\n                                  Woburn",
      "text/html": "<div>\n<style scoped>\n    .dataframe tbody tr th:only-of-type {\n        vertical-align: middle;\n    }\n\n    .dataframe tbody tr th {\n        vertical-align: top;\n    }\n\n    .dataframe thead th {\n        text-align: right;\n    }\n</style>\n<table border=\"1\" class=\"dataframe\">\n  <thead>\n    <tr style=\"text-align: right;\">\n      <th></th>\n      <th>Postalcode</th>\n      <th>Borough</th>\n      <th>Neighborhood</th>\n    </tr>\n  </thead>\n  <tbody>\n    <tr>\n      <th>0</th>\n      <td>M1A\\n</td>\n      <td>Not assigned\\n</td>\n      <td>Not assigned\\n</td>\n    </tr>\n    <tr>\n      <th>1</th>\n      <td>M1B\\n</td>\n      <td>Scarborough\\n</td>\n      <td>Malvern, Rouge</td>\n    </tr>\n    <tr>\n      <th>2</th>\n      <td>M1C\\n</td>\n      <td>Scarborough\\n</td>\n      <td>Rouge Hill, Port Union, Highland Creek</td>\n    </tr>\n    <tr>\n      <th>3</th>\n      <td>M1E\\n</td>\n      <td>Scarborough\\n</td>\n      <td>Guildwood, Morningside, West Hill</td>\n    </tr>\n    <tr>\n      <th>4</th>\n      <td>M1G\\n</td>\n      <td>Scarborough\\n</td>\n      <td>Woburn</td>\n    </tr>\n  </tbody>\n</table>\n</div>"
     },
     "execution_count": 64,
     "metadata": {},
     "output_type": "execute_result"
    }
   ],
   "source": [
    "df.head()\n"
   ],
   "metadata": {
    "collapsed": false,
    "pycharm": {
     "name": "#%%\n"
    }
   }
  },
  {
   "cell_type": "code",
   "execution_count": 65,
   "outputs": [],
   "source": [
    "def neighborhood_list(grouped):\n",
    "    return ', '.join(sorted(grouped['Neighborhood'].tolist()))\n",
    "\n",
    "grp = df.groupby(['Postalcode', 'Borough'])\n",
    "df_2 = grp.apply(neighborhood_list).reset_index(name='Neighborhood')\n"
   ],
   "metadata": {
    "collapsed": false,
    "pycharm": {
     "name": "#%%\n"
    }
   }
  },
  {
   "cell_type": "code",
   "execution_count": 66,
   "outputs": [
    {
     "data": {
      "text/plain": "       Postalcode         Borough    Neighborhood\ncount         180             180             180\nunique        180              11             100\ntop         M5W\\n  Not assigned\\n  Not assigned\\n\nfreq            1              77              77",
      "text/html": "<div>\n<style scoped>\n    .dataframe tbody tr th:only-of-type {\n        vertical-align: middle;\n    }\n\n    .dataframe tbody tr th {\n        vertical-align: top;\n    }\n\n    .dataframe thead th {\n        text-align: right;\n    }\n</style>\n<table border=\"1\" class=\"dataframe\">\n  <thead>\n    <tr style=\"text-align: right;\">\n      <th></th>\n      <th>Postalcode</th>\n      <th>Borough</th>\n      <th>Neighborhood</th>\n    </tr>\n  </thead>\n  <tbody>\n    <tr>\n      <th>count</th>\n      <td>180</td>\n      <td>180</td>\n      <td>180</td>\n    </tr>\n    <tr>\n      <th>unique</th>\n      <td>180</td>\n      <td>11</td>\n      <td>100</td>\n    </tr>\n    <tr>\n      <th>top</th>\n      <td>M5W\\n</td>\n      <td>Not assigned\\n</td>\n      <td>Not assigned\\n</td>\n    </tr>\n    <tr>\n      <th>freq</th>\n      <td>1</td>\n      <td>77</td>\n      <td>77</td>\n    </tr>\n  </tbody>\n</table>\n</div>"
     },
     "execution_count": 66,
     "metadata": {},
     "output_type": "execute_result"
    }
   ],
   "source": [
    "df_2.describe()\n"
   ],
   "metadata": {
    "collapsed": false,
    "pycharm": {
     "name": "#%%\n"
    }
   }
  },
  {
   "cell_type": "code",
   "execution_count": 67,
   "outputs": [
    {
     "name": "stdout",
     "output_type": "stream",
     "text": [
      "(180, 3)\n"
     ]
    },
    {
     "data": {
      "text/plain": "  Postalcode         Borough                            Neighborhood\n0      M1A\\n  Not assigned\\n                          Not assigned\\n\n1      M1B\\n   Scarborough\\n                          Malvern, Rouge\n2      M1C\\n   Scarborough\\n  Rouge Hill, Port Union, Highland Creek\n3      M1E\\n   Scarborough\\n       Guildwood, Morningside, West Hill\n4      M1G\\n   Scarborough\\n                                  Woburn",
      "text/html": "<div>\n<style scoped>\n    .dataframe tbody tr th:only-of-type {\n        vertical-align: middle;\n    }\n\n    .dataframe tbody tr th {\n        vertical-align: top;\n    }\n\n    .dataframe thead th {\n        text-align: right;\n    }\n</style>\n<table border=\"1\" class=\"dataframe\">\n  <thead>\n    <tr style=\"text-align: right;\">\n      <th></th>\n      <th>Postalcode</th>\n      <th>Borough</th>\n      <th>Neighborhood</th>\n    </tr>\n  </thead>\n  <tbody>\n    <tr>\n      <th>0</th>\n      <td>M1A\\n</td>\n      <td>Not assigned\\n</td>\n      <td>Not assigned\\n</td>\n    </tr>\n    <tr>\n      <th>1</th>\n      <td>M1B\\n</td>\n      <td>Scarborough\\n</td>\n      <td>Malvern, Rouge</td>\n    </tr>\n    <tr>\n      <th>2</th>\n      <td>M1C\\n</td>\n      <td>Scarborough\\n</td>\n      <td>Rouge Hill, Port Union, Highland Creek</td>\n    </tr>\n    <tr>\n      <th>3</th>\n      <td>M1E\\n</td>\n      <td>Scarborough\\n</td>\n      <td>Guildwood, Morningside, West Hill</td>\n    </tr>\n    <tr>\n      <th>4</th>\n      <td>M1G\\n</td>\n      <td>Scarborough\\n</td>\n      <td>Woburn</td>\n    </tr>\n  </tbody>\n</table>\n</div>"
     },
     "execution_count": 67,
     "metadata": {},
     "output_type": "execute_result"
    }
   ],
   "source": [
    "print(df_2.shape)\n",
    "df_2.head()\n"
   ],
   "metadata": {
    "collapsed": false,
    "pycharm": {
     "name": "#%%\n"
    }
   }
  },
  {
   "cell_type": "code",
   "execution_count": 68,
   "outputs": [
    {
     "data": {
      "text/plain": "[43.709020000000066, -79.36348999999996]"
     },
     "execution_count": 68,
     "metadata": {},
     "output_type": "execute_result"
    }
   ],
   "source": [
    "def get_latilong(postal_code):\n",
    "    lati_long_coords = None\n",
    "    while(lati_long_coords is None):\n",
    "        g = geocoder.arcgis('{}, Toronto, Ontario'.format(postal_code))\n",
    "        lati_long_coords = g.latlng\n",
    "    return lati_long_coords\n",
    "\n",
    "get_latilong('M4G')"
   ],
   "metadata": {
    "collapsed": false,
    "pycharm": {
     "name": "#%%\n"
    }
   }
  },
  {
   "cell_type": "code",
   "execution_count": 69,
   "outputs": [],
   "source": [
    "# Retrieving Postal Code Co-ordinates\n",
    "postal_codes = df_2['Postalcode']\n",
    "coords = [ get_latilong(postal_code) for postal_code in postal_codes.tolist() ]"
   ],
   "metadata": {
    "collapsed": false,
    "pycharm": {
     "name": "#%%\n"
    }
   }
  },
  {
   "cell_type": "code",
   "execution_count": 70,
   "outputs": [],
   "source": [
    "# Adding Columns Latitude & Longitude\n",
    "df_coords = pd.DataFrame(coords, columns=['Latitude', 'Longitude'])\n",
    "df_2['Latitude'] = df_coords['Latitude']\n",
    "df_2['Longitude'] = df_coords['Longitude']\n"
   ],
   "metadata": {
    "collapsed": false,
    "pycharm": {
     "name": "#%%\n"
    }
   }
  },
  {
   "cell_type": "code",
   "execution_count": 71,
   "outputs": [
    {
     "data": {
      "text/plain": "Empty DataFrame\nColumns: [Postalcode, Borough, Neighborhood, Latitude, Longitude]\nIndex: []",
      "text/html": "<div>\n<style scoped>\n    .dataframe tbody tr th:only-of-type {\n        vertical-align: middle;\n    }\n\n    .dataframe tbody tr th {\n        vertical-align: top;\n    }\n\n    .dataframe thead th {\n        text-align: right;\n    }\n</style>\n<table border=\"1\" class=\"dataframe\">\n  <thead>\n    <tr style=\"text-align: right;\">\n      <th></th>\n      <th>Postalcode</th>\n      <th>Borough</th>\n      <th>Neighborhood</th>\n      <th>Latitude</th>\n      <th>Longitude</th>\n    </tr>\n  </thead>\n  <tbody>\n  </tbody>\n</table>\n</div>"
     },
     "execution_count": 71,
     "metadata": {},
     "output_type": "execute_result"
    }
   ],
   "source": [
    "df_2[df_2.Postalcode == 'M5G']\n"
   ],
   "metadata": {
    "collapsed": false,
    "pycharm": {
     "name": "#%%\n"
    }
   }
  },
  {
   "cell_type": "code",
   "execution_count": 72,
   "outputs": [
    {
     "data": {
      "text/plain": "  Postalcode         Borough                                     Neighborhood  \\\n0      M1A\\n  Not assigned\\n                                   Not assigned\\n   \n1      M1B\\n   Scarborough\\n                                   Malvern, Rouge   \n2      M1C\\n   Scarborough\\n           Rouge Hill, Port Union, Highland Creek   \n3      M1E\\n   Scarborough\\n                Guildwood, Morningside, West Hill   \n4      M1G\\n   Scarborough\\n                                           Woburn   \n5      M1H\\n   Scarborough\\n                                        Cedarbrae   \n6      M1J\\n   Scarborough\\n                              Scarborough Village   \n7      M1K\\n   Scarborough\\n      Kennedy Park, Ionview, East Birchmount Park   \n8      M1L\\n   Scarborough\\n                  Golden Mile, Clairlea, Oakridge   \n9      M1M\\n   Scarborough\\n  Cliffside, Cliffcrest, Scarborough Village West   \n\n   Latitude  Longitude  \n0  43.64869  -79.38544  \n1  43.81139  -79.19662  \n2  43.78574  -79.15875  \n3  43.76575  -79.17470  \n4  43.76812  -79.21761  \n5  43.76944  -79.23892  \n6  43.74446  -79.23117  \n7  43.72582  -79.26461  \n8  43.71289  -79.28506  \n9  43.72360  -79.23496  ",
      "text/html": "<div>\n<style scoped>\n    .dataframe tbody tr th:only-of-type {\n        vertical-align: middle;\n    }\n\n    .dataframe tbody tr th {\n        vertical-align: top;\n    }\n\n    .dataframe thead th {\n        text-align: right;\n    }\n</style>\n<table border=\"1\" class=\"dataframe\">\n  <thead>\n    <tr style=\"text-align: right;\">\n      <th></th>\n      <th>Postalcode</th>\n      <th>Borough</th>\n      <th>Neighborhood</th>\n      <th>Latitude</th>\n      <th>Longitude</th>\n    </tr>\n  </thead>\n  <tbody>\n    <tr>\n      <th>0</th>\n      <td>M1A\\n</td>\n      <td>Not assigned\\n</td>\n      <td>Not assigned\\n</td>\n      <td>43.64869</td>\n      <td>-79.38544</td>\n    </tr>\n    <tr>\n      <th>1</th>\n      <td>M1B\\n</td>\n      <td>Scarborough\\n</td>\n      <td>Malvern, Rouge</td>\n      <td>43.81139</td>\n      <td>-79.19662</td>\n    </tr>\n    <tr>\n      <th>2</th>\n      <td>M1C\\n</td>\n      <td>Scarborough\\n</td>\n      <td>Rouge Hill, Port Union, Highland Creek</td>\n      <td>43.78574</td>\n      <td>-79.15875</td>\n    </tr>\n    <tr>\n      <th>3</th>\n      <td>M1E\\n</td>\n      <td>Scarborough\\n</td>\n      <td>Guildwood, Morningside, West Hill</td>\n      <td>43.76575</td>\n      <td>-79.17470</td>\n    </tr>\n    <tr>\n      <th>4</th>\n      <td>M1G\\n</td>\n      <td>Scarborough\\n</td>\n      <td>Woburn</td>\n      <td>43.76812</td>\n      <td>-79.21761</td>\n    </tr>\n    <tr>\n      <th>5</th>\n      <td>M1H\\n</td>\n      <td>Scarborough\\n</td>\n      <td>Cedarbrae</td>\n      <td>43.76944</td>\n      <td>-79.23892</td>\n    </tr>\n    <tr>\n      <th>6</th>\n      <td>M1J\\n</td>\n      <td>Scarborough\\n</td>\n      <td>Scarborough Village</td>\n      <td>43.74446</td>\n      <td>-79.23117</td>\n    </tr>\n    <tr>\n      <th>7</th>\n      <td>M1K\\n</td>\n      <td>Scarborough\\n</td>\n      <td>Kennedy Park, Ionview, East Birchmount Park</td>\n      <td>43.72582</td>\n      <td>-79.26461</td>\n    </tr>\n    <tr>\n      <th>8</th>\n      <td>M1L\\n</td>\n      <td>Scarborough\\n</td>\n      <td>Golden Mile, Clairlea, Oakridge</td>\n      <td>43.71289</td>\n      <td>-79.28506</td>\n    </tr>\n    <tr>\n      <th>9</th>\n      <td>M1M\\n</td>\n      <td>Scarborough\\n</td>\n      <td>Cliffside, Cliffcrest, Scarborough Village West</td>\n      <td>43.72360</td>\n      <td>-79.23496</td>\n    </tr>\n  </tbody>\n</table>\n</div>"
     },
     "execution_count": 72,
     "metadata": {},
     "output_type": "execute_result"
    }
   ],
   "source": [
    "df_2.head(10)\n"
   ],
   "metadata": {
    "collapsed": false,
    "pycharm": {
     "name": "#%%\n"
    }
   }
  },
  {
   "cell_type": "code",
   "execution_count": 73,
   "outputs": [
    {
     "name": "stdout",
     "output_type": "stream",
     "text": [
      "The Geograpical Co-ordinate of Seattle,Washington are 43.7729744, -79.2576479.\n"
     ]
    }
   ],
   "source": [
    "address = 'Scarborough,Toronto'\n",
    "\n",
    "geolocator = Nominatim(user_agent='suraj29may@gmail.com')\n",
    "location = geolocator.geocode(address)\n",
    "latitude_x = location.latitude\n",
    "longitude_y = location.longitude\n",
    "print('The Geograpical Co-ordinate of Seattle,Washington are {}, {}.'.format(latitude_x, longitude_y))"
   ],
   "metadata": {
    "collapsed": false,
    "pycharm": {
     "name": "#%%\n"
    }
   }
  },
  {
   "cell_type": "code",
   "execution_count": 74,
   "outputs": [
    {
     "data": {
      "text/plain": "<folium.folium.Map at 0x27af988af70>",
      "text/html": "<div style=\"width:100%;\"><div style=\"position:relative;width:100%;height:0;padding-bottom:60%;\"><span style=\"color:#565656\">Make this Notebook Trusted to load map: File -> Trust Notebook</span><iframe src=\"about:blank\" style=\"position:absolute;width:100%;height:100%;left:0;top:0;border:none !important;\" data-html=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 onload=\"this.contentDocument.open();this.contentDocument.write(atob(this.getAttribute('data-html')));this.contentDocument.close();\" allowfullscreen webkitallowfullscreen mozallowfullscreen></iframe></div></div>"
     },
     "execution_count": 74,
     "metadata": {},
     "output_type": "execute_result"
    }
   ],
   "source": [
    "map_Scarborough = folium.Map(location=[latitude_x, longitude_y], zoom_start=10)\n",
    "\n",
    "for lat, lng, nei in zip(df_2['Latitude'], df_2['Longitude'], df_2['Neighborhood']):\n",
    "\n",
    "    label = '{}'.format(nei)\n",
    "    label = folium.Popup(label, parse_html=True)\n",
    "    folium.CircleMarker(\n",
    "        [lat, lng],\n",
    "        radius=5,\n",
    "        popup=label,\n",
    "        color='blue',\n",
    "        fill=True,\n",
    "        fill_color='#3186cc',\n",
    "        fill_opacity=0.7,\n",
    "        parse_html=False).add_to(map_Scarborough)\n",
    "\n",
    "map_Scarborough"
   ],
   "metadata": {
    "collapsed": false,
    "pycharm": {
     "name": "#%%\n"
    }
   }
  },
  {
   "cell_type": "code",
   "execution_count": 75,
   "outputs": [
    {
     "name": "stdout",
     "output_type": "stream",
     "text": [
      "The Geograpical Co-ordinate of Neighborhood_1 are 43.7729744, -79.2576479.\n"
     ]
    }
   ],
   "source": [
    "address = 'Scarborough,Toronto'\n",
    "\n",
    "geolocator = Nominatim(user_agent='suraj29may@gmail.com')\n",
    "location = geolocator.geocode(address)\n",
    "latitude_n1 = location.latitude\n",
    "longitude_n1 = location.longitude\n",
    "print('The Geograpical Co-ordinate of Neighborhood_1 are {}, {}.'.format(latitude_x, longitude_y))"
   ],
   "metadata": {
    "collapsed": false,
    "pycharm": {
     "name": "#%%\n"
    }
   }
  },
  {
   "cell_type": "code",
   "execution_count": 76,
   "outputs": [
    {
     "name": "stdout",
     "output_type": "stream",
     "text": [
      "Your credentails:\n",
      "CLIENT_ID: XFLKHNWSRH3W21F3V04RCXUV02ODMWC1RFC3X5XTXBXY1TW2\n",
      "CLIENT_SECRET: 310NPCQNOSBNQPVNYB3XBPXH2ZL3KJMJBKQJP0NZLHBATTCU\n"
     ]
    }
   ],
   "source": [
    "# @hiddel_cell\n",
    "CLIENT_ID = 'XFLKHNWSRH3W21F3V04RCXUV02ODMWC1RFC3X5XTXBXY1TW2' # my Foursquare ID\n",
    "CLIENT_SECRET = '310NPCQNOSBNQPVNYB3XBPXH2ZL3KJMJBKQJP0NZLHBATTCU' # my Foursquare Secret\n",
    "VERSION = '20180604'\n",
    "LIMIT = 30\n",
    "print('Your credentails:')\n",
    "print('CLIENT_ID: '+CLIENT_ID)\n",
    "print('CLIENT_SECRET: '+CLIENT_SECRET)\n"
   ],
   "metadata": {
    "collapsed": false,
    "pycharm": {
     "name": "#%%\n"
    }
   }
  },
  {
   "cell_type": "code",
   "execution_count": 77,
   "outputs": [],
   "source": [
    "radius = 700\n",
    "LIMIT = 100\n",
    "url = 'https://api.foursquare.com/v2/venues/explore?&client_id={}&client_secret={}&v={}&ll={},{}&radius={}&limit={}'.format(\n",
    "    CLIENT_ID,\n",
    "    CLIENT_SECRET,\n",
    "    VERSION,\n",
    "    latitude_n1,\n",
    "   longitude_n1,\n",
    "    radius,\n",
    "   LIMIT)\n",
    "results = requests.get(url).json()"
   ],
   "metadata": {
    "collapsed": false,
    "pycharm": {
     "name": "#%%\n"
    }
   }
  },
  {
   "cell_type": "code",
   "execution_count": 78,
   "outputs": [
    {
     "data": {
      "text/plain": "Index(['referralId', 'reasons.count', 'reasons.items', 'venue.id',\n       'venue.name', 'venue.location.address', 'venue.location.crossStreet',\n       'venue.location.lat', 'venue.location.lng',\n       'venue.location.labeledLatLngs', 'venue.location.distance',\n       'venue.location.postalCode', 'venue.location.cc', 'venue.location.city',\n       'venue.location.state', 'venue.location.country',\n       'venue.location.formattedAddress', 'venue.categories',\n       'venue.photos.count', 'venue.photos.groups',\n       'venue.location.neighborhood', 'venue.venuePage.id'],\n      dtype='object')"
     },
     "execution_count": 78,
     "metadata": {},
     "output_type": "execute_result"
    }
   ],
   "source": [
    "venues=results['response']['groups'][0]['items']\n",
    "nearby_venues = json_normalize(venues)\n",
    "nearby_venues.columns\n"
   ],
   "metadata": {
    "collapsed": false,
    "pycharm": {
     "name": "#%%\n"
    }
   }
  },
  {
   "cell_type": "code",
   "execution_count": 79,
   "outputs": [],
   "source": [
    "def get_category_type(row):\n",
    "    try:\n",
    "        categories_list = row['categories']\n",
    "    except:\n",
    "        categories_list = row['venue.categories']\n",
    "\n",
    "    if len(categories_list) == 0:\n",
    "        return None\n",
    "    else:\n",
    "        return categories_list[0]['name']"
   ],
   "metadata": {
    "collapsed": false,
    "pycharm": {
     "name": "#%%\n"
    }
   }
  },
  {
   "cell_type": "code",
   "execution_count": 80,
   "outputs": [
    {
     "data": {
      "text/plain": "                 venue.name  \\\n0              Disney Store   \n1                   SEPHORA   \n2  St. Andrews Fish & Chips   \n3            Tommy Hilfiger   \n4    Chipotle Mexican Grill   \n\n                                    venue.categories  venue.location.lat  \\\n0  [{'id': '4bf58dd8d48988d1f3941735', 'name': 'T...           43.775537   \n1  [{'id': '4bf58dd8d48988d10c951735', 'name': 'C...           43.775017   \n2  [{'id': '4edd64a0c7ddd24ca188df1a', 'name': 'F...           43.771865   \n3  [{'id': '4bf58dd8d48988d103951735', 'name': 'C...           43.776015   \n4  [{'id': '4bf58dd8d48988d1c1941735', 'name': 'M...           43.776410   \n\n   venue.location.lng  \n0          -79.256833  \n1          -79.258109  \n2          -79.252645  \n3          -79.257369  \n4          -79.258069  ",
      "text/html": "<div>\n<style scoped>\n    .dataframe tbody tr th:only-of-type {\n        vertical-align: middle;\n    }\n\n    .dataframe tbody tr th {\n        vertical-align: top;\n    }\n\n    .dataframe thead th {\n        text-align: right;\n    }\n</style>\n<table border=\"1\" class=\"dataframe\">\n  <thead>\n    <tr style=\"text-align: right;\">\n      <th></th>\n      <th>venue.name</th>\n      <th>venue.categories</th>\n      <th>venue.location.lat</th>\n      <th>venue.location.lng</th>\n    </tr>\n  </thead>\n  <tbody>\n    <tr>\n      <th>0</th>\n      <td>Disney Store</td>\n      <td>[{'id': '4bf58dd8d48988d1f3941735', 'name': 'T...</td>\n      <td>43.775537</td>\n      <td>-79.256833</td>\n    </tr>\n    <tr>\n      <th>1</th>\n      <td>SEPHORA</td>\n      <td>[{'id': '4bf58dd8d48988d10c951735', 'name': 'C...</td>\n      <td>43.775017</td>\n      <td>-79.258109</td>\n    </tr>\n    <tr>\n      <th>2</th>\n      <td>St. Andrews Fish &amp; Chips</td>\n      <td>[{'id': '4edd64a0c7ddd24ca188df1a', 'name': 'F...</td>\n      <td>43.771865</td>\n      <td>-79.252645</td>\n    </tr>\n    <tr>\n      <th>3</th>\n      <td>Tommy Hilfiger</td>\n      <td>[{'id': '4bf58dd8d48988d103951735', 'name': 'C...</td>\n      <td>43.776015</td>\n      <td>-79.257369</td>\n    </tr>\n    <tr>\n      <th>4</th>\n      <td>Chipotle Mexican Grill</td>\n      <td>[{'id': '4bf58dd8d48988d1c1941735', 'name': 'M...</td>\n      <td>43.776410</td>\n      <td>-79.258069</td>\n    </tr>\n  </tbody>\n</table>\n</div>"
     },
     "execution_count": 80,
     "metadata": {},
     "output_type": "execute_result"
    }
   ],
   "source": [
    "filtered_columns = ['venue.name', 'venue.categories', 'venue.location.lat', 'venue.location.lng']\n",
    "nearby_venues =nearby_venues.loc[:, filtered_columns]\n",
    "nearby_venues.head()\n"
   ],
   "metadata": {
    "collapsed": false,
    "pycharm": {
     "name": "#%%\n"
    }
   }
  },
  {
   "cell_type": "code",
   "execution_count": 81,
   "outputs": [
    {
     "data": {
      "text/plain": "                       name          categories        lat        lng\n0              Disney Store    Toy / Game Store  43.775537 -79.256833\n1                   SEPHORA      Cosmetics Shop  43.775017 -79.258109\n2  St. Andrews Fish & Chips   Fish & Chips Shop  43.771865 -79.252645\n3            Tommy Hilfiger      Clothing Store  43.776015 -79.257369\n4    Chipotle Mexican Grill  Mexican Restaurant  43.776410 -79.258069",
      "text/html": "<div>\n<style scoped>\n    .dataframe tbody tr th:only-of-type {\n        vertical-align: middle;\n    }\n\n    .dataframe tbody tr th {\n        vertical-align: top;\n    }\n\n    .dataframe thead th {\n        text-align: right;\n    }\n</style>\n<table border=\"1\" class=\"dataframe\">\n  <thead>\n    <tr style=\"text-align: right;\">\n      <th></th>\n      <th>name</th>\n      <th>categories</th>\n      <th>lat</th>\n      <th>lng</th>\n    </tr>\n  </thead>\n  <tbody>\n    <tr>\n      <th>0</th>\n      <td>Disney Store</td>\n      <td>Toy / Game Store</td>\n      <td>43.775537</td>\n      <td>-79.256833</td>\n    </tr>\n    <tr>\n      <th>1</th>\n      <td>SEPHORA</td>\n      <td>Cosmetics Shop</td>\n      <td>43.775017</td>\n      <td>-79.258109</td>\n    </tr>\n    <tr>\n      <th>2</th>\n      <td>St. Andrews Fish &amp; Chips</td>\n      <td>Fish &amp; Chips Shop</td>\n      <td>43.771865</td>\n      <td>-79.252645</td>\n    </tr>\n    <tr>\n      <th>3</th>\n      <td>Tommy Hilfiger</td>\n      <td>Clothing Store</td>\n      <td>43.776015</td>\n      <td>-79.257369</td>\n    </tr>\n    <tr>\n      <th>4</th>\n      <td>Chipotle Mexican Grill</td>\n      <td>Mexican Restaurant</td>\n      <td>43.776410</td>\n      <td>-79.258069</td>\n    </tr>\n  </tbody>\n</table>\n</div>"
     },
     "execution_count": 81,
     "metadata": {},
     "output_type": "execute_result"
    }
   ],
   "source": [
    "nearby_venues['venue.categories'] = nearby_venues.apply(get_category_type, axis=1)\n",
    "\n",
    "# clean columns\n",
    "nearby_venues.columns = [col.split(\".\")[-1] for col in nearby_venues.columns]\n",
    "\n",
    "nearby_venues.head(5)\n"
   ],
   "metadata": {
    "collapsed": false,
    "pycharm": {
     "name": "#%%\n"
    }
   }
  },
  {
   "cell_type": "code",
   "execution_count": 82,
   "outputs": [
    {
     "data": {
      "text/plain": "Clothing Store       9\nRestaurant           4\nCoffee Shop          4\nElectronics Store    2\nGas Station          2\nDepartment Store     2\nPharmacy             2\nSandwich Place       2\nIntersection         2\nMovie Theater        1\nName: categories, dtype: int64"
     },
     "execution_count": 82,
     "metadata": {},
     "output_type": "execute_result"
    }
   ],
   "source": [
    "# Top 10 Categories\n",
    "a=pd.Series(nearby_venues.categories)\n",
    "a.value_counts()[:10]\n"
   ],
   "metadata": {
    "collapsed": false,
    "pycharm": {
     "name": "#%%\n"
    }
   }
  },
  {
   "cell_type": "code",
   "execution_count": 83,
   "outputs": [],
   "source": [
    "def getNearbyVenues(names, latitudes, longitudes, radius=700):\n",
    "\n",
    "    venues_list=[]\n",
    "    for name, lat, lng in zip(names, latitudes, longitudes):\n",
    "        print(name)\n",
    "\n",
    "        url = 'https://api.foursquare.com/v2/venues/explore?&client_id={}&client_secret={}&v={}&ll={},{}&radius={}&limit={}'.format(\n",
    "            CLIENT_ID,\n",
    "            CLIENT_SECRET,\n",
    "            VERSION,\n",
    "            lat,\n",
    "            lng,\n",
    "            radius,\n",
    "            LIMIT)\n",
    "\n",
    "        # making GET request\n",
    "        venue_results = requests.get(url).json()[\"response\"]['groups'][0]['items']\n",
    "\n",
    "        # return only relevant information for each nearby venue\n",
    "        venues_list.append([(\n",
    "            name,\n",
    "            lat,\n",
    "            lng,\n",
    "            v['venue']['name'],\n",
    "            v['venue']['location']['lat'],\n",
    "            v['venue']['location']['lng'],\n",
    "            v['venue']['categories'][0]['name']) for v in venue_results])\n",
    "\n",
    "    nearby_venues = pd.DataFrame([item for venue_list in venues_list for item in venue_list])\n",
    "    nearby_venues.columns = ['Neighborhood',\n",
    "                  'Neighborhood Latitude',\n",
    "                  'Neighborhood Longitude',\n",
    "                  'Venue',\n",
    "                  'Venue Latitude',\n",
    "                  'Venue Longitude',\n",
    "                  'Venue Category']\n",
    "\n",
    "    return(nearby_venues)"
   ],
   "metadata": {
    "collapsed": false,
    "pycharm": {
     "name": "#%%\n"
    }
   }
  },
  {
   "cell_type": "code",
   "execution_count": 84,
   "outputs": [
    {
     "name": "stdout",
     "output_type": "stream",
     "text": [
      "Not assigned\n",
      "\n",
      "Malvern, Rouge\n",
      "Rouge Hill, Port Union, Highland Creek\n",
      "Guildwood, Morningside, West Hill\n",
      "Woburn\n",
      "Cedarbrae\n",
      "Scarborough Village\n",
      "Kennedy Park, Ionview, East Birchmount Park\n",
      "Golden Mile, Clairlea, Oakridge\n",
      "Cliffside, Cliffcrest, Scarborough Village West\n",
      "Birch Cliff, Cliffside West\n",
      "Dorset Park, Wexford Heights, Scarborough Town Centre\n",
      "Wexford, Maryvale\n",
      "Agincourt\n",
      "Clarks Corners, Tam O'Shanter, Sullivan\n",
      "Milliken, Agincourt North, Steeles East, L'Amoreaux East\n",
      "Steeles West, L'Amoreaux West\n",
      "Upper Rouge\n",
      "Not assigned\n",
      "\n",
      "Not assigned\n",
      "\n",
      "Not assigned\n",
      "\n",
      "Not assigned\n",
      "\n",
      "Not assigned\n",
      "\n",
      "Not assigned\n",
      "\n",
      "Not assigned\n",
      "\n",
      "Hillcrest Village\n",
      "Fairview, Henry Farm, Oriole\n",
      "Bayview Village\n",
      "York Mills, Silver Hills\n",
      "Willowdale, Newtonbrook\n",
      "Willowdale, Willowdale East\n",
      "York Mills West\n",
      "Willowdale, Willowdale West\n",
      "Not assigned\n",
      "\n",
      "Not assigned\n",
      "\n",
      "Not assigned\n",
      "\n",
      "Not assigned\n",
      "\n",
      "Not assigned\n",
      "\n",
      "Not assigned\n",
      "\n",
      "Not assigned\n",
      "\n",
      "Parkwoods\n",
      "Don Mills\n",
      "Don Mills\n",
      "Not assigned\n",
      "\n",
      "Not assigned\n",
      "\n",
      "Bathurst Manor, Wilson Heights, Downsview North\n",
      "Northwood Park, York University\n",
      "Downsview\n",
      "Downsview\n",
      "Downsview\n",
      "Downsview\n",
      "Not assigned\n",
      "\n",
      "Not assigned\n",
      "\n",
      "Not assigned\n",
      "\n",
      "Not assigned\n",
      "\n",
      "Not assigned\n",
      "\n",
      "Not assigned\n",
      "\n",
      "Not assigned\n",
      "\n",
      "Not assigned\n",
      "\n",
      "Not assigned\n",
      "\n",
      "Victoria Village\n",
      "Parkview Hill, Woodbine Gardens\n",
      "Woodbine Heights\n",
      "The Beaches\n",
      "Leaside\n",
      "Thorncliffe Park\n",
      "East Toronto, Broadview North (Old East York)\n",
      "The Danforth West, Riverdale\n",
      "India Bazaar, The Beaches West\n",
      "Studio District\n",
      "Lawrence Park\n",
      "Davisville North\n",
      "North Toronto West,  Lawrence Park\n",
      "Davisville\n",
      "Moore Park, Summerhill East\n",
      "Summerhill West, Rathnelly, South Hill, Forest Hill SE, Deer Park\n",
      "Rosedale\n",
      "St. James Town, Cabbagetown\n",
      "Church and Wellesley\n",
      "Not assigned\n",
      "\n",
      "Regent Park, Harbourfront\n",
      "Garden District, Ryerson\n",
      "St. James Town\n",
      "Berczy Park\n",
      "Central Bay Street\n",
      "Richmond, Adelaide, King\n",
      "Harbourfront East, Union Station, Toronto Islands\n",
      "Toronto Dominion Centre, Design Exchange\n",
      "Commerce Court, Victoria Hotel\n",
      "Bedford Park, Lawrence Manor East\n",
      "Roselawn\n",
      "Forest Hill North & West, Forest Hill Road Park\n",
      "The Annex, North Midtown, Yorkville\n",
      "University of Toronto, Harbord\n",
      "Kensington Market, Chinatown, Grange Park\n",
      "CN Tower, King and Spadina, Railway Lands, Harbourfront West, Bathurst Quay, South Niagara, Island airport\n",
      "Stn A PO Boxes\n",
      "First Canadian Place, Underground city\n",
      "Not assigned\n",
      "\n",
      "Not assigned\n",
      "\n",
      "Lawrence Manor, Lawrence Heights\n",
      "Glencairn\n",
      "Humewood-Cedarvale\n",
      "Caledonia-Fairbanks\n",
      "Christie\n",
      "Dufferin, Dovercourt Village\n",
      "Little Portugal, Trinity\n",
      "Brockton, Parkdale Village, Exhibition Place\n",
      "North Park, Maple Leaf Park, Upwood Park\n",
      "Del Ray, Mount Dennis, Keelsdale and Silverthorn\n",
      "Runnymede, The Junction North\n",
      "High Park, The Junction South\n",
      "Parkdale, Roncesvalles\n",
      "Runnymede, Swansea\n",
      "Not assigned\n",
      "\n",
      "Not assigned\n",
      "\n",
      "Not assigned\n",
      "\n",
      "Not assigned\n",
      "\n",
      "Not assigned\n",
      "\n",
      "Not assigned\n",
      "\n",
      "Queen's Park, Ontario Provincial Government\n",
      "Not assigned\n",
      "\n",
      "Not assigned\n",
      "\n",
      "Not assigned\n",
      "\n",
      "Not assigned\n",
      "\n",
      "Not assigned\n",
      "\n",
      "Not assigned\n",
      "\n",
      "Not assigned\n",
      "\n",
      "Not assigned\n",
      "\n",
      "Not assigned\n",
      "\n",
      "Not assigned\n",
      "\n",
      "Not assigned\n",
      "\n",
      "Canada Post Gateway Processing Centre\n",
      "Not assigned\n",
      "\n",
      "Not assigned\n",
      "\n",
      "Not assigned\n",
      "\n",
      "Not assigned\n",
      "\n",
      "Not assigned\n",
      "\n",
      "Business reply mail Processing Centre, South Central Letter Processing Plant Toronto\n",
      "Not assigned\n",
      "\n",
      "Not assigned\n",
      "\n",
      "Not assigned\n",
      "\n",
      "Not assigned\n",
      "\n",
      "Not assigned\n",
      "\n",
      "Not assigned\n",
      "\n",
      "Not assigned\n",
      "\n",
      "Not assigned\n",
      "\n",
      "Not assigned\n",
      "\n",
      "Not assigned\n",
      "\n",
      "Not assigned\n",
      "\n",
      "Not assigned\n",
      "\n",
      "Not assigned\n",
      "\n",
      "Not assigned\n",
      "\n",
      "Not assigned\n",
      "\n",
      "Not assigned\n",
      "\n",
      "New Toronto, Mimico South, Humber Bay Shores\n",
      "Alderwood, Long Branch\n",
      "The Kingsway, Montgomery Road, Old Mill North\n",
      "Old Mill South, King's Mill Park, Sunnylea, Humber Bay, Mimico NE, The Queensway East, Royal York South East, Kingsway Park South East\n",
      "Mimico NW, The Queensway West, South of Bloor, Kingsway Park South West, Royal York South West\n",
      "Islington Avenue, Humber Valley Village\n",
      "West Deane Park, Princess Gardens, Martin Grove, Islington, Cloverdale\n",
      "Eringate, Bloordale Gardens, Old Burnhamthorpe, Markland Wood\n",
      "Not assigned\n",
      "\n",
      "Not assigned\n",
      "\n",
      "Not assigned\n",
      "\n",
      "Not assigned\n",
      "\n",
      "Not assigned\n",
      "\n",
      "Humber Summit\n",
      "Humberlea, Emery\n",
      "Weston\n",
      "Westmount\n",
      "Kingsview Village, St. Phillips, Martin Grove Gardens, Richview Gardens\n",
      "Not assigned\n",
      "\n",
      "Not assigned\n",
      "\n",
      "South Steeles, Silverstone, Humbergate, Jamestown, Mount Olive, Beaumond Heights, Thistletown, Albion Gardens\n",
      "Northwest, West Humber - Clairville\n",
      "Not assigned\n",
      "\n",
      "Not assigned\n",
      "\n",
      "Not assigned\n",
      "\n"
     ]
    }
   ],
   "source": [
    "# Nearby Venues\n",
    "Scarborough_venues = getNearbyVenues(names=df_2['Neighborhood'],\n",
    "                                   latitudes=df_2['Latitude'],\n",
    "                                   longitudes=df_2['Longitude']\n",
    "                                  )\n"
   ],
   "metadata": {
    "collapsed": false,
    "pycharm": {
     "name": "#%%\n"
    }
   }
  },
  {
   "cell_type": "code",
   "execution_count": 85,
   "outputs": [
    {
     "name": "stdout",
     "output_type": "stream",
     "text": [
      "There are 306 Uniques Categories.\n"
     ]
    },
    {
     "data": {
      "text/plain": "                                                 Neighborhood Latitude  \\\nNeighborhood                                                             \nAgincourt                                                           21   \nAlderwood, Long Branch                                               8   \nBathurst Manor, Wilson Heights, Downsview North                     16   \nBayview Village                                                      5   \nBedford Park, Lawrence Manor East                                   27   \n\n                                                 Neighborhood Longitude  \\\nNeighborhood                                                              \nAgincourt                                                            21   \nAlderwood, Long Branch                                                8   \nBathurst Manor, Wilson Heights, Downsview North                      16   \nBayview Village                                                       5   \nBedford Park, Lawrence Manor East                                    27   \n\n                                                 Venue  Venue Latitude  \\\nNeighborhood                                                             \nAgincourt                                           21              21   \nAlderwood, Long Branch                               8               8   \nBathurst Manor, Wilson Heights, Downsview North     16              16   \nBayview Village                                      5               5   \nBedford Park, Lawrence Manor East                   27              27   \n\n                                                 Venue Longitude  \\\nNeighborhood                                                       \nAgincourt                                                     21   \nAlderwood, Long Branch                                         8   \nBathurst Manor, Wilson Heights, Downsview North               16   \nBayview Village                                                5   \nBedford Park, Lawrence Manor East                             27   \n\n                                                 Venue Category  \nNeighborhood                                                     \nAgincourt                                                    21  \nAlderwood, Long Branch                                        8  \nBathurst Manor, Wilson Heights, Downsview North              16  \nBayview Village                                               5  \nBedford Park, Lawrence Manor East                            27  ",
      "text/html": "<div>\n<style scoped>\n    .dataframe tbody tr th:only-of-type {\n        vertical-align: middle;\n    }\n\n    .dataframe tbody tr th {\n        vertical-align: top;\n    }\n\n    .dataframe thead th {\n        text-align: right;\n    }\n</style>\n<table border=\"1\" class=\"dataframe\">\n  <thead>\n    <tr style=\"text-align: right;\">\n      <th></th>\n      <th>Neighborhood Latitude</th>\n      <th>Neighborhood Longitude</th>\n      <th>Venue</th>\n      <th>Venue Latitude</th>\n      <th>Venue Longitude</th>\n      <th>Venue Category</th>\n    </tr>\n    <tr>\n      <th>Neighborhood</th>\n      <th></th>\n      <th></th>\n      <th></th>\n      <th></th>\n      <th></th>\n      <th></th>\n    </tr>\n  </thead>\n  <tbody>\n    <tr>\n      <th>Agincourt</th>\n      <td>21</td>\n      <td>21</td>\n      <td>21</td>\n      <td>21</td>\n      <td>21</td>\n      <td>21</td>\n    </tr>\n    <tr>\n      <th>Alderwood, Long Branch</th>\n      <td>8</td>\n      <td>8</td>\n      <td>8</td>\n      <td>8</td>\n      <td>8</td>\n      <td>8</td>\n    </tr>\n    <tr>\n      <th>Bathurst Manor, Wilson Heights, Downsview North</th>\n      <td>16</td>\n      <td>16</td>\n      <td>16</td>\n      <td>16</td>\n      <td>16</td>\n      <td>16</td>\n    </tr>\n    <tr>\n      <th>Bayview Village</th>\n      <td>5</td>\n      <td>5</td>\n      <td>5</td>\n      <td>5</td>\n      <td>5</td>\n      <td>5</td>\n    </tr>\n    <tr>\n      <th>Bedford Park, Lawrence Manor East</th>\n      <td>27</td>\n      <td>27</td>\n      <td>27</td>\n      <td>27</td>\n      <td>27</td>\n      <td>27</td>\n    </tr>\n  </tbody>\n</table>\n</div>"
     },
     "execution_count": 85,
     "metadata": {},
     "output_type": "execute_result"
    }
   ],
   "source": [
    "print('There are {} Uniques Categories.'.format(len(Scarborough_venues['Venue Category'].unique())))\n",
    "Scarborough_venues.groupby('Neighborhood').count().head()\n"
   ],
   "metadata": {
    "collapsed": false,
    "pycharm": {
     "name": "#%%\n"
    }
   }
  },
  {
   "cell_type": "code",
   "execution_count": 86,
   "outputs": [
    {
     "data": {
      "text/plain": "   Zoo Exhibit  Accessories Store  Adult Boutique  African Restaurant  \\\n0            0                  0               0                   0   \n1            0                  0               0                   0   \n2            0                  0               0                   0   \n3            0                  0               0                   0   \n4            0                  0               0                   0   \n\n   Airport  American Restaurant  Animal Shelter  Antique Shop  Aquarium  \\\n0        0                    0               0             0         0   \n1        0                    0               0             0         0   \n2        0                    0               0             0         0   \n3        0                    0               0             0         0   \n4        0                    0               0             0         0   \n\n   Art Gallery  Art Museum  Arts & Crafts Store  Asian Restaurant  \\\n0            0           0                    0                 0   \n1            0           0                    0                 0   \n2            0           0                    0                 0   \n3            0           0                    0                 0   \n4            0           0                    0                 0   \n\n   Athletics & Sports  Auto Dealership  Automotive Shop  BBQ Joint  \\\n0                   0                0                0          0   \n1                   0                0                0          0   \n2                   0                0                0          0   \n3                   0                0                0          0   \n4                   0                0                0          0   \n\n   Baby Store  Badminton Court  Bagel Shop  Bakery  Bank  Bar  Baseball Field  \\\n0           0                0           0       0     0    0               0   \n1           0                0           0       0     0    0               0   \n2           0                0           0       0     0    0               0   \n3           0                0           0       0     0    0               0   \n4           0                0           0       0     0    0               0   \n\n   Baseball Stadium  Basketball Stadium  Beach  Beach Bar  Beer Bar  \\\n0                 0                   0      0          0         0   \n1                 0                   0      0          0         0   \n2                 0                   0      0          0         0   \n3                 0                   0      0          0         0   \n4                 0                   0      0          0         0   \n\n   Beer Store  Belgian Restaurant  Big Box Store  Bike Rental / Bike Share  \\\n0           0                   0              0                         0   \n1           0                   0              0                         0   \n2           0                   0              0                         0   \n3           0                   0              0                         0   \n4           0                   0              0                         0   \n\n   Bike Shop  Bistro  Board Shop  Boat or Ferry  Bookstore  Botanical Garden  \\\n0          0       0           0              0          0                 0   \n1          0       0           0              0          0                 0   \n2          0       0           0              0          0                 0   \n3          0       0           0              0          0                 0   \n4          0       0           0              0          0                 0   \n\n   Boutique  Brazilian Restaurant  Breakfast Spot  Brewery  Bridge  \\\n0         0                     0               0        0       0   \n1         0                     0               0        0       0   \n2         0                     0               0        0       0   \n3         0                     0               0        0       0   \n4         0                     0               0        0       0   \n\n   Bubble Tea Shop  Buffet  Building  Burger Joint  Burrito Place  Bus Line  \\\n0                0       0         0             0              0         0   \n1                0       0         0             0              0         0   \n2                0       0         0             0              0         0   \n3                0       0         0             0              0         0   \n4                0       0         0             0              0         0   \n\n   Bus Station  Bus Stop  Business Service  Butcher  Café  \\\n0            0         0                 0        0     0   \n1            0         0                 0        0     0   \n2            0         0                 0        0     0   \n3            0         0                 0        0     0   \n4            0         0                 0        0     0   \n\n   Cajun / Creole Restaurant  Camera Store  Candy Store  Cantonese Restaurant  \\\n0                          0             0            0                     0   \n1                          0             0            0                     0   \n2                          0             0            0                     0   \n3                          0             0            0                     0   \n4                          0             0            0                     0   \n\n   Caribbean Restaurant  Castle  Cemetery  Cheese Shop  Chinese Restaurant  \\\n0                     0       0         0            0                   0   \n1                     0       0         0            0                   0   \n2                     0       0         0            0                   0   \n3                     0       0         0            0                   0   \n4                     0       0         0            0                   0   \n\n   Chiropractor  Chocolate Shop  Church  Clothing Store  Cocktail Bar  \\\n0             0               0       0               0             0   \n1             0               0       0               0             0   \n2             0               0       0               0             0   \n3             0               0       0               0             0   \n4             0               0       0               0             0   \n\n   Coffee Shop  College Arts Building  College Gym  College Rec Center  \\\n0            0                      0            0                   0   \n1            0                      0            0                   0   \n2            0                      0            0                   0   \n3            0                      0            0                   0   \n4            0                      0            0                   0   \n\n   College Stadium  College Theater  Comedy Club  Comfort Food Restaurant  \\\n0                0                0            0                        0   \n1                0                0            0                        0   \n2                0                0            0                        0   \n3                0                0            0                        0   \n4                0                0            0                        0   \n\n   Comic Shop  Concert Hall  Construction & Landscaping  Convenience Store  \\\n0           0             0                           0                  0   \n1           0             1                           0                  0   \n2           0             0                           0                  0   \n3           0             0                           0                  0   \n4           0             0                           0                  0   \n\n   Cosmetics Shop  Creperie  Cuban Restaurant  Cupcake Shop  Curling Ice  \\\n0               0         0                 0             0            0   \n1               0         0                 0             0            0   \n2               0         0                 0             0            0   \n3               0         0                 0             0            0   \n4               0         0                 0             0            0   \n\n   Dance Studio  Deli / Bodega  Department Store  Design Studio  Dessert Shop  \\\n0             0              0                 0              0             0   \n1             0              0                 0              0             0   \n2             0              0                 0              0             0   \n3             0              0                 0              0             0   \n4             0              0                 0              0             0   \n\n   Dim Sum Restaurant  Diner  Discount Store  Distribution Center  Dive Bar  \\\n0                   0      0               0                    0         0   \n1                   0      0               0                    0         0   \n2                   0      0               0                    0         0   \n3                   0      0               0                    0         0   \n4                   0      0               0                    0         0   \n\n   Dog Run  Doner Restaurant  Donut Shop  Dry Cleaner  Dumpling Restaurant  \\\n0        0                 0           0            0                    0   \n1        0                 0           0            0                    0   \n2        0                 0           0            0                    0   \n3        0                 0           0            0                    0   \n4        0                 0           0            0                    0   \n\n   Eastern European Restaurant  Electronics Store  Escape Room  \\\n0                            0                  0            0   \n1                            0                  0            0   \n2                            0                  0            0   \n3                            0                  0            0   \n4                            0                  0            0   \n\n   Ethiopian Restaurant  Event Space  Falafel Restaurant  Farm  \\\n0                     0            0                   0     0   \n1                     0            0                   0     0   \n2                     0            0                   0     0   \n3                     0            0                   0     0   \n4                     0            0                   0     0   \n\n   Farmers Market  Fast Food Restaurant  Field  Filipino Restaurant  \\\n0               0                     0      0                    0   \n1               0                     0      0                    0   \n2               0                     0      0                    0   \n3               0                     0      0                    0   \n4               0                     0      0                    0   \n\n   Financial or Legal Service  Fish & Chips Shop  Fish Market  Flea Market  \\\n0                           0                  0            0            0   \n1                           0                  0            0            0   \n2                           0                  0            0            0   \n3                           0                  0            0            0   \n4                           0                  0            0            0   \n\n   Flower Shop  Food  Food & Drink Shop  Food Court  Food Truck  Fountain  \\\n0            0     0                  0           0           0         0   \n1            0     0                  0           0           0         0   \n2            0     0                  0           0           0         0   \n3            0     0                  0           0           0         0   \n4            0     0                  0           0           0         0   \n\n   French Restaurant  Fried Chicken Joint  Frozen Yogurt Shop  \\\n0                  0                    0                   0   \n1                  0                    0                   0   \n2                  0                    0                   0   \n3                  0                    0                   0   \n4                  0                    0                   0   \n\n   Furniture / Home Store  Gaming Cafe  Garden  Gas Station  Gastropub  \\\n0                       0            0       0            0          0   \n1                       0            0       0            0          0   \n2                       0            0       0            0          0   \n3                       0            0       0            0          0   \n4                       0            0       0            0          0   \n\n   Gay Bar  General Entertainment  General Travel  German Restaurant  \\\n0        0                      0               0                  0   \n1        0                      0               0                  0   \n2        0                      0               0                  0   \n3        0                      0               0                  0   \n4        0                      0               0                  0   \n\n   Gift Shop  Golf Course  Gourmet Shop  Greek Restaurant  Grocery Store  Gym  \\\n0          0            0             0                 0              0    0   \n1          0            0             0                 0              0    0   \n2          0            0             0                 0              0    0   \n3          0            0             0                 0              0    0   \n4          0            0             0                 0              0    0   \n\n   Gym / Fitness Center  Gym Pool  Gymnastics Gym  Hakka Restaurant  \\\n0                     0         0               0                 0   \n1                     0         0               0                 0   \n2                     0         0               0                 0   \n3                     0         0               0                 0   \n4                     0         0               0                 0   \n\n   Hardware Store  Hawaiian Restaurant  Health & Beauty Service  \\\n0               0                    0                        0   \n1               0                    0                        0   \n2               0                    0                        0   \n3               0                    0                        0   \n4               0                    0                        0   \n\n   Health Food Store  Historic Site  History Museum  Hobby Shop  Hockey Arena  \\\n0                  0              0               0           0             0   \n1                  0              0               0           0             0   \n2                  0              0               0           0             0   \n3                  0              0               0           0             0   \n4                  0              0               0           0             0   \n\n   Home Service  Hong Kong Restaurant  Hookah Bar  Hostel  Hot Dog Joint  \\\n0             0                     0           0       0              0   \n1             0                     0           0       0              0   \n2             0                     0           0       0              0   \n3             0                     0           0       0              0   \n4             0                     0           0       0              0   \n\n   Hotel  Hotel Bar  Housing Development  IT Services  Ice Cream Shop  \\\n0      1          0                    0            0               0   \n1      0          0                    0            0               0   \n2      0          0                    0            0               0   \n3      0          0                    0            0               0   \n4      0          0                    0            0               0   \n\n   Indian Restaurant  Indie Movie Theater  Indoor Play Area  Insurance Office  \\\n0                  0                    0                 0                 0   \n1                  0                    0                 0                 0   \n2                  0                    0                 0                 0   \n3                  0                    0                 0                 0   \n4                  0                    0                 0                 0   \n\n   Intersection  Irish Pub  Italian Restaurant  Japanese Restaurant  \\\n0             0          0                   0                    0   \n1             0          0                   0                    0   \n2             0          0                   0                    0   \n3             0          0                   0                    0   \n4             0          0                   0                    0   \n\n   Jazz Club  Jewelry Store  Jewish Restaurant  Juice Bar  Karaoke Bar  \\\n0          0              0                  0          0            0   \n1          0              0                  0          0            0   \n2          0              0                  0          0            0   \n3          0              0                  0          0            0   \n4          0              0                  0          0            0   \n\n   Kitchen Supply Store  Korean Restaurant  Lake  Latin American Restaurant  \\\n0                     0                  0     0                          0   \n1                     0                  0     0                          0   \n2                     0                  0     0                          0   \n3                     0                  0     0                          0   \n4                     0                  0     0                          0   \n\n   Leather Goods Store  Library  Light Rail Station  Lingerie Store  \\\n0                    0        0                   0               0   \n1                    0        0                   0               0   \n2                    0        0                   0               0   \n3                    0        0                   0               0   \n4                    0        0                   0               0   \n\n   Liquor Store  Lounge  Market  Martial Arts School  Massage Studio  \\\n0             0       0       0                    0               0   \n1             0       0       0                    0               0   \n2             0       0       0                    0               0   \n3             0       0       0                    0               0   \n4             0       0       0                    0               0   \n\n   Mattress Store  Mediterranean Restaurant  Men's Store  Metro Station  \\\n0               0                         0            0              0   \n1               0                         0            0              0   \n2               0                         0            0              0   \n3               0                         0            0              0   \n4               0                         1            0              0   \n\n   Mexican Restaurant  Middle Eastern Restaurant  Miscellaneous Shop  \\\n0                   0                          0                   0   \n1                   0                          0                   0   \n2                   0                          0                   0   \n3                   0                          0                   0   \n4                   0                          0                   0   \n\n   Mobile Phone Shop  Modern European Restaurant  \\\n0                  0                           0   \n1                  0                           0   \n2                  0                           0   \n3                  0                           0   \n4                  0                           0   \n\n   Molecular Gastronomy Restaurant  Monument / Landmark  Movie Theater  \\\n0                                0                    0              0   \n1                                0                    0              0   \n2                                0                    0              0   \n3                                0                    0              0   \n4                                0                    0              0   \n\n   Moving Target  Museum  Music Store  Music Venue    Neighborhood  \\\n0              0       0            0            0  Not assigned\\n   \n1              0       0            0            0  Not assigned\\n   \n2              0       0            0            0  Not assigned\\n   \n3              0       0            0            0  Not assigned\\n   \n4              0       0            0            0  Not assigned\\n   \n\n   New American Restaurant  Nightclub  Noodle House  Office  Opera House  \\\n0                        0          0             0       0            0   \n1                        0          0             0       0            0   \n2                        0          0             0       0            0   \n3                        0          0             0       0            0   \n4                        0          0             0       0            0   \n\n   Optical Shop  Organic Grocery  Other Great Outdoors  Outdoor Sculpture  \\\n0             0                0                     0                  0   \n1             0                0                     0                  0   \n2             0                0                     0                  0   \n3             0                0                     0                  0   \n4             0                0                     0                  0   \n\n   Paper / Office Supplies Store  Park  Pastry Shop  Performing Arts Venue  \\\n0                              0     0            0                      0   \n1                              0     0            0                      0   \n2                              0     0            0                      0   \n3                              0     0            0                      0   \n4                              0     0            0                      0   \n\n   Peruvian Restaurant  Pet Store  Pharmacy  Photography Studio  Pie Shop  \\\n0                    0          0         0                   0         0   \n1                    0          0         0                   0         0   \n2                    0          0         0                   0         0   \n3                    0          0         0                   0         0   \n4                    0          0         0                   0         0   \n\n   Pizza Place  Platform  Playground  Plaza  Poke Place  Pool  Pool Hall  \\\n0            0         0           0      0           0     0          0   \n1            0         0           0      0           0     0          0   \n2            0         0           0      0           0     0          0   \n3            0         0           0      0           0     0          0   \n4            0         0           0      0           0     0          0   \n\n   Portuguese Restaurant  Poutine Place  Print Shop  Pub  Ramen Restaurant  \\\n0                      0              0           0    0                 0   \n1                      0              0           0    0                 0   \n2                      0              0           0    0                 0   \n3                      0              0           0    0                 0   \n4                      0              0           0    0                 0   \n\n   Record Shop  Rental Car Location  Residential Building (Apartment / Condo)  \\\n0            0                    0                                         0   \n1            0                    0                                         0   \n2            0                    0                                         0   \n3            0                    0                                         0   \n4            0                    0                                         0   \n\n   Restaurant  Rock Climbing Spot  Rock Club  Roof Deck  Sake Bar  \\\n0           0                   0          0          0         0   \n1           0                   0          0          0         0   \n2           0                   0          0          0         0   \n3           0                   0          0          0         0   \n4           0                   0          0          0         0   \n\n   Salad Place  Salon / Barbershop  Sandwich Place  Scenic Lookout  School  \\\n0            0                   0               0               0       0   \n1            0                   0               0               0       0   \n2            0                   0               0               0       0   \n3            0                   0               0               0       0   \n4            0                   0               0               0       0   \n\n   Science Museum  Sculpture Garden  Seafood Restaurant  Shoe Store  \\\n0               0                 0                   0           0   \n1               0                 0                   0           0   \n2               0                 0                   0           0   \n3               0                 0                   0           0   \n4               0                 0                   0           0   \n\n   Shopping Mall  Skate Park  Skating Rink  Smoke Shop  Smoothie Shop  \\\n0              0           0             0           0              0   \n1              0           0             0           0              0   \n2              0           0             0           0              0   \n3              0           0             0           0              0   \n4              0           0             0           0              0   \n\n   Snack Place  Soccer Field  Soccer Stadium  Soup Place  Souvlaki Shop  Spa  \\\n0            0             0               0           0              0    0   \n1            0             0               0           0              0    0   \n2            0             0               0           0              0    0   \n3            0             0               0           0              0    0   \n4            0             0               0           0              0    0   \n\n   Spanish Restaurant  Speakeasy  Sporting Goods Shop  Sports Bar  \\\n0                   0          0                    0           0   \n1                   0          0                    0           0   \n2                   0          1                    0           0   \n3                   0          0                    0           0   \n4                   0          0                    0           0   \n\n   Sports Club  Sri Lankan Restaurant  Stationery Store  Steakhouse  \\\n0            0                      0                 0           0   \n1            0                      0                 0           0   \n2            0                      0                 0           0   \n3            0                      0                 0           0   \n4            0                      0                 0           0   \n\n   Storage Facility  Street Art  Supermarket  Sushi Restaurant  Taco Place  \\\n0                 0           0            0                 0           0   \n1                 0           0            0                 0           0   \n2                 0           0            0                 0           0   \n3                 0           0            0                 0           0   \n4                 0           0            0                 0           0   \n\n   Tailor Shop  Taiwanese Restaurant  Tanning Salon  Tapas Restaurant  \\\n0            0                     0              0                 0   \n1            0                     0              0                 0   \n2            0                     0              0                 0   \n3            0                     0              0                 0   \n4            0                     0              0                 0   \n\n   Tea Room  Tech Startup  Tennis Court  Thai Restaurant  Theater  \\\n0         0             0             0                0        0   \n1         0             0             0                0        0   \n2         0             0             0                0        0   \n3         0             0             0                1        0   \n4         0             0             0                0        0   \n\n   Theme Park Ride / Attraction  Theme Restaurant  Thrift / Vintage Store  \\\n0                             0                 0                       0   \n1                             0                 0                       0   \n2                             0                 0                       0   \n3                             0                 0                       0   \n4                             0                 0                       0   \n\n   Toy / Game Store  Track  Trail  Train Station  Tram Station  \\\n0                 0      0      0              0             0   \n1                 0      0      0              0             0   \n2                 0      0      0              0             0   \n3                 0      0      0              0             0   \n4                 0      0      0              0             0   \n\n   Turkish Restaurant  Udon Restaurant  University  \\\n0                   0                0           0   \n1                   0                0           0   \n2                   0                0           0   \n3                   0                0           0   \n4                   0                0           0   \n\n   Vegetarian / Vegan Restaurant  Video Game Store  Video Store  \\\n0                              0                 0            0   \n1                              0                 0            0   \n2                              0                 0            0   \n3                              0                 0            0   \n4                              0                 0            0   \n\n   Vietnamese Restaurant  Warehouse Store  Wine Bar  Wine Shop  Wings Joint  \\\n0                      0                0         0          0            0   \n1                      0                0         0          0            0   \n2                      0                0         0          0            0   \n3                      0                0         0          0            0   \n4                      0                0         0          0            0   \n\n   Women's Store  Yoga Studio  \n0              0            0  \n1              0            0  \n2              0            0  \n3              0            0  \n4              0            0  ",
      "text/html": "<div>\n<style scoped>\n    .dataframe tbody tr th:only-of-type {\n        vertical-align: middle;\n    }\n\n    .dataframe tbody tr th {\n        vertical-align: top;\n    }\n\n    .dataframe thead th {\n        text-align: right;\n    }\n</style>\n<table border=\"1\" class=\"dataframe\">\n  <thead>\n    <tr style=\"text-align: right;\">\n      <th></th>\n      <th>Zoo Exhibit</th>\n      <th>Accessories Store</th>\n      <th>Adult Boutique</th>\n      <th>African Restaurant</th>\n      <th>Airport</th>\n      <th>American Restaurant</th>\n      <th>Animal Shelter</th>\n      <th>Antique Shop</th>\n      <th>Aquarium</th>\n      <th>Art Gallery</th>\n      <th>Art Museum</th>\n      <th>Arts &amp; Crafts Store</th>\n      <th>Asian Restaurant</th>\n      <th>Athletics &amp; Sports</th>\n      <th>Auto Dealership</th>\n      <th>Automotive Shop</th>\n      <th>BBQ Joint</th>\n      <th>Baby Store</th>\n      <th>Badminton Court</th>\n      <th>Bagel Shop</th>\n      <th>Bakery</th>\n      <th>Bank</th>\n      <th>Bar</th>\n      <th>Baseball Field</th>\n      <th>Baseball Stadium</th>\n      <th>Basketball Stadium</th>\n      <th>Beach</th>\n      <th>Beach Bar</th>\n      <th>Beer Bar</th>\n      <th>Beer Store</th>\n      <th>Belgian Restaurant</th>\n      <th>Big Box Store</th>\n      <th>Bike Rental / Bike Share</th>\n      <th>Bike Shop</th>\n      <th>Bistro</th>\n      <th>Board Shop</th>\n      <th>Boat or Ferry</th>\n      <th>Bookstore</th>\n      <th>Botanical Garden</th>\n      <th>Boutique</th>\n      <th>Brazilian Restaurant</th>\n      <th>Breakfast Spot</th>\n      <th>Brewery</th>\n      <th>Bridge</th>\n      <th>Bubble Tea Shop</th>\n      <th>Buffet</th>\n      <th>Building</th>\n      <th>Burger Joint</th>\n      <th>Burrito Place</th>\n      <th>Bus Line</th>\n      <th>Bus Station</th>\n      <th>Bus Stop</th>\n      <th>Business Service</th>\n      <th>Butcher</th>\n      <th>Café</th>\n      <th>Cajun / Creole Restaurant</th>\n      <th>Camera Store</th>\n      <th>Candy Store</th>\n      <th>Cantonese Restaurant</th>\n      <th>Caribbean Restaurant</th>\n      <th>Castle</th>\n      <th>Cemetery</th>\n      <th>Cheese Shop</th>\n      <th>Chinese Restaurant</th>\n      <th>Chiropractor</th>\n      <th>Chocolate Shop</th>\n      <th>Church</th>\n      <th>Clothing Store</th>\n      <th>Cocktail Bar</th>\n      <th>Coffee Shop</th>\n      <th>College Arts Building</th>\n      <th>College Gym</th>\n      <th>College Rec Center</th>\n      <th>College Stadium</th>\n      <th>College Theater</th>\n      <th>Comedy Club</th>\n      <th>Comfort Food Restaurant</th>\n      <th>Comic Shop</th>\n      <th>Concert Hall</th>\n      <th>Construction &amp; Landscaping</th>\n      <th>Convenience Store</th>\n      <th>Cosmetics Shop</th>\n      <th>Creperie</th>\n      <th>Cuban Restaurant</th>\n      <th>Cupcake Shop</th>\n      <th>Curling Ice</th>\n      <th>Dance Studio</th>\n      <th>Deli / Bodega</th>\n      <th>Department Store</th>\n      <th>Design Studio</th>\n      <th>Dessert Shop</th>\n      <th>Dim Sum Restaurant</th>\n      <th>Diner</th>\n      <th>Discount Store</th>\n      <th>Distribution Center</th>\n      <th>Dive Bar</th>\n      <th>Dog Run</th>\n      <th>Doner Restaurant</th>\n      <th>Donut Shop</th>\n      <th>Dry Cleaner</th>\n      <th>Dumpling Restaurant</th>\n      <th>Eastern European Restaurant</th>\n      <th>Electronics Store</th>\n      <th>Escape Room</th>\n      <th>Ethiopian Restaurant</th>\n      <th>Event Space</th>\n      <th>Falafel Restaurant</th>\n      <th>Farm</th>\n      <th>Farmers Market</th>\n      <th>Fast Food Restaurant</th>\n      <th>Field</th>\n      <th>Filipino Restaurant</th>\n      <th>Financial or Legal Service</th>\n      <th>Fish &amp; Chips Shop</th>\n      <th>Fish Market</th>\n      <th>Flea Market</th>\n      <th>Flower Shop</th>\n      <th>Food</th>\n      <th>Food &amp; Drink Shop</th>\n      <th>Food Court</th>\n      <th>Food Truck</th>\n      <th>Fountain</th>\n      <th>French Restaurant</th>\n      <th>Fried Chicken Joint</th>\n      <th>Frozen Yogurt Shop</th>\n      <th>Furniture / Home Store</th>\n      <th>Gaming Cafe</th>\n      <th>Garden</th>\n      <th>Gas Station</th>\n      <th>Gastropub</th>\n      <th>Gay Bar</th>\n      <th>General Entertainment</th>\n      <th>General Travel</th>\n      <th>German Restaurant</th>\n      <th>Gift Shop</th>\n      <th>Golf Course</th>\n      <th>Gourmet Shop</th>\n      <th>Greek Restaurant</th>\n      <th>Grocery Store</th>\n      <th>Gym</th>\n      <th>Gym / Fitness Center</th>\n      <th>Gym Pool</th>\n      <th>Gymnastics Gym</th>\n      <th>Hakka Restaurant</th>\n      <th>Hardware Store</th>\n      <th>Hawaiian Restaurant</th>\n      <th>Health &amp; Beauty Service</th>\n      <th>Health Food Store</th>\n      <th>Historic Site</th>\n      <th>History Museum</th>\n      <th>Hobby Shop</th>\n      <th>Hockey Arena</th>\n      <th>Home Service</th>\n      <th>Hong Kong Restaurant</th>\n      <th>Hookah Bar</th>\n      <th>Hostel</th>\n      <th>Hot Dog Joint</th>\n      <th>Hotel</th>\n      <th>Hotel Bar</th>\n      <th>Housing Development</th>\n      <th>IT Services</th>\n      <th>Ice Cream Shop</th>\n      <th>Indian Restaurant</th>\n      <th>Indie Movie Theater</th>\n      <th>Indoor Play Area</th>\n      <th>Insurance Office</th>\n      <th>Intersection</th>\n      <th>Irish Pub</th>\n      <th>Italian Restaurant</th>\n      <th>Japanese Restaurant</th>\n      <th>Jazz Club</th>\n      <th>Jewelry Store</th>\n      <th>Jewish Restaurant</th>\n      <th>Juice Bar</th>\n      <th>Karaoke Bar</th>\n      <th>Kitchen Supply Store</th>\n      <th>Korean Restaurant</th>\n      <th>Lake</th>\n      <th>Latin American Restaurant</th>\n      <th>Leather Goods Store</th>\n      <th>Library</th>\n      <th>Light Rail Station</th>\n      <th>Lingerie Store</th>\n      <th>Liquor Store</th>\n      <th>Lounge</th>\n      <th>Market</th>\n      <th>Martial Arts School</th>\n      <th>Massage Studio</th>\n      <th>Mattress Store</th>\n      <th>Mediterranean Restaurant</th>\n      <th>Men's Store</th>\n      <th>Metro Station</th>\n      <th>Mexican Restaurant</th>\n      <th>Middle Eastern Restaurant</th>\n      <th>Miscellaneous Shop</th>\n      <th>Mobile Phone Shop</th>\n      <th>Modern European Restaurant</th>\n      <th>Molecular Gastronomy Restaurant</th>\n      <th>Monument / Landmark</th>\n      <th>Movie Theater</th>\n      <th>Moving Target</th>\n      <th>Museum</th>\n      <th>Music Store</th>\n      <th>Music Venue</th>\n      <th>Neighborhood</th>\n      <th>New American Restaurant</th>\n      <th>Nightclub</th>\n      <th>Noodle House</th>\n      <th>Office</th>\n      <th>Opera House</th>\n      <th>Optical Shop</th>\n      <th>Organic Grocery</th>\n      <th>Other Great Outdoors</th>\n      <th>Outdoor Sculpture</th>\n      <th>Paper / Office Supplies Store</th>\n      <th>Park</th>\n      <th>Pastry Shop</th>\n      <th>Performing Arts Venue</th>\n      <th>Peruvian Restaurant</th>\n      <th>Pet Store</th>\n      <th>Pharmacy</th>\n      <th>Photography Studio</th>\n      <th>Pie Shop</th>\n      <th>Pizza Place</th>\n      <th>Platform</th>\n      <th>Playground</th>\n      <th>Plaza</th>\n      <th>Poke Place</th>\n      <th>Pool</th>\n      <th>Pool Hall</th>\n      <th>Portuguese Restaurant</th>\n      <th>Poutine Place</th>\n      <th>Print Shop</th>\n      <th>Pub</th>\n      <th>Ramen Restaurant</th>\n      <th>Record Shop</th>\n      <th>Rental Car Location</th>\n      <th>Residential Building (Apartment / Condo)</th>\n      <th>Restaurant</th>\n      <th>Rock Climbing Spot</th>\n      <th>Rock Club</th>\n      <th>Roof Deck</th>\n      <th>Sake Bar</th>\n      <th>Salad Place</th>\n      <th>Salon / Barbershop</th>\n      <th>Sandwich Place</th>\n      <th>Scenic Lookout</th>\n      <th>School</th>\n      <th>Science Museum</th>\n      <th>Sculpture Garden</th>\n      <th>Seafood Restaurant</th>\n      <th>Shoe Store</th>\n      <th>Shopping Mall</th>\n      <th>Skate Park</th>\n      <th>Skating Rink</th>\n      <th>Smoke Shop</th>\n      <th>Smoothie Shop</th>\n      <th>Snack Place</th>\n      <th>Soccer Field</th>\n      <th>Soccer Stadium</th>\n      <th>Soup Place</th>\n      <th>Souvlaki Shop</th>\n      <th>Spa</th>\n      <th>Spanish Restaurant</th>\n      <th>Speakeasy</th>\n      <th>Sporting Goods Shop</th>\n      <th>Sports Bar</th>\n      <th>Sports Club</th>\n      <th>Sri Lankan Restaurant</th>\n      <th>Stationery Store</th>\n      <th>Steakhouse</th>\n      <th>Storage Facility</th>\n      <th>Street Art</th>\n      <th>Supermarket</th>\n      <th>Sushi Restaurant</th>\n      <th>Taco Place</th>\n      <th>Tailor Shop</th>\n      <th>Taiwanese Restaurant</th>\n      <th>Tanning Salon</th>\n      <th>Tapas Restaurant</th>\n      <th>Tea Room</th>\n      <th>Tech Startup</th>\n      <th>Tennis Court</th>\n      <th>Thai Restaurant</th>\n      <th>Theater</th>\n      <th>Theme Park Ride / Attraction</th>\n      <th>Theme Restaurant</th>\n      <th>Thrift / Vintage Store</th>\n      <th>Toy / Game Store</th>\n      <th>Track</th>\n      <th>Trail</th>\n      <th>Train Station</th>\n      <th>Tram Station</th>\n      <th>Turkish Restaurant</th>\n      <th>Udon Restaurant</th>\n      <th>University</th>\n      <th>Vegetarian / Vegan Restaurant</th>\n      <th>Video Game Store</th>\n      <th>Video Store</th>\n      <th>Vietnamese Restaurant</th>\n      <th>Warehouse Store</th>\n      <th>Wine Bar</th>\n      <th>Wine Shop</th>\n      <th>Wings Joint</th>\n      <th>Women's Store</th>\n      <th>Yoga Studio</th>\n    </tr>\n  </thead>\n  <tbody>\n    <tr>\n      <th>0</th>\n      <td>0</td>\n      <td>0</td>\n      <td>0</td>\n      <td>0</td>\n      <td>0</td>\n      <td>0</td>\n      <td>0</td>\n      <td>0</td>\n      <td>0</td>\n      <td>0</td>\n      <td>0</td>\n      <td>0</td>\n      <td>0</td>\n      <td>0</td>\n      <td>0</td>\n      <td>0</td>\n      <td>0</td>\n      <td>0</td>\n      <td>0</td>\n      <td>0</td>\n      <td>0</td>\n      <td>0</td>\n      <td>0</td>\n      <td>0</td>\n      <td>0</td>\n      <td>0</td>\n      <td>0</td>\n      <td>0</td>\n      <td>0</td>\n      <td>0</td>\n      <td>0</td>\n      <td>0</td>\n      <td>0</td>\n      <td>0</td>\n      <td>0</td>\n      <td>0</td>\n      <td>0</td>\n      <td>0</td>\n      <td>0</td>\n      <td>0</td>\n      <td>0</td>\n      <td>0</td>\n      <td>0</td>\n      <td>0</td>\n      <td>0</td>\n      <td>0</td>\n      <td>0</td>\n      <td>0</td>\n      <td>0</td>\n      <td>0</td>\n      <td>0</td>\n      <td>0</td>\n      <td>0</td>\n      <td>0</td>\n      <td>0</td>\n      <td>0</td>\n      <td>0</td>\n      <td>0</td>\n      <td>0</td>\n      <td>0</td>\n      <td>0</td>\n      <td>0</td>\n      <td>0</td>\n      <td>0</td>\n      <td>0</td>\n      <td>0</td>\n      <td>0</td>\n      <td>0</td>\n      <td>0</td>\n      <td>0</td>\n      <td>0</td>\n      <td>0</td>\n      <td>0</td>\n      <td>0</td>\n      <td>0</td>\n      <td>0</td>\n      <td>0</td>\n      <td>0</td>\n      <td>0</td>\n      <td>0</td>\n      <td>0</td>\n      <td>0</td>\n      <td>0</td>\n      <td>0</td>\n      <td>0</td>\n      <td>0</td>\n      <td>0</td>\n      <td>0</td>\n      <td>0</td>\n      <td>0</td>\n      <td>0</td>\n      <td>0</td>\n      <td>0</td>\n      <td>0</td>\n      <td>0</td>\n      <td>0</td>\n      <td>0</td>\n      <td>0</td>\n      <td>0</td>\n      <td>0</td>\n      <td>0</td>\n      <td>0</td>\n      <td>0</td>\n      <td>0</td>\n      <td>0</td>\n      <td>0</td>\n      <td>0</td>\n      <td>0</td>\n      <td>0</td>\n      <td>0</td>\n      <td>0</td>\n      <td>0</td>\n      <td>0</td>\n      <td>0</td>\n      <td>0</td>\n      <td>0</td>\n      <td>0</td>\n      <td>0</td>\n      <td>0</td>\n      <td>0</td>\n      <td>0</td>\n      <td>0</td>\n      <td>0</td>\n      <td>0</td>\n      <td>0</td>\n      <td>0</td>\n      <td>0</td>\n      <td>0</td>\n      <td>0</td>\n      <td>0</td>\n      <td>0</td>\n      <td>0</td>\n      <td>0</td>\n      <td>0</td>\n      <td>0</td>\n      <td>0</td>\n      <td>0</td>\n      <td>0</td>\n      <td>0</td>\n      <td>0</td>\n      <td>0</td>\n      <td>0</td>\n      <td>0</td>\n      <td>0</td>\n      <td>0</td>\n      <td>0</td>\n      <td>0</td>\n      <td>0</td>\n      <td>0</td>\n      <td>0</td>\n      <td>0</td>\n      <td>0</td>\n      <td>0</td>\n      <td>0</td>\n      <td>0</td>\n      <td>0</td>\n      <td>0</td>\n      <td>1</td>\n      <td>0</td>\n      <td>0</td>\n      <td>0</td>\n      <td>0</td>\n      <td>0</td>\n      <td>0</td>\n      <td>0</td>\n      <td>0</td>\n      <td>0</td>\n      <td>0</td>\n      <td>0</td>\n      <td>0</td>\n      <td>0</td>\n      <td>0</td>\n      <td>0</td>\n      <td>0</td>\n      <td>0</td>\n      <td>0</td>\n      <td>0</td>\n      <td>0</td>\n      <td>0</td>\n      <td>0</td>\n      <td>0</td>\n      <td>0</td>\n      <td>0</td>\n      <td>0</td>\n      <td>0</td>\n      <td>0</td>\n      <td>0</td>\n      <td>0</td>\n      <td>0</td>\n      <td>0</td>\n      <td>0</td>\n      <td>0</td>\n      <td>0</td>\n      <td>0</td>\n      <td>0</td>\n      <td>0</td>\n      <td>0</td>\n      <td>0</td>\n      <td>0</td>\n      <td>0</td>\n      <td>0</td>\n      <td>0</td>\n      <td>0</td>\n      <td>0</td>\n      <td>Not assigned\\n</td>\n      <td>0</td>\n      <td>0</td>\n      <td>0</td>\n      <td>0</td>\n      <td>0</td>\n      <td>0</td>\n      <td>0</td>\n      <td>0</td>\n      <td>0</td>\n      <td>0</td>\n      <td>0</td>\n      <td>0</td>\n      <td>0</td>\n      <td>0</td>\n      <td>0</td>\n      <td>0</td>\n      <td>0</td>\n      <td>0</td>\n      <td>0</td>\n      <td>0</td>\n      <td>0</td>\n      <td>0</td>\n      <td>0</td>\n      <td>0</td>\n      <td>0</td>\n      <td>0</td>\n      <td>0</td>\n      <td>0</td>\n      <td>0</td>\n      <td>0</td>\n      <td>0</td>\n      <td>0</td>\n      <td>0</td>\n      <td>0</td>\n      <td>0</td>\n      <td>0</td>\n      <td>0</td>\n      <td>0</td>\n      <td>0</td>\n      <td>0</td>\n      <td>0</td>\n      <td>0</td>\n      <td>0</td>\n      <td>0</td>\n      <td>0</td>\n      <td>0</td>\n      <td>0</td>\n      <td>0</td>\n      <td>0</td>\n      <td>0</td>\n      <td>0</td>\n      <td>0</td>\n      <td>0</td>\n      <td>0</td>\n      <td>0</td>\n      <td>0</td>\n      <td>0</td>\n      <td>0</td>\n      <td>0</td>\n      <td>0</td>\n      <td>0</td>\n      <td>0</td>\n      <td>0</td>\n      <td>0</td>\n      <td>0</td>\n      <td>0</td>\n      <td>0</td>\n      <td>0</td>\n      <td>0</td>\n      <td>0</td>\n      <td>0</td>\n      <td>0</td>\n      <td>0</td>\n      <td>0</td>\n      <td>0</td>\n      <td>0</td>\n      <td>0</td>\n      <td>0</td>\n      <td>0</td>\n      <td>0</td>\n      <td>0</td>\n      <td>0</td>\n      <td>0</td>\n      <td>0</td>\n      <td>0</td>\n      <td>0</td>\n      <td>0</td>\n      <td>0</td>\n      <td>0</td>\n      <td>0</td>\n      <td>0</td>\n      <td>0</td>\n      <td>0</td>\n      <td>0</td>\n      <td>0</td>\n      <td>0</td>\n      <td>0</td>\n      <td>0</td>\n      <td>0</td>\n      <td>0</td>\n      <td>0</td>\n    </tr>\n    <tr>\n      <th>1</th>\n      <td>0</td>\n      <td>0</td>\n      <td>0</td>\n      <td>0</td>\n      <td>0</td>\n      <td>0</td>\n      <td>0</td>\n      <td>0</td>\n      <td>0</td>\n      <td>0</td>\n      <td>0</td>\n      <td>0</td>\n      <td>0</td>\n      <td>0</td>\n      <td>0</td>\n      <td>0</td>\n      <td>0</td>\n      <td>0</td>\n      <td>0</td>\n      <td>0</td>\n      <td>0</td>\n      <td>0</td>\n      <td>0</td>\n      <td>0</td>\n      <td>0</td>\n      <td>0</td>\n      <td>0</td>\n      <td>0</td>\n      <td>0</td>\n      <td>0</td>\n      <td>0</td>\n      <td>0</td>\n      <td>0</td>\n      <td>0</td>\n      <td>0</td>\n      <td>0</td>\n      <td>0</td>\n      <td>0</td>\n      <td>0</td>\n      <td>0</td>\n      <td>0</td>\n      <td>0</td>\n      <td>0</td>\n      <td>0</td>\n      <td>0</td>\n      <td>0</td>\n      <td>0</td>\n      <td>0</td>\n      <td>0</td>\n      <td>0</td>\n      <td>0</td>\n      <td>0</td>\n      <td>0</td>\n      <td>0</td>\n      <td>0</td>\n      <td>0</td>\n      <td>0</td>\n      <td>0</td>\n      <td>0</td>\n      <td>0</td>\n      <td>0</td>\n      <td>0</td>\n      <td>0</td>\n      <td>0</td>\n      <td>0</td>\n      <td>0</td>\n      <td>0</td>\n      <td>0</td>\n      <td>0</td>\n      <td>0</td>\n      <td>0</td>\n      <td>0</td>\n      <td>0</td>\n      <td>0</td>\n      <td>0</td>\n      <td>0</td>\n      <td>0</td>\n      <td>0</td>\n      <td>1</td>\n      <td>0</td>\n      <td>0</td>\n      <td>0</td>\n      <td>0</td>\n      <td>0</td>\n      <td>0</td>\n      <td>0</td>\n      <td>0</td>\n      <td>0</td>\n      <td>0</td>\n      <td>0</td>\n      <td>0</td>\n      <td>0</td>\n      <td>0</td>\n      <td>0</td>\n      <td>0</td>\n      <td>0</td>\n      <td>0</td>\n      <td>0</td>\n      <td>0</td>\n      <td>0</td>\n      <td>0</td>\n      <td>0</td>\n      <td>0</td>\n      <td>0</td>\n      <td>0</td>\n      <td>0</td>\n      <td>0</td>\n      <td>0</td>\n      <td>0</td>\n      <td>0</td>\n      <td>0</td>\n      <td>0</td>\n      <td>0</td>\n      <td>0</td>\n      <td>0</td>\n      <td>0</td>\n      <td>0</td>\n      <td>0</td>\n      <td>0</td>\n      <td>0</td>\n      <td>0</td>\n      <td>0</td>\n      <td>0</td>\n      <td>0</td>\n      <td>0</td>\n      <td>0</td>\n      <td>0</td>\n      <td>0</td>\n      <td>0</td>\n      <td>0</td>\n      <td>0</td>\n      <td>0</td>\n      <td>0</td>\n      <td>0</td>\n      <td>0</td>\n      <td>0</td>\n      <td>0</td>\n      <td>0</td>\n      <td>0</td>\n      <td>0</td>\n      <td>0</td>\n      <td>0</td>\n      <td>0</td>\n      <td>0</td>\n      <td>0</td>\n      <td>0</td>\n      <td>0</td>\n      <td>0</td>\n      <td>0</td>\n      <td>0</td>\n      <td>0</td>\n      <td>0</td>\n      <td>0</td>\n      <td>0</td>\n      <td>0</td>\n      <td>0</td>\n      <td>0</td>\n      <td>0</td>\n      <td>0</td>\n      <td>0</td>\n      <td>0</td>\n      <td>0</td>\n      <td>0</td>\n      <td>0</td>\n      <td>0</td>\n      <td>0</td>\n      <td>0</td>\n      <td>0</td>\n      <td>0</td>\n      <td>0</td>\n      <td>0</td>\n      <td>0</td>\n      <td>0</td>\n      <td>0</td>\n      <td>0</td>\n      <td>0</td>\n      <td>0</td>\n      <td>0</td>\n      <td>0</td>\n      <td>0</td>\n      <td>0</td>\n      <td>0</td>\n      <td>0</td>\n      <td>0</td>\n      <td>0</td>\n      <td>0</td>\n      <td>0</td>\n      <td>0</td>\n      <td>0</td>\n      <td>0</td>\n      <td>0</td>\n      <td>0</td>\n      <td>0</td>\n      <td>0</td>\n      <td>0</td>\n      <td>0</td>\n      <td>0</td>\n      <td>0</td>\n      <td>0</td>\n      <td>0</td>\n      <td>0</td>\n      <td>0</td>\n      <td>0</td>\n      <td>0</td>\n      <td>Not assigned\\n</td>\n      <td>0</td>\n      <td>0</td>\n      <td>0</td>\n      <td>0</td>\n      <td>0</td>\n      <td>0</td>\n      <td>0</td>\n      <td>0</td>\n      <td>0</td>\n      <td>0</td>\n      <td>0</td>\n      <td>0</td>\n      <td>0</td>\n      <td>0</td>\n      <td>0</td>\n      <td>0</td>\n      <td>0</td>\n      <td>0</td>\n      <td>0</td>\n      <td>0</td>\n      <td>0</td>\n      <td>0</td>\n      <td>0</td>\n      <td>0</td>\n      <td>0</td>\n      <td>0</td>\n      <td>0</td>\n      <td>0</td>\n      <td>0</td>\n      <td>0</td>\n      <td>0</td>\n      <td>0</td>\n      <td>0</td>\n      <td>0</td>\n      <td>0</td>\n      <td>0</td>\n      <td>0</td>\n      <td>0</td>\n      <td>0</td>\n      <td>0</td>\n      <td>0</td>\n      <td>0</td>\n      <td>0</td>\n      <td>0</td>\n      <td>0</td>\n      <td>0</td>\n      <td>0</td>\n      <td>0</td>\n      <td>0</td>\n      <td>0</td>\n      <td>0</td>\n      <td>0</td>\n      <td>0</td>\n      <td>0</td>\n      <td>0</td>\n      <td>0</td>\n      <td>0</td>\n      <td>0</td>\n      <td>0</td>\n      <td>0</td>\n      <td>0</td>\n      <td>0</td>\n      <td>0</td>\n      <td>0</td>\n      <td>0</td>\n      <td>0</td>\n      <td>0</td>\n      <td>0</td>\n      <td>0</td>\n      <td>0</td>\n      <td>0</td>\n      <td>0</td>\n      <td>0</td>\n      <td>0</td>\n      <td>0</td>\n      <td>0</td>\n      <td>0</td>\n      <td>0</td>\n      <td>0</td>\n      <td>0</td>\n      <td>0</td>\n      <td>0</td>\n      <td>0</td>\n      <td>0</td>\n      <td>0</td>\n      <td>0</td>\n      <td>0</td>\n      <td>0</td>\n      <td>0</td>\n      <td>0</td>\n      <td>0</td>\n      <td>0</td>\n      <td>0</td>\n      <td>0</td>\n      <td>0</td>\n      <td>0</td>\n      <td>0</td>\n      <td>0</td>\n      <td>0</td>\n      <td>0</td>\n      <td>0</td>\n    </tr>\n    <tr>\n      <th>2</th>\n      <td>0</td>\n      <td>0</td>\n      <td>0</td>\n      <td>0</td>\n      <td>0</td>\n      <td>0</td>\n      <td>0</td>\n      <td>0</td>\n      <td>0</td>\n      <td>0</td>\n      <td>0</td>\n      <td>0</td>\n      <td>0</td>\n      <td>0</td>\n      <td>0</td>\n      <td>0</td>\n      <td>0</td>\n      <td>0</td>\n      <td>0</td>\n      <td>0</td>\n      <td>0</td>\n      <td>0</td>\n      <td>0</td>\n      <td>0</td>\n      <td>0</td>\n      <td>0</td>\n      <td>0</td>\n      <td>0</td>\n      <td>0</td>\n      <td>0</td>\n      <td>0</td>\n      <td>0</td>\n      <td>0</td>\n      <td>0</td>\n      <td>0</td>\n      <td>0</td>\n      <td>0</td>\n      <td>0</td>\n      <td>0</td>\n      <td>0</td>\n      <td>0</td>\n      <td>0</td>\n      <td>0</td>\n      <td>0</td>\n      <td>0</td>\n      <td>0</td>\n      <td>0</td>\n      <td>0</td>\n      <td>0</td>\n      <td>0</td>\n      <td>0</td>\n      <td>0</td>\n      <td>0</td>\n      <td>0</td>\n      <td>0</td>\n      <td>0</td>\n      <td>0</td>\n      <td>0</td>\n      <td>0</td>\n      <td>0</td>\n      <td>0</td>\n      <td>0</td>\n      <td>0</td>\n      <td>0</td>\n      <td>0</td>\n      <td>0</td>\n      <td>0</td>\n      <td>0</td>\n      <td>0</td>\n      <td>0</td>\n      <td>0</td>\n      <td>0</td>\n      <td>0</td>\n      <td>0</td>\n      <td>0</td>\n      <td>0</td>\n      <td>0</td>\n      <td>0</td>\n      <td>0</td>\n      <td>0</td>\n      <td>0</td>\n      <td>0</td>\n      <td>0</td>\n      <td>0</td>\n      <td>0</td>\n      <td>0</td>\n      <td>0</td>\n      <td>0</td>\n      <td>0</td>\n      <td>0</td>\n      <td>0</td>\n      <td>0</td>\n      <td>0</td>\n      <td>0</td>\n      <td>0</td>\n      <td>0</td>\n      <td>0</td>\n      <td>0</td>\n      <td>0</td>\n      <td>0</td>\n      <td>0</td>\n      <td>0</td>\n      <td>0</td>\n      <td>0</td>\n      <td>0</td>\n      <td>0</td>\n      <td>0</td>\n      <td>0</td>\n      <td>0</td>\n      <td>0</td>\n      <td>0</td>\n      <td>0</td>\n      <td>0</td>\n      <td>0</td>\n      <td>0</td>\n      <td>0</td>\n      <td>0</td>\n      <td>0</td>\n      <td>0</td>\n      <td>0</td>\n      <td>0</td>\n      <td>0</td>\n      <td>0</td>\n      <td>0</td>\n      <td>0</td>\n      <td>0</td>\n      <td>0</td>\n      <td>0</td>\n      <td>0</td>\n      <td>0</td>\n      <td>0</td>\n      <td>0</td>\n      <td>0</td>\n      <td>0</td>\n      <td>0</td>\n      <td>0</td>\n      <td>0</td>\n      <td>0</td>\n      <td>0</td>\n      <td>0</td>\n      <td>0</td>\n      <td>0</td>\n      <td>0</td>\n      <td>0</td>\n      <td>0</td>\n      <td>0</td>\n      <td>0</td>\n      <td>0</td>\n      <td>0</td>\n      <td>0</td>\n      <td>0</td>\n      <td>0</td>\n      <td>0</td>\n      <td>0</td>\n      <td>0</td>\n      <td>0</td>\n      <td>0</td>\n      <td>0</td>\n      <td>0</td>\n      <td>0</td>\n      <td>0</td>\n      <td>0</td>\n      <td>0</td>\n      <td>0</td>\n      <td>0</td>\n      <td>0</td>\n      <td>0</td>\n      <td>0</td>\n      <td>0</td>\n      <td>0</td>\n      <td>0</td>\n      <td>0</td>\n      <td>0</td>\n      <td>0</td>\n      <td>0</td>\n      <td>0</td>\n      <td>0</td>\n      <td>0</td>\n      <td>0</td>\n      <td>0</td>\n      <td>0</td>\n      <td>0</td>\n      <td>0</td>\n      <td>0</td>\n      <td>0</td>\n      <td>0</td>\n      <td>0</td>\n      <td>0</td>\n      <td>0</td>\n      <td>0</td>\n      <td>0</td>\n      <td>0</td>\n      <td>0</td>\n      <td>0</td>\n      <td>0</td>\n      <td>0</td>\n      <td>0</td>\n      <td>0</td>\n      <td>0</td>\n      <td>0</td>\n      <td>0</td>\n      <td>0</td>\n      <td>0</td>\n      <td>0</td>\n      <td>Not assigned\\n</td>\n      <td>0</td>\n      <td>0</td>\n      <td>0</td>\n      <td>0</td>\n      <td>0</td>\n      <td>0</td>\n      <td>0</td>\n      <td>0</td>\n      <td>0</td>\n      <td>0</td>\n      <td>0</td>\n      <td>0</td>\n      <td>0</td>\n      <td>0</td>\n      <td>0</td>\n      <td>0</td>\n      <td>0</td>\n      <td>0</td>\n      <td>0</td>\n      <td>0</td>\n      <td>0</td>\n      <td>0</td>\n      <td>0</td>\n      <td>0</td>\n      <td>0</td>\n      <td>0</td>\n      <td>0</td>\n      <td>0</td>\n      <td>0</td>\n      <td>0</td>\n      <td>0</td>\n      <td>0</td>\n      <td>0</td>\n      <td>0</td>\n      <td>0</td>\n      <td>0</td>\n      <td>0</td>\n      <td>0</td>\n      <td>0</td>\n      <td>0</td>\n      <td>0</td>\n      <td>0</td>\n      <td>0</td>\n      <td>0</td>\n      <td>0</td>\n      <td>0</td>\n      <td>0</td>\n      <td>0</td>\n      <td>0</td>\n      <td>0</td>\n      <td>0</td>\n      <td>0</td>\n      <td>0</td>\n      <td>0</td>\n      <td>0</td>\n      <td>0</td>\n      <td>0</td>\n      <td>0</td>\n      <td>0</td>\n      <td>1</td>\n      <td>0</td>\n      <td>0</td>\n      <td>0</td>\n      <td>0</td>\n      <td>0</td>\n      <td>0</td>\n      <td>0</td>\n      <td>0</td>\n      <td>0</td>\n      <td>0</td>\n      <td>0</td>\n      <td>0</td>\n      <td>0</td>\n      <td>0</td>\n      <td>0</td>\n      <td>0</td>\n      <td>0</td>\n      <td>0</td>\n      <td>0</td>\n      <td>0</td>\n      <td>0</td>\n      <td>0</td>\n      <td>0</td>\n      <td>0</td>\n      <td>0</td>\n      <td>0</td>\n      <td>0</td>\n      <td>0</td>\n      <td>0</td>\n      <td>0</td>\n      <td>0</td>\n      <td>0</td>\n      <td>0</td>\n      <td>0</td>\n      <td>0</td>\n      <td>0</td>\n      <td>0</td>\n      <td>0</td>\n      <td>0</td>\n      <td>0</td>\n      <td>0</td>\n    </tr>\n    <tr>\n      <th>3</th>\n      <td>0</td>\n      <td>0</td>\n      <td>0</td>\n      <td>0</td>\n      <td>0</td>\n      <td>0</td>\n      <td>0</td>\n      <td>0</td>\n      <td>0</td>\n      <td>0</td>\n      <td>0</td>\n      <td>0</td>\n      <td>0</td>\n      <td>0</td>\n      <td>0</td>\n      <td>0</td>\n      <td>0</td>\n      <td>0</td>\n      <td>0</td>\n      <td>0</td>\n      <td>0</td>\n      <td>0</td>\n      <td>0</td>\n      <td>0</td>\n      <td>0</td>\n      <td>0</td>\n      <td>0</td>\n      <td>0</td>\n      <td>0</td>\n      <td>0</td>\n      <td>0</td>\n      <td>0</td>\n      <td>0</td>\n      <td>0</td>\n      <td>0</td>\n      <td>0</td>\n      <td>0</td>\n      <td>0</td>\n      <td>0</td>\n      <td>0</td>\n      <td>0</td>\n      <td>0</td>\n      <td>0</td>\n      <td>0</td>\n      <td>0</td>\n      <td>0</td>\n      <td>0</td>\n      <td>0</td>\n      <td>0</td>\n      <td>0</td>\n      <td>0</td>\n      <td>0</td>\n      <td>0</td>\n      <td>0</td>\n      <td>0</td>\n      <td>0</td>\n      <td>0</td>\n      <td>0</td>\n      <td>0</td>\n      <td>0</td>\n      <td>0</td>\n      <td>0</td>\n      <td>0</td>\n      <td>0</td>\n      <td>0</td>\n      <td>0</td>\n      <td>0</td>\n      <td>0</td>\n      <td>0</td>\n      <td>0</td>\n      <td>0</td>\n      <td>0</td>\n      <td>0</td>\n      <td>0</td>\n      <td>0</td>\n      <td>0</td>\n      <td>0</td>\n      <td>0</td>\n      <td>0</td>\n      <td>0</td>\n      <td>0</td>\n      <td>0</td>\n      <td>0</td>\n      <td>0</td>\n      <td>0</td>\n      <td>0</td>\n      <td>0</td>\n      <td>0</td>\n      <td>0</td>\n      <td>0</td>\n      <td>0</td>\n      <td>0</td>\n      <td>0</td>\n      <td>0</td>\n      <td>0</td>\n      <td>0</td>\n      <td>0</td>\n      <td>0</td>\n      <td>0</td>\n      <td>0</td>\n      <td>0</td>\n      <td>0</td>\n      <td>0</td>\n      <td>0</td>\n      <td>0</td>\n      <td>0</td>\n      <td>0</td>\n      <td>0</td>\n      <td>0</td>\n      <td>0</td>\n      <td>0</td>\n      <td>0</td>\n      <td>0</td>\n      <td>0</td>\n      <td>0</td>\n      <td>0</td>\n      <td>0</td>\n      <td>0</td>\n      <td>0</td>\n      <td>0</td>\n      <td>0</td>\n      <td>0</td>\n      <td>0</td>\n      <td>0</td>\n      <td>0</td>\n      <td>0</td>\n      <td>0</td>\n      <td>0</td>\n      <td>0</td>\n      <td>0</td>\n      <td>0</td>\n      <td>0</td>\n      <td>0</td>\n      <td>0</td>\n      <td>0</td>\n      <td>0</td>\n      <td>0</td>\n      <td>0</td>\n      <td>0</td>\n      <td>0</td>\n      <td>0</td>\n      <td>0</td>\n      <td>0</td>\n      <td>0</td>\n      <td>0</td>\n      <td>0</td>\n      <td>0</td>\n      <td>0</td>\n      <td>0</td>\n      <td>0</td>\n      <td>0</td>\n      <td>0</td>\n      <td>0</td>\n      <td>0</td>\n      <td>0</td>\n      <td>0</td>\n      <td>0</td>\n      <td>0</td>\n      <td>0</td>\n      <td>0</td>\n      <td>0</td>\n      <td>0</td>\n      <td>0</td>\n      <td>0</td>\n      <td>0</td>\n      <td>0</td>\n      <td>0</td>\n      <td>0</td>\n      <td>0</td>\n      <td>0</td>\n      <td>0</td>\n      <td>0</td>\n      <td>0</td>\n      <td>0</td>\n      <td>0</td>\n      <td>0</td>\n      <td>0</td>\n      <td>0</td>\n      <td>0</td>\n      <td>0</td>\n      <td>0</td>\n      <td>0</td>\n      <td>0</td>\n      <td>0</td>\n      <td>0</td>\n      <td>0</td>\n      <td>0</td>\n      <td>0</td>\n      <td>0</td>\n      <td>0</td>\n      <td>0</td>\n      <td>0</td>\n      <td>0</td>\n      <td>0</td>\n      <td>0</td>\n      <td>0</td>\n      <td>0</td>\n      <td>0</td>\n      <td>0</td>\n      <td>0</td>\n      <td>0</td>\n      <td>0</td>\n      <td>0</td>\n      <td>0</td>\n      <td>Not assigned\\n</td>\n      <td>0</td>\n      <td>0</td>\n      <td>0</td>\n      <td>0</td>\n      <td>0</td>\n      <td>0</td>\n      <td>0</td>\n      <td>0</td>\n      <td>0</td>\n      <td>0</td>\n      <td>0</td>\n      <td>0</td>\n      <td>0</td>\n      <td>0</td>\n      <td>0</td>\n      <td>0</td>\n      <td>0</td>\n      <td>0</td>\n      <td>0</td>\n      <td>0</td>\n      <td>0</td>\n      <td>0</td>\n      <td>0</td>\n      <td>0</td>\n      <td>0</td>\n      <td>0</td>\n      <td>0</td>\n      <td>0</td>\n      <td>0</td>\n      <td>0</td>\n      <td>0</td>\n      <td>0</td>\n      <td>0</td>\n      <td>0</td>\n      <td>0</td>\n      <td>0</td>\n      <td>0</td>\n      <td>0</td>\n      <td>0</td>\n      <td>0</td>\n      <td>0</td>\n      <td>0</td>\n      <td>0</td>\n      <td>0</td>\n      <td>0</td>\n      <td>0</td>\n      <td>0</td>\n      <td>0</td>\n      <td>0</td>\n      <td>0</td>\n      <td>0</td>\n      <td>0</td>\n      <td>0</td>\n      <td>0</td>\n      <td>0</td>\n      <td>0</td>\n      <td>0</td>\n      <td>0</td>\n      <td>0</td>\n      <td>0</td>\n      <td>0</td>\n      <td>0</td>\n      <td>0</td>\n      <td>0</td>\n      <td>0</td>\n      <td>0</td>\n      <td>0</td>\n      <td>0</td>\n      <td>0</td>\n      <td>0</td>\n      <td>0</td>\n      <td>0</td>\n      <td>0</td>\n      <td>0</td>\n      <td>0</td>\n      <td>0</td>\n      <td>0</td>\n      <td>0</td>\n      <td>1</td>\n      <td>0</td>\n      <td>0</td>\n      <td>0</td>\n      <td>0</td>\n      <td>0</td>\n      <td>0</td>\n      <td>0</td>\n      <td>0</td>\n      <td>0</td>\n      <td>0</td>\n      <td>0</td>\n      <td>0</td>\n      <td>0</td>\n      <td>0</td>\n      <td>0</td>\n      <td>0</td>\n      <td>0</td>\n      <td>0</td>\n      <td>0</td>\n      <td>0</td>\n      <td>0</td>\n      <td>0</td>\n    </tr>\n    <tr>\n      <th>4</th>\n      <td>0</td>\n      <td>0</td>\n      <td>0</td>\n      <td>0</td>\n      <td>0</td>\n      <td>0</td>\n      <td>0</td>\n      <td>0</td>\n      <td>0</td>\n      <td>0</td>\n      <td>0</td>\n      <td>0</td>\n      <td>0</td>\n      <td>0</td>\n      <td>0</td>\n      <td>0</td>\n      <td>0</td>\n      <td>0</td>\n      <td>0</td>\n      <td>0</td>\n      <td>0</td>\n      <td>0</td>\n      <td>0</td>\n      <td>0</td>\n      <td>0</td>\n      <td>0</td>\n      <td>0</td>\n      <td>0</td>\n      <td>0</td>\n      <td>0</td>\n      <td>0</td>\n      <td>0</td>\n      <td>0</td>\n      <td>0</td>\n      <td>0</td>\n      <td>0</td>\n      <td>0</td>\n      <td>0</td>\n      <td>0</td>\n      <td>0</td>\n      <td>0</td>\n      <td>0</td>\n      <td>0</td>\n      <td>0</td>\n      <td>0</td>\n      <td>0</td>\n      <td>0</td>\n      <td>0</td>\n      <td>0</td>\n      <td>0</td>\n      <td>0</td>\n      <td>0</td>\n      <td>0</td>\n      <td>0</td>\n      <td>0</td>\n      <td>0</td>\n      <td>0</td>\n      <td>0</td>\n      <td>0</td>\n      <td>0</td>\n      <td>0</td>\n      <td>0</td>\n      <td>0</td>\n      <td>0</td>\n      <td>0</td>\n      <td>0</td>\n      <td>0</td>\n      <td>0</td>\n      <td>0</td>\n      <td>0</td>\n      <td>0</td>\n      <td>0</td>\n      <td>0</td>\n      <td>0</td>\n      <td>0</td>\n      <td>0</td>\n      <td>0</td>\n      <td>0</td>\n      <td>0</td>\n      <td>0</td>\n      <td>0</td>\n      <td>0</td>\n      <td>0</td>\n      <td>0</td>\n      <td>0</td>\n      <td>0</td>\n      <td>0</td>\n      <td>0</td>\n      <td>0</td>\n      <td>0</td>\n      <td>0</td>\n      <td>0</td>\n      <td>0</td>\n      <td>0</td>\n      <td>0</td>\n      <td>0</td>\n      <td>0</td>\n      <td>0</td>\n      <td>0</td>\n      <td>0</td>\n      <td>0</td>\n      <td>0</td>\n      <td>0</td>\n      <td>0</td>\n      <td>0</td>\n      <td>0</td>\n      <td>0</td>\n      <td>0</td>\n      <td>0</td>\n      <td>0</td>\n      <td>0</td>\n      <td>0</td>\n      <td>0</td>\n      <td>0</td>\n      <td>0</td>\n      <td>0</td>\n      <td>0</td>\n      <td>0</td>\n      <td>0</td>\n      <td>0</td>\n      <td>0</td>\n      <td>0</td>\n      <td>0</td>\n      <td>0</td>\n      <td>0</td>\n      <td>0</td>\n      <td>0</td>\n      <td>0</td>\n      <td>0</td>\n      <td>0</td>\n      <td>0</td>\n      <td>0</td>\n      <td>0</td>\n      <td>0</td>\n      <td>0</td>\n      <td>0</td>\n      <td>0</td>\n      <td>0</td>\n      <td>0</td>\n      <td>0</td>\n      <td>0</td>\n      <td>0</td>\n      <td>0</td>\n      <td>0</td>\n      <td>0</td>\n      <td>0</td>\n      <td>0</td>\n      <td>0</td>\n      <td>0</td>\n      <td>0</td>\n      <td>0</td>\n      <td>0</td>\n      <td>0</td>\n      <td>0</td>\n      <td>0</td>\n      <td>0</td>\n      <td>0</td>\n      <td>0</td>\n      <td>0</td>\n      <td>0</td>\n      <td>0</td>\n      <td>0</td>\n      <td>0</td>\n      <td>0</td>\n      <td>0</td>\n      <td>0</td>\n      <td>0</td>\n      <td>0</td>\n      <td>0</td>\n      <td>0</td>\n      <td>0</td>\n      <td>0</td>\n      <td>0</td>\n      <td>0</td>\n      <td>0</td>\n      <td>0</td>\n      <td>0</td>\n      <td>0</td>\n      <td>0</td>\n      <td>0</td>\n      <td>0</td>\n      <td>0</td>\n      <td>0</td>\n      <td>0</td>\n      <td>0</td>\n      <td>0</td>\n      <td>0</td>\n      <td>0</td>\n      <td>0</td>\n      <td>1</td>\n      <td>0</td>\n      <td>0</td>\n      <td>0</td>\n      <td>0</td>\n      <td>0</td>\n      <td>0</td>\n      <td>0</td>\n      <td>0</td>\n      <td>0</td>\n      <td>0</td>\n      <td>0</td>\n      <td>0</td>\n      <td>0</td>\n      <td>0</td>\n      <td>Not assigned\\n</td>\n      <td>0</td>\n      <td>0</td>\n      <td>0</td>\n      <td>0</td>\n      <td>0</td>\n      <td>0</td>\n      <td>0</td>\n      <td>0</td>\n      <td>0</td>\n      <td>0</td>\n      <td>0</td>\n      <td>0</td>\n      <td>0</td>\n      <td>0</td>\n      <td>0</td>\n      <td>0</td>\n      <td>0</td>\n      <td>0</td>\n      <td>0</td>\n      <td>0</td>\n      <td>0</td>\n      <td>0</td>\n      <td>0</td>\n      <td>0</td>\n      <td>0</td>\n      <td>0</td>\n      <td>0</td>\n      <td>0</td>\n      <td>0</td>\n      <td>0</td>\n      <td>0</td>\n      <td>0</td>\n      <td>0</td>\n      <td>0</td>\n      <td>0</td>\n      <td>0</td>\n      <td>0</td>\n      <td>0</td>\n      <td>0</td>\n      <td>0</td>\n      <td>0</td>\n      <td>0</td>\n      <td>0</td>\n      <td>0</td>\n      <td>0</td>\n      <td>0</td>\n      <td>0</td>\n      <td>0</td>\n      <td>0</td>\n      <td>0</td>\n      <td>0</td>\n      <td>0</td>\n      <td>0</td>\n      <td>0</td>\n      <td>0</td>\n      <td>0</td>\n      <td>0</td>\n      <td>0</td>\n      <td>0</td>\n      <td>0</td>\n      <td>0</td>\n      <td>0</td>\n      <td>0</td>\n      <td>0</td>\n      <td>0</td>\n      <td>0</td>\n      <td>0</td>\n      <td>0</td>\n      <td>0</td>\n      <td>0</td>\n      <td>0</td>\n      <td>0</td>\n      <td>0</td>\n      <td>0</td>\n      <td>0</td>\n      <td>0</td>\n      <td>0</td>\n      <td>0</td>\n      <td>0</td>\n      <td>0</td>\n      <td>0</td>\n      <td>0</td>\n      <td>0</td>\n      <td>0</td>\n      <td>0</td>\n      <td>0</td>\n      <td>0</td>\n      <td>0</td>\n      <td>0</td>\n      <td>0</td>\n      <td>0</td>\n      <td>0</td>\n      <td>0</td>\n      <td>0</td>\n      <td>0</td>\n      <td>0</td>\n      <td>0</td>\n      <td>0</td>\n      <td>0</td>\n      <td>0</td>\n      <td>0</td>\n    </tr>\n  </tbody>\n</table>\n</div>"
     },
     "execution_count": 86,
     "metadata": {},
     "output_type": "execute_result"
    }
   ],
   "source": [
    "# one hot encoding\n",
    "Scarborough_onehot = pd.get_dummies(Scarborough_venues[['Venue Category']], prefix=\"\", prefix_sep=\"\")\n",
    "\n",
    "# add neighborhood column back to dataframe\n",
    "Scarborough_onehot['Neighborhood'] = Scarborough_venues['Neighborhood']\n",
    "\n",
    "# move neighborhood column to the first column\n",
    "fixed_columns = [Scarborough_onehot.columns[-1]] + list(Scarborough_onehot.columns[:-1])\n",
    "Scarborough_onehot = Scarborough_onehot[fixed_columns]\n",
    "Scarborough_grouped = Scarborough_onehot.groupby('Neighborhood').mean().reset_index()\n",
    "Scarborough_onehot.head(5)"
   ],
   "metadata": {
    "collapsed": false,
    "pycharm": {
     "name": "#%%\n"
    }
   }
  },
  {
   "cell_type": "code",
   "execution_count": 87,
   "outputs": [
    {
     "name": "stdout",
     "output_type": "stream",
     "text": [
      "---- Agincourt ----\n",
      "                       venue  freq\n",
      "0              Shopping Mall  0.10\n",
      "1         Chinese Restaurant  0.10\n",
      "2                Coffee Shop  0.05\n",
      "3  Latin American Restaurant  0.05\n",
      "4           Sushi Restaurant  0.05\n",
      "\n",
      "\n",
      "---- Alderwood, Long Branch ----\n",
      "            venue  freq\n",
      "0     Gas Station  0.12\n",
      "1             Pub  0.12\n",
      "2  Sandwich Place  0.12\n",
      "3     Pizza Place  0.12\n",
      "4     Coffee Shop  0.12\n",
      "\n",
      "\n",
      "---- Bathurst Manor, Wilson Heights, Downsview North ----\n",
      "                       venue  freq\n",
      "0                       Park  0.12\n",
      "1                Pizza Place  0.12\n",
      "2                Coffee Shop  0.12\n",
      "3  Middle Eastern Restaurant  0.06\n",
      "4        Fried Chicken Joint  0.06\n",
      "\n",
      "\n",
      "---- Bayview Village ----\n",
      "              venue  freq\n",
      "0       Flower Shop   0.2\n",
      "1             Trail   0.2\n",
      "2              Park   0.2\n",
      "3       Gas Station   0.2\n",
      "4  Asian Restaurant   0.2\n",
      "\n",
      "\n",
      "---- Bedford Park, Lawrence Manor East ----\n",
      "                venue  freq\n",
      "0  Italian Restaurant  0.11\n",
      "1         Pizza Place  0.07\n",
      "2      Sandwich Place  0.07\n",
      "3         Coffee Shop  0.07\n",
      "4           Pet Store  0.07\n",
      "\n",
      "\n",
      "---- Berczy Park ----\n",
      "                 venue  freq\n",
      "0          Coffee Shop  0.09\n",
      "1  Japanese Restaurant  0.05\n",
      "2                 Café  0.04\n",
      "3                Hotel  0.04\n",
      "4           Restaurant  0.04\n",
      "\n",
      "\n",
      "---- Birch Cliff, Cliffside West ----\n",
      "                   venue  freq\n",
      "0  General Entertainment  0.17\n",
      "1                   Café  0.17\n",
      "2        College Stadium  0.17\n",
      "3                   Park  0.17\n",
      "4                    Gym  0.17\n",
      "\n",
      "\n",
      "---- Brockton, Parkdale Village, Exhibition Place ----\n",
      "         venue  freq\n",
      "0         Café  0.07\n",
      "1  Coffee Shop  0.07\n",
      "2          Bar  0.06\n",
      "3       Bakery  0.05\n",
      "4   Restaurant  0.05\n",
      "\n",
      "\n",
      "---- Business reply mail Processing Centre, South Central Letter Processing Plant Toronto ----\n",
      "         venue  freq\n",
      "0  Coffee Shop  0.11\n",
      "1        Hotel  0.07\n",
      "2         Café  0.06\n",
      "3   Restaurant  0.05\n",
      "4     Beer Bar  0.03\n",
      "\n",
      "\n",
      "---- CN Tower, King and Spadina, Railway Lands, Harbourfront West, Bathurst Quay, South Niagara, Island airport ----\n",
      "           venue  freq\n",
      "0    Coffee Shop  0.10\n",
      "1            Gym  0.08\n",
      "2           Café  0.04\n",
      "3  Grocery Store  0.04\n",
      "4           Park  0.04\n",
      "\n",
      "\n",
      "---- Caledonia-Fairbanks ----\n",
      "                 venue  freq\n",
      "0                 Park  0.29\n",
      "1               Bakery  0.14\n",
      "2          Pizza Place  0.14\n",
      "3  Sporting Goods Shop  0.14\n",
      "4   Mexican Restaurant  0.14\n",
      "\n",
      "\n",
      "---- Canada Post Gateway Processing Centre ----\n",
      "         venue  freq\n",
      "0  Coffee Shop  0.11\n",
      "1        Hotel  0.07\n",
      "2         Café  0.06\n",
      "3   Restaurant  0.05\n",
      "4     Beer Bar  0.03\n",
      "\n",
      "\n",
      "---- Cedarbrae ----\n",
      "                  venue  freq\n",
      "0                  Bank  0.14\n",
      "1      Hakka Restaurant  0.14\n",
      "2  Caribbean Restaurant  0.14\n",
      "3                Bakery  0.14\n",
      "4       Thai Restaurant  0.14\n",
      "\n",
      "\n",
      "---- Central Bay Street ----\n",
      "            venue  freq\n",
      "0     Coffee Shop  0.13\n",
      "1  Clothing Store  0.05\n",
      "2            Café  0.03\n",
      "3     Art Gallery  0.03\n",
      "4           Plaza  0.02\n",
      "\n",
      "\n",
      "---- Christie ----\n",
      "                venue  freq\n",
      "0   Korean Restaurant  0.16\n",
      "1       Grocery Store  0.12\n",
      "2         Coffee Shop  0.04\n",
      "3  Mexican Restaurant  0.04\n",
      "4                Café  0.04\n",
      "\n",
      "\n",
      "---- Church and Wellesley ----\n",
      "                 venue  freq\n",
      "0          Coffee Shop  0.09\n",
      "1  Japanese Restaurant  0.07\n",
      "2     Sushi Restaurant  0.04\n",
      "3           Restaurant  0.04\n",
      "4                 Café  0.03\n",
      "\n",
      "\n",
      "---- Clarks Corners, Tam O'Shanter, Sullivan ----\n",
      "                   venue  freq\n",
      "0   Fast Food Restaurant  0.10\n",
      "1         Discount Store  0.07\n",
      "2               Pharmacy  0.07\n",
      "3  Vietnamese Restaurant  0.07\n",
      "4      Convenience Store  0.03\n",
      "\n",
      "\n",
      "---- Cliffside, Cliffcrest, Scarborough Village West ----\n",
      "            venue  freq\n",
      "0  Ice Cream Shop  0.17\n",
      "1            Bank  0.08\n",
      "2        Pharmacy  0.08\n",
      "3    Liquor Store  0.08\n",
      "4            Park  0.08\n",
      "\n",
      "\n",
      "---- Commerce Court, Victoria Hotel ----\n",
      "                 venue  freq\n",
      "0          Coffee Shop  0.11\n",
      "1                 Café  0.06\n",
      "2           Restaurant  0.05\n",
      "3  Japanese Restaurant  0.04\n",
      "4                Hotel  0.04\n",
      "\n",
      "\n",
      "---- Davisville ----\n",
      "              venue  freq\n",
      "0    Sandwich Place  0.07\n",
      "1      Dessert Shop  0.07\n",
      "2       Coffee Shop  0.07\n",
      "3       Pizza Place  0.07\n",
      "4  Sushi Restaurant  0.05\n",
      "\n",
      "\n",
      "---- Davisville North ----\n",
      "               venue  freq\n",
      "0        Pizza Place  0.12\n",
      "1                Gym  0.08\n",
      "2     Breakfast Spot  0.04\n",
      "3            Dog Run  0.04\n",
      "4  Food & Drink Shop  0.04\n",
      "\n",
      "\n",
      "---- Del Ray, Mount Dennis, Keelsdale and Silverthorn ----\n",
      "                        venue  freq\n",
      "0                Home Service   0.2\n",
      "1        Fast Food Restaurant   0.2\n",
      "2                  Playground   0.2\n",
      "3                 Coffee Shop   0.2\n",
      "4  Construction & Landscaping   0.2\n",
      "\n",
      "\n",
      "---- Don Mills ----\n",
      "                 venue  freq\n",
      "0          Coffee Shop  0.08\n",
      "1           Restaurant  0.06\n",
      "2  Japanese Restaurant  0.06\n",
      "3           Beer Store  0.04\n",
      "4                 Bank  0.04\n",
      "\n",
      "\n",
      "---- Dorset Park, Wexford Heights, Scarborough Town Centre ----\n",
      "                venue  freq\n",
      "0              Bakery   0.4\n",
      "1                Park   0.2\n",
      "2         Coffee Shop   0.2\n",
      "3  Light Rail Station   0.2\n",
      "4         Music Venue   0.0\n",
      "\n",
      "\n",
      "---- Downsview ----\n",
      "                  venue  freq\n",
      "0           Coffee Shop  0.10\n",
      "1         Grocery Store  0.05\n",
      "2        Discount Store  0.05\n",
      "3           Pizza Place  0.05\n",
      "4  Fast Food Restaurant  0.05\n",
      "\n",
      "\n",
      "---- Dufferin, Dovercourt Village ----\n",
      "           venue  freq\n",
      "0            Bar  0.10\n",
      "1    Coffee Shop  0.10\n",
      "2         Bakery  0.08\n",
      "3          Diner  0.04\n",
      "4  Grocery Store  0.04\n",
      "\n",
      "\n",
      "---- East Toronto, Broadview North (Old East York) ----\n",
      "                venue  freq\n",
      "0   Convenience Store  0.14\n",
      "1  Athletics & Sports  0.14\n",
      "2                Park  0.14\n",
      "3      Farmers Market  0.14\n",
      "4            Bus Line  0.14\n",
      "\n",
      "\n",
      "---- Eringate, Bloordale Gardens, Old Burnhamthorpe, Markland Wood ----\n",
      "               venue  freq\n",
      "0     Baseball Field  0.09\n",
      "1               Park  0.09\n",
      "2  Convenience Store  0.09\n",
      "3  Fish & Chips Shop  0.09\n",
      "4      Shopping Mall  0.09\n",
      "\n",
      "\n",
      "---- Fairview, Henry Farm, Oriole ----\n",
      "                  venue  freq\n",
      "0        Clothing Store  0.15\n",
      "1           Coffee Shop  0.07\n",
      "2  Fast Food Restaurant  0.04\n",
      "3                Bakery  0.04\n",
      "4            Restaurant  0.03\n",
      "\n",
      "\n",
      "---- First Canadian Place, Underground city ----\n",
      "                 venue  freq\n",
      "0                Hotel  0.10\n",
      "1          Coffee Shop  0.07\n",
      "2           Restaurant  0.06\n",
      "3                 Café  0.06\n",
      "4  Japanese Restaurant  0.04\n",
      "\n",
      "\n",
      "---- Forest Hill North & West, Forest Hill Road Park ----\n",
      "                           venue  freq\n",
      "0                           Bank  0.18\n",
      "1  Vegetarian / Vegan Restaurant  0.09\n",
      "2                           Park  0.09\n",
      "3             Salon / Barbershop  0.09\n",
      "4                            Gym  0.09\n",
      "\n",
      "\n",
      "---- Garden District, Ryerson ----\n",
      "                       venue  freq\n",
      "0                Coffee Shop  0.10\n",
      "1             Clothing Store  0.05\n",
      "2        Japanese Restaurant  0.03\n",
      "3  Middle Eastern Restaurant  0.03\n",
      "4            Bubble Tea Shop  0.03\n",
      "\n",
      "\n",
      "---- Glencairn ----\n",
      "                       venue  freq\n",
      "0              Grocery Store  0.17\n",
      "1         Italian Restaurant  0.11\n",
      "2                Fish Market  0.06\n",
      "3                Gas Station  0.06\n",
      "4  Latin American Restaurant  0.06\n",
      "\n",
      "\n",
      "---- Golden Mile, Clairlea, Oakridge ----\n",
      "               venue  freq\n",
      "0       Intersection  0.19\n",
      "1             Bakery  0.12\n",
      "2           Bus Line  0.12\n",
      "3  Convenience Store  0.06\n",
      "4                Gym  0.06\n",
      "\n",
      "\n",
      "---- Guildwood, Morningside, West Hill ----\n",
      "                  venue  freq\n",
      "0                  Park   0.4\n",
      "1  Gym / Fitness Center   0.2\n",
      "2    Athletics & Sports   0.2\n",
      "3        Gymnastics Gym   0.2\n",
      "4           Zoo Exhibit   0.0\n",
      "\n",
      "\n",
      "---- Harbourfront East, Union Station, Toronto Islands ----\n",
      "         venue  freq\n",
      "0  Coffee Shop  0.11\n",
      "1        Hotel  0.06\n",
      "2         Café  0.05\n",
      "3   Restaurant  0.04\n",
      "4      Brewery  0.03\n",
      "\n",
      "\n",
      "---- High Park, The Junction South ----\n",
      "                venue  freq\n",
      "0                 Bar  0.10\n",
      "1   Convenience Store  0.07\n",
      "2  Mexican Restaurant  0.05\n",
      "3                Café  0.05\n",
      "4      Sandwich Place  0.05\n",
      "\n",
      "\n",
      "---- Hillcrest Village ----\n",
      "                                      venue  freq\n",
      "0                                      Park  0.33\n",
      "1                                  Pharmacy  0.17\n",
      "2                                    Bakery  0.17\n",
      "3  Residential Building (Apartment / Condo)  0.17\n",
      "4                        Chinese Restaurant  0.17\n",
      "\n",
      "\n",
      "---- Humber Summit ----\n",
      "              venue  freq\n",
      "0  Business Service   1.0\n",
      "1       Zoo Exhibit   0.0\n",
      "2       Music Store   0.0\n",
      "3       Opera House   0.0\n",
      "4            Office   0.0\n",
      "\n",
      "\n",
      "---- Humberlea, Emery ----\n",
      "                       venue  freq\n",
      "0                Coffee Shop  0.29\n",
      "1  Latin American Restaurant  0.14\n",
      "2                       Park  0.14\n",
      "3             Discount Store  0.14\n",
      "4                       Café  0.14\n",
      "\n",
      "\n",
      "---- Humewood-Cedarvale ----\n",
      "               venue  freq\n",
      "0      Grocery Store  0.22\n",
      "1  Convenience Store  0.11\n",
      "2         Playground  0.11\n",
      "3       Hockey Arena  0.11\n",
      "4              Field  0.11\n",
      "\n",
      "\n",
      "---- India Bazaar, The Beaches West ----\n",
      "                  venue  freq\n",
      "0  Fast Food Restaurant  0.08\n",
      "1    Italian Restaurant  0.06\n",
      "2               Brewery  0.06\n",
      "3                Bakery  0.06\n",
      "4           Coffee Shop  0.06\n",
      "\n",
      "\n",
      "---- Islington Avenue, Humber Valley Village ----\n",
      "               venue  freq\n",
      "0           Pharmacy  0.18\n",
      "1               Bank  0.09\n",
      "2               Café  0.09\n",
      "3  Convenience Store  0.09\n",
      "4             Bakery  0.09\n",
      "\n",
      "\n",
      "---- Kennedy Park, Ionview, East Birchmount Park ----\n",
      "                venue  freq\n",
      "0   Convenience Store  0.14\n",
      "1          Hobby Shop  0.14\n",
      "2  Chinese Restaurant  0.14\n",
      "3      Discount Store  0.14\n",
      "4         Bus Station  0.14\n",
      "\n",
      "\n",
      "---- Kensington Market, Chinatown, Grange Park ----\n",
      "                           venue  freq\n",
      "0                           Café  0.08\n",
      "1  Vegetarian / Vegan Restaurant  0.07\n",
      "2                    Coffee Shop  0.05\n",
      "3             Mexican Restaurant  0.03\n",
      "4                            Bar  0.03\n",
      "\n",
      "\n",
      "---- Kingsview Village, St. Phillips, Martin Grove Gardens, Richview Gardens ----\n",
      "                 venue  freq\n",
      "0          Coffee Shop   0.2\n",
      "1             Pharmacy   0.2\n",
      "2    Mobile Phone Shop   0.2\n",
      "3  American Restaurant   0.2\n",
      "4       Sandwich Place   0.2\n",
      "\n",
      "\n",
      "---- Lawrence Manor, Lawrence Heights ----\n",
      "              venue  freq\n",
      "0    Clothing Store  0.17\n",
      "1      Dessert Shop  0.05\n",
      "2        Restaurant  0.05\n",
      "3    Cosmetics Shop  0.03\n",
      "4  Toy / Game Store  0.03\n",
      "\n",
      "\n",
      "---- Lawrence Park ----\n",
      "         venue  freq\n",
      "0  Coffee Shop  0.14\n",
      "1    Bookstore  0.14\n",
      "2         Park  0.14\n",
      "3         Café  0.14\n",
      "4   Restaurant  0.14\n",
      "\n",
      "\n",
      "---- Leaside ----\n",
      "                 venue  freq\n",
      "0          Coffee Shop  0.09\n",
      "1  Sporting Goods Shop  0.06\n",
      "2     Department Store  0.04\n",
      "3           Restaurant  0.04\n",
      "4              Brewery  0.04\n",
      "\n",
      "\n",
      "---- Little Portugal, Trinity ----\n",
      "                venue  freq\n",
      "0                 Bar  0.06\n",
      "1          Restaurant  0.05\n",
      "2  Italian Restaurant  0.04\n",
      "3        Cocktail Bar  0.04\n",
      "4         Coffee Shop  0.04\n",
      "\n",
      "\n",
      "---- Malvern, Rouge ----\n",
      "                  venue  freq\n",
      "0           Zoo Exhibit   0.6\n",
      "1  Fast Food Restaurant   0.2\n",
      "2      Business Service   0.2\n",
      "3           Music Store   0.0\n",
      "4           Opera House   0.0\n",
      "\n",
      "\n",
      "---- Milliken, Agincourt North, Steeles East, L'Amoreaux East ----\n",
      "            venue  freq\n",
      "0      Playground  0.25\n",
      "1  Sandwich Place  0.25\n",
      "2        Pharmacy  0.25\n",
      "3    Intersection  0.25\n",
      "4     Zoo Exhibit  0.00\n",
      "\n",
      "\n",
      "---- Mimico NW, The Queensway West, South of Bloor, Kingsway Park South West, Royal York South West ----\n",
      "                  venue  freq\n",
      "0         Burrito Place  0.08\n",
      "1          Optical Shop  0.08\n",
      "2                  Bank  0.08\n",
      "3  Gym / Fitness Center  0.04\n",
      "4                Buffet  0.04\n",
      "\n",
      "\n",
      "---- Moore Park, Summerhill East ----\n",
      "             venue  freq\n",
      "0             Park  0.43\n",
      "1  Thai Restaurant  0.14\n",
      "2            Trail  0.14\n",
      "3    Grocery Store  0.14\n",
      "4              Gym  0.14\n",
      "\n",
      "\n",
      "---- New Toronto, Mimico South, Humber Bay Shores ----\n",
      "               venue  freq\n",
      "0  Convenience Store  0.25\n",
      "1               Park  0.25\n",
      "2      Grocery Store  0.25\n",
      "3       Skating Rink  0.25\n",
      "4        Zoo Exhibit  0.00\n",
      "\n",
      "\n",
      "---- North Park, Maple Leaf Park, Upwood Park ----\n",
      "              venue  freq\n",
      "0      Home Service  0.17\n",
      "1            Bakery  0.17\n",
      "2              Park  0.17\n",
      "3  Business Service  0.17\n",
      "4    Massage Studio  0.17\n",
      "\n",
      "\n",
      "---- North Toronto West,  Lawrence Park ----\n",
      "                 venue  freq\n",
      "0  Sporting Goods Shop  0.08\n",
      "1                 Café  0.08\n",
      "2          Coffee Shop  0.08\n",
      "3       Clothing Store  0.06\n",
      "4                Diner  0.06\n",
      "\n",
      "\n",
      "---- Northwest, West Humber - Clairville ----\n",
      "                       venue  freq\n",
      "0  Middle Eastern Restaurant  0.12\n",
      "1             Sandwich Place  0.12\n",
      "2           Storage Facility  0.12\n",
      "3                Gas Station  0.12\n",
      "4                        Gym  0.12\n",
      "\n",
      "\n",
      "---- Northwood Park, York University ----\n",
      "                    venue  freq\n",
      "0                    Bank   0.1\n",
      "1             Coffee Shop   0.1\n",
      "2          Massage Studio   0.1\n",
      "3  Furniture / Home Store   0.1\n",
      "4      Falafel Restaurant   0.1\n",
      "\n",
      "\n",
      "---- Not assigned\n",
      " ----\n",
      "         venue  freq\n",
      "0  Coffee Shop  0.11\n",
      "1        Hotel  0.07\n",
      "2         Café  0.06\n",
      "3   Restaurant  0.05\n",
      "4     Beer Bar  0.03\n",
      "\n",
      "\n",
      "---- Old Mill South, King's Mill Park, Sunnylea, Humber Bay, Mimico NE, The Queensway East, Royal York South East, Kingsway Park South East ----\n",
      "                 venue  freq\n",
      "0          Coffee Shop  0.15\n",
      "1                 Bank  0.10\n",
      "2                 Park  0.10\n",
      "3        Smoothie Shop  0.05\n",
      "4  Fried Chicken Joint  0.05\n",
      "\n",
      "\n",
      "---- Parkdale, Roncesvalles ----\n",
      "                         venue  freq\n",
      "0                  Coffee Shop  0.09\n",
      "1                       Bakery  0.06\n",
      "2                         Café  0.06\n",
      "3             Sushi Restaurant  0.04\n",
      "4  Eastern European Restaurant  0.04\n",
      "\n",
      "\n",
      "---- Parkview Hill, Woodbine Gardens ----\n",
      "            venue  freq\n",
      "0         Brewery  0.11\n",
      "1     Pizza Place  0.11\n",
      "2  Breakfast Spot  0.06\n",
      "3        Pharmacy  0.06\n",
      "4       Gastropub  0.06\n",
      "\n",
      "\n",
      "---- Parkwoods ----\n",
      "               venue  freq\n",
      "0               Park  0.50\n",
      "1          Pet Store  0.25\n",
      "2  Food & Drink Shop  0.25\n",
      "3      Moving Target  0.00\n",
      "4       Noodle House  0.00\n",
      "\n",
      "\n",
      "---- Queen's Park, Ontario Provincial Government ----\n",
      "            venue  freq\n",
      "0     Coffee Shop  0.17\n",
      "1  Sandwich Place  0.07\n",
      "2            Café  0.07\n",
      "3            Park  0.03\n",
      "4         Theater  0.03\n",
      "\n",
      "\n",
      "---- Regent Park, Harbourfront ----\n",
      "         venue  freq\n",
      "0  Coffee Shop  0.13\n",
      "1         Café  0.05\n",
      "2         Park  0.05\n",
      "3   Restaurant  0.05\n",
      "4      Theater  0.05\n",
      "\n",
      "\n",
      "---- Richmond, Adelaide, King ----\n",
      "         venue  freq\n",
      "0  Coffee Shop  0.10\n",
      "1        Hotel  0.07\n",
      "2         Café  0.06\n",
      "3   Restaurant  0.05\n",
      "4      Theater  0.03\n",
      "\n",
      "\n",
      "---- Rosedale ----\n",
      "           venue  freq\n",
      "0           Park   0.4\n",
      "1     Playground   0.2\n",
      "2  Grocery Store   0.2\n",
      "3    Candy Store   0.2\n",
      "4    Zoo Exhibit   0.0\n",
      "\n",
      "\n",
      "---- Roselawn ----\n",
      "                venue  freq\n",
      "0          Playground  0.50\n",
      "1              Garden  0.25\n",
      "2  Photography Studio  0.25\n",
      "3         Zoo Exhibit  0.00\n",
      "4       Moving Target  0.00\n",
      "\n",
      "\n",
      "---- Rouge Hill, Port Union, Highland Creek ----\n",
      "               venue  freq\n",
      "0                Bar  0.67\n",
      "1  Fish & Chips Shop  0.33\n",
      "2        Zoo Exhibit  0.00\n",
      "3             Museum  0.00\n",
      "4             Office  0.00\n",
      "\n",
      "\n",
      "---- Runnymede, Swansea ----\n",
      "                venue  freq\n",
      "0                Café  0.09\n",
      "1         Coffee Shop  0.07\n",
      "2              Bakery  0.05\n",
      "3                 Pub  0.04\n",
      "4  Falafel Restaurant  0.04\n",
      "\n",
      "\n",
      "---- Runnymede, The Junction North ----\n",
      "                    venue  freq\n",
      "0                 Brewery  0.43\n",
      "1                    Park  0.29\n",
      "2  Furniture / Home Store  0.14\n",
      "3      Athletics & Sports  0.14\n",
      "4                  Museum  0.00\n",
      "\n",
      "\n",
      "---- Scarborough Village ----\n",
      "                  venue  freq\n",
      "0            Restaurant   0.2\n",
      "1        Sandwich Place   0.2\n",
      "2  Fast Food Restaurant   0.2\n",
      "3     Indian Restaurant   0.2\n",
      "4         Big Box Store   0.2\n",
      "\n",
      "\n",
      "---- South Steeles, Silverstone, Humbergate, Jamestown, Mount Olive, Beaumond Heights, Thistletown, Albion Gardens ----\n",
      "                  venue  freq\n",
      "0         Grocery Store  0.15\n",
      "1        Hardware Store  0.08\n",
      "2        Discount Store  0.08\n",
      "3  Caribbean Restaurant  0.08\n",
      "4            Beer Store  0.08\n",
      "\n",
      "\n",
      "---- St. James Town ----\n",
      "            venue  freq\n",
      "0     Coffee Shop  0.09\n",
      "1            Café  0.07\n",
      "2  Cosmetics Shop  0.04\n",
      "3      Restaurant  0.03\n",
      "4       Gastropub  0.03\n",
      "\n",
      "\n",
      "---- St. James Town, Cabbagetown ----\n",
      "         venue  freq\n",
      "0  Coffee Shop  0.10\n",
      "1  Pizza Place  0.05\n",
      "2         Café  0.05\n",
      "3         Park  0.05\n",
      "4   Restaurant  0.05\n",
      "\n",
      "\n",
      "---- Steeles West, L'Amoreaux West ----\n",
      "                  venue  freq\n",
      "0  Fast Food Restaurant  0.12\n",
      "1        Sandwich Place  0.06\n",
      "2              Pharmacy  0.06\n",
      "3    Chinese Restaurant  0.06\n",
      "4          Noodle House  0.06\n",
      "\n",
      "\n",
      "---- Stn A PO Boxes ----\n",
      "         venue  freq\n",
      "0  Coffee Shop  0.11\n",
      "1        Hotel  0.07\n",
      "2         Café  0.06\n",
      "3   Restaurant  0.05\n",
      "4     Beer Bar  0.03\n",
      "\n",
      "\n",
      "---- Studio District ----\n",
      "                venue  freq\n",
      "0         Coffee Shop  0.08\n",
      "1               Diner  0.05\n",
      "2                 Bar  0.05\n",
      "3              Bakery  0.05\n",
      "4  Italian Restaurant  0.04\n",
      "\n",
      "\n",
      "---- Summerhill West, Rathnelly, South Hill, Forest Hill SE, Deer Park ----\n",
      "                 venue  freq\n",
      "0         Skating Rink  0.12\n",
      "1          Coffee Shop  0.12\n",
      "2                  Pub  0.06\n",
      "3  Fried Chicken Joint  0.06\n",
      "4         Liquor Store  0.06\n",
      "\n",
      "\n",
      "---- The Annex, North Midtown, Yorkville ----\n",
      "                venue  freq\n",
      "0                Café  0.10\n",
      "1                Park  0.07\n",
      "2      Sandwich Place  0.07\n",
      "3         Coffee Shop  0.07\n",
      "4  Italian Restaurant  0.07\n",
      "\n",
      "\n",
      "---- The Beaches ----\n",
      "         venue  freq\n",
      "0          Pub  0.10\n",
      "1        Trail  0.05\n",
      "2  Pizza Place  0.05\n",
      "3         Park  0.05\n",
      "4       Church  0.05\n",
      "\n",
      "\n",
      "---- The Danforth West, Riverdale ----\n",
      "                venue  freq\n",
      "0                Café  0.15\n",
      "1                Bank  0.08\n",
      "2    Business Service  0.08\n",
      "3              Bakery  0.08\n",
      "4  Chinese Restaurant  0.08\n",
      "\n",
      "\n",
      "---- The Kingsway, Montgomery Road, Old Mill North ----\n",
      "                venue  freq\n",
      "0  Italian Restaurant  0.09\n",
      "1                Bank  0.06\n",
      "2              Bakery  0.06\n",
      "3    Sushi Restaurant  0.06\n",
      "4       Metro Station  0.06\n",
      "\n",
      "\n",
      "---- Thorncliffe Park ----\n",
      "               venue  freq\n",
      "0               Park  0.08\n",
      "1  Indian Restaurant  0.08\n",
      "2     Sandwich Place  0.08\n",
      "3     Discount Store  0.04\n",
      "4             Bridge  0.04\n",
      "\n",
      "\n",
      "---- Toronto Dominion Centre, Design Exchange ----\n",
      "                 venue  freq\n",
      "0          Coffee Shop  0.09\n",
      "1                Hotel  0.09\n",
      "2                 Café  0.06\n",
      "3           Restaurant  0.05\n",
      "4  American Restaurant  0.03\n",
      "\n",
      "\n",
      "---- University of Toronto, Harbord ----\n",
      "                venue  freq\n",
      "0                Café  0.09\n",
      "1  Italian Restaurant  0.04\n",
      "2              Bakery  0.04\n",
      "3         Coffee Shop  0.04\n",
      "4           Bookstore  0.04\n",
      "\n",
      "\n",
      "---- Victoria Village ----\n",
      "                        venue  freq\n",
      "0       Portuguese Restaurant  0.14\n",
      "1  Financial or Legal Service  0.14\n",
      "2   Middle Eastern Restaurant  0.14\n",
      "3                 Pizza Place  0.14\n",
      "4                 Coffee Shop  0.14\n",
      "\n",
      "\n",
      "---- West Deane Park, Princess Gardens, Martin Grove, Islington, Cloverdale ----\n",
      "               venue  freq\n",
      "0        Pizza Place  0.50\n",
      "1  Fish & Chips Shop  0.25\n",
      "2               Park  0.25\n",
      "3        Zoo Exhibit  0.00\n",
      "4      Moving Target  0.00\n",
      "\n",
      "\n",
      "---- Westmount ----\n",
      "            venue  freq\n",
      "0     Gas Station  0.14\n",
      "1     Pizza Place  0.14\n",
      "2  Sandwich Place  0.07\n",
      "3    Intersection  0.07\n",
      "4     Golf Course  0.07\n",
      "\n",
      "\n",
      "---- Weston ----\n",
      "                 venue  freq\n",
      "0        Train Station  0.18\n",
      "1  Fried Chicken Joint  0.09\n",
      "2    Convenience Store  0.09\n",
      "3                 Café  0.09\n",
      "4          Pizza Place  0.09\n",
      "\n",
      "\n",
      "---- Wexford, Maryvale ----\n",
      "                       venue  freq\n",
      "0  Middle Eastern Restaurant  0.25\n",
      "1                Gas Station  0.25\n",
      "2                Pizza Place  0.25\n",
      "3               Burger Joint  0.25\n",
      "4                     Museum  0.00\n",
      "\n",
      "\n",
      "---- Willowdale, Newtonbrook ----\n",
      "                       venue  freq\n",
      "0          Korean Restaurant  0.17\n",
      "1                Coffee Shop  0.11\n",
      "2  Middle Eastern Restaurant  0.11\n",
      "3                       Café  0.08\n",
      "4                Pizza Place  0.06\n",
      "\n",
      "\n",
      "---- Willowdale, Willowdale East ----\n",
      "                 venue  freq\n",
      "0          Coffee Shop  0.06\n",
      "1          Pizza Place  0.06\n",
      "2     Ramen Restaurant  0.05\n",
      "3                 Café  0.05\n",
      "4  Japanese Restaurant  0.05\n",
      "\n",
      "\n",
      "---- Willowdale, Willowdale West ----\n",
      "           venue  freq\n",
      "0       Pharmacy  0.12\n",
      "1           Park  0.12\n",
      "2  Grocery Store  0.12\n",
      "3     Baby Store  0.12\n",
      "4    Pizza Place  0.12\n",
      "\n",
      "\n",
      "---- Woburn ----\n",
      "                  venue  freq\n",
      "0                  Park  0.25\n",
      "1  Fast Food Restaurant  0.25\n",
      "2    Chinese Restaurant  0.25\n",
      "3           Coffee Shop  0.25\n",
      "4           Zoo Exhibit  0.00\n",
      "\n",
      "\n",
      "---- Woodbine Heights ----\n",
      "           venue  freq\n",
      "0  Metro Station  0.07\n",
      "1    Pizza Place  0.07\n",
      "2       Bus Line  0.07\n",
      "3  Grocery Store  0.07\n",
      "4    Coffee Shop  0.07\n",
      "\n",
      "\n",
      "---- York Mills West ----\n",
      "           venue  freq\n",
      "0     Restaurant  0.17\n",
      "1            Gym  0.13\n",
      "2    Coffee Shop  0.13\n",
      "3    Golf Course  0.04\n",
      "4  Metro Station  0.04\n",
      "\n",
      "\n",
      "---- York Mills, Silver Hills ----\n",
      "          venue  freq\n",
      "0  Concert Hall   0.5\n",
      "1          Park   0.5\n",
      "2        Museum   0.0\n",
      "3        Office   0.0\n",
      "4  Noodle House   0.0\n",
      "\n",
      "\n"
     ]
    }
   ],
   "source": [
    "num_top_venues = 5\n",
    "for hood in Scarborough_grouped['Neighborhood']:\n",
    "    print(\"---- \"+hood+\" ----\")\n",
    "    temp =Scarborough_grouped[Scarborough_grouped['Neighborhood'] == hood].T.reset_index()\n",
    "    temp.columns = ['venue','freq']\n",
    "    temp = temp.iloc[1:]\n",
    "    temp['freq'] = temp['freq'].astype(float)\n",
    "    temp = temp.round({'freq': 2})\n",
    "    print(temp.sort_values('freq', ascending=False).reset_index(drop=True).head(num_top_venues))\n",
    "    print('\\n')\n"
   ],
   "metadata": {
    "collapsed": false,
    "pycharm": {
     "name": "#%%\n"
    }
   }
  },
  {
   "cell_type": "code",
   "execution_count": 88,
   "outputs": [],
   "source": [
    "def return_most_common_venues(row, num_top_venues):\n",
    "    row_categories = row.iloc[1:]\n",
    "    row_categories_sorted = row_categories.sort_values(ascending=False)\n",
    "\n",
    "    return row_categories_sorted.index.values[0:num_top_venues]"
   ],
   "metadata": {
    "collapsed": false,
    "pycharm": {
     "name": "#%%\n"
    }
   }
  },
  {
   "cell_type": "code",
   "execution_count": 89,
   "outputs": [
    {
     "data": {
      "text/plain": "                                      Neighborhood 1st Most Common Venue  \\\n0                                        Agincourt         Shopping Mall   \n1                           Alderwood, Long Branch           Gas Station   \n2  Bathurst Manor, Wilson Heights, Downsview North           Pizza Place   \n3                                  Bayview Village           Gas Station   \n4                Bedford Park, Lawrence Manor East    Italian Restaurant   \n\n  2nd Most Common Venue 3rd Most Common Venue 4th Most Common Venue  \\\n0    Chinese Restaurant              Pharmacy           Coffee Shop   \n1           Pizza Place        Sandwich Place              Pharmacy   \n2                  Park           Coffee Shop           Men's Store   \n3           Flower Shop                 Trail      Asian Restaurant   \n4             Pet Store           Pizza Place           Coffee Shop   \n\n       5th Most Common Venue      6th Most Common Venue  \\\n0             Breakfast Spot  Latin American Restaurant   \n1                        Pub                Coffee Shop   \n2  Middle Eastern Restaurant          Mobile Phone Shop   \n3                       Park                Yoga Studio   \n4             Sandwich Place                   Boutique   \n\n         7th Most Common Venue 8th Most Common Venue 9th Most Common Venue  \\\n0               Sandwich Place           Supermarket      Sushi Restaurant   \n1                          Gym    Athletics & Sports           Yoga Studio   \n2             Sushi Restaurant   Fried Chicken Joint        Sandwich Place   \n3  Eastern European Restaurant      Doner Restaurant            Donut Shop   \n4                    Juice Bar      Sushi Restaurant           Sports Club   \n\n  10th Most Common Venue  \n0                   Bank  \n1    Dumpling Restaurant  \n2          Deli / Bodega  \n3            Dry Cleaner  \n4           Liquor Store  ",
      "text/html": "<div>\n<style scoped>\n    .dataframe tbody tr th:only-of-type {\n        vertical-align: middle;\n    }\n\n    .dataframe tbody tr th {\n        vertical-align: top;\n    }\n\n    .dataframe thead th {\n        text-align: right;\n    }\n</style>\n<table border=\"1\" class=\"dataframe\">\n  <thead>\n    <tr style=\"text-align: right;\">\n      <th></th>\n      <th>Neighborhood</th>\n      <th>1st Most Common Venue</th>\n      <th>2nd Most Common Venue</th>\n      <th>3rd Most Common Venue</th>\n      <th>4th Most Common Venue</th>\n      <th>5th Most Common Venue</th>\n      <th>6th Most Common Venue</th>\n      <th>7th Most Common Venue</th>\n      <th>8th Most Common Venue</th>\n      <th>9th Most Common Venue</th>\n      <th>10th Most Common Venue</th>\n    </tr>\n  </thead>\n  <tbody>\n    <tr>\n      <th>0</th>\n      <td>Agincourt</td>\n      <td>Shopping Mall</td>\n      <td>Chinese Restaurant</td>\n      <td>Pharmacy</td>\n      <td>Coffee Shop</td>\n      <td>Breakfast Spot</td>\n      <td>Latin American Restaurant</td>\n      <td>Sandwich Place</td>\n      <td>Supermarket</td>\n      <td>Sushi Restaurant</td>\n      <td>Bank</td>\n    </tr>\n    <tr>\n      <th>1</th>\n      <td>Alderwood, Long Branch</td>\n      <td>Gas Station</td>\n      <td>Pizza Place</td>\n      <td>Sandwich Place</td>\n      <td>Pharmacy</td>\n      <td>Pub</td>\n      <td>Coffee Shop</td>\n      <td>Gym</td>\n      <td>Athletics &amp; Sports</td>\n      <td>Yoga Studio</td>\n      <td>Dumpling Restaurant</td>\n    </tr>\n    <tr>\n      <th>2</th>\n      <td>Bathurst Manor, Wilson Heights, Downsview North</td>\n      <td>Pizza Place</td>\n      <td>Park</td>\n      <td>Coffee Shop</td>\n      <td>Men's Store</td>\n      <td>Middle Eastern Restaurant</td>\n      <td>Mobile Phone Shop</td>\n      <td>Sushi Restaurant</td>\n      <td>Fried Chicken Joint</td>\n      <td>Sandwich Place</td>\n      <td>Deli / Bodega</td>\n    </tr>\n    <tr>\n      <th>3</th>\n      <td>Bayview Village</td>\n      <td>Gas Station</td>\n      <td>Flower Shop</td>\n      <td>Trail</td>\n      <td>Asian Restaurant</td>\n      <td>Park</td>\n      <td>Yoga Studio</td>\n      <td>Eastern European Restaurant</td>\n      <td>Doner Restaurant</td>\n      <td>Donut Shop</td>\n      <td>Dry Cleaner</td>\n    </tr>\n    <tr>\n      <th>4</th>\n      <td>Bedford Park, Lawrence Manor East</td>\n      <td>Italian Restaurant</td>\n      <td>Pet Store</td>\n      <td>Pizza Place</td>\n      <td>Coffee Shop</td>\n      <td>Sandwich Place</td>\n      <td>Boutique</td>\n      <td>Juice Bar</td>\n      <td>Sushi Restaurant</td>\n      <td>Sports Club</td>\n      <td>Liquor Store</td>\n    </tr>\n  </tbody>\n</table>\n</div>"
     },
     "execution_count": 89,
     "metadata": {},
     "output_type": "execute_result"
    }
   ],
   "source": [
    "import numpy as np\n",
    "num_top_venues = 10\n",
    "\n",
    "indicators = ['st', 'nd', 'rd']\n",
    "\n",
    "columns = ['Neighborhood']\n",
    "for ind in np.arange(num_top_venues):\n",
    "    try:\n",
    "        columns.append('{}{} Most Common Venue'.format(ind+1, indicators[ind]))\n",
    "    except:\n",
    "        columns.append('{}th Most Common Venue'.format(ind+1))\n",
    "\n",
    "neighborhoods_venues_sorted = pd.DataFrame(columns=columns)\n",
    "neighborhoods_venues_sorted['Neighborhood'] = Scarborough_grouped['Neighborhood']\n",
    "\n",
    "for ind in np.arange(Scarborough_grouped.shape[0]):\n",
    "    neighborhoods_venues_sorted.iloc[ind, 1:] = return_most_common_venues(Scarborough_grouped.iloc[ind, :], num_top_venues)\n",
    "\n",
    "neighborhoods_venues_sorted.head()\n"
   ],
   "metadata": {
    "collapsed": false,
    "pycharm": {
     "name": "#%%\n"
    }
   }
  },
  {
   "cell_type": "code",
   "execution_count": 90,
   "outputs": [
    {
     "data": {
      "text/plain": "array([0, 0, 0, 1, 0, 0, 0, 0, 0, 0, 1, 0, 0, 0, 0, 0, 0, 0, 0, 0, 0, 0,\n       0, 0, 0, 0, 0, 0, 0, 0, 0, 0, 0, 0, 1, 0, 0, 1, 2, 0, 0, 0, 0, 0,\n       0, 0, 0, 0, 0, 0, 2, 0, 0, 1, 1, 0, 0, 0, 0, 0, 0, 0, 0, 1, 0, 0,\n       0, 1, 0, 0, 0, 1, 0, 0, 0, 0, 0, 0, 0, 0, 0, 0, 0, 0, 0, 0, 0, 0,\n       0, 0, 0, 0, 0, 0, 0, 0, 0, 0, 1])"
     },
     "execution_count": 90,
     "metadata": {},
     "output_type": "execute_result"
    }
   ],
   "source": [
    "# Using K-Means to cluster neighborhood into 3 clusters\n",
    "Scarborough_grouped_clustering = Scarborough_grouped.drop('Neighborhood', 1)\n",
    "kmeans = KMeans(n_clusters=3, random_state=0).fit(Scarborough_grouped_clustering)\n",
    "kmeans.labels_\n"
   ],
   "metadata": {
    "collapsed": false,
    "pycharm": {
     "name": "#%%\n"
    }
   }
  },
  {
   "cell_type": "code",
   "execution_count": 91,
   "outputs": [
    {
     "data": {
      "text/plain": "  Postalcode         Borough                            Neighborhood  \\\n0      M1A\\n  Not assigned\\n                          Not assigned\\n   \n1      M1B\\n   Scarborough\\n                          Malvern, Rouge   \n2      M1C\\n   Scarborough\\n  Rouge Hill, Port Union, Highland Creek   \n3      M1E\\n   Scarborough\\n       Guildwood, Morningside, West Hill   \n4      M1G\\n   Scarborough\\n                                  Woburn   \n\n   Latitude  Longitude  Cluster Labels 1st Most Common Venue  \\\n0  43.64869  -79.38544               0           Coffee Shop   \n1  43.81139  -79.19662               2           Zoo Exhibit   \n2  43.78574  -79.15875               0                   Bar   \n3  43.76575  -79.17470               1                  Park   \n4  43.76812  -79.21761               0  Fast Food Restaurant   \n\n  2nd Most Common Venue 3rd Most Common Venue 4th Most Common Venue  \\\n0                 Hotel                  Café            Restaurant   \n1  Fast Food Restaurant      Business Service           Escape Room   \n2     Fish & Chips Shop           Yoga Studio           Escape Room   \n3  Gym / Fitness Center    Athletics & Sports        Gymnastics Gym   \n4           Coffee Shop                  Park    Chinese Restaurant   \n\n  5th Most Common Venue 6th Most Common Venue 7th Most Common Venue  \\\n0              Beer Bar        Cosmetics Shop   Japanese Restaurant   \n1      Doner Restaurant            Donut Shop           Dry Cleaner   \n2      Doner Restaurant            Donut Shop           Dry Cleaner   \n3     Electronics Store               Dog Run      Doner Restaurant   \n4           Yoga Studio     Electronics Store      Doner Restaurant   \n\n  8th Most Common Venue        9th Most Common Venue 10th Most Common Venue  \n0               Theater                  Pizza Place           Concert Hall  \n1   Dumpling Restaurant  Eastern European Restaurant      Electronics Store  \n2   Dumpling Restaurant  Eastern European Restaurant      Electronics Store  \n3            Donut Shop                  Dry Cleaner    Dumpling Restaurant  \n4            Donut Shop                  Dry Cleaner    Dumpling Restaurant  ",
      "text/html": "<div>\n<style scoped>\n    .dataframe tbody tr th:only-of-type {\n        vertical-align: middle;\n    }\n\n    .dataframe tbody tr th {\n        vertical-align: top;\n    }\n\n    .dataframe thead th {\n        text-align: right;\n    }\n</style>\n<table border=\"1\" class=\"dataframe\">\n  <thead>\n    <tr style=\"text-align: right;\">\n      <th></th>\n      <th>Postalcode</th>\n      <th>Borough</th>\n      <th>Neighborhood</th>\n      <th>Latitude</th>\n      <th>Longitude</th>\n      <th>Cluster Labels</th>\n      <th>1st Most Common Venue</th>\n      <th>2nd Most Common Venue</th>\n      <th>3rd Most Common Venue</th>\n      <th>4th Most Common Venue</th>\n      <th>5th Most Common Venue</th>\n      <th>6th Most Common Venue</th>\n      <th>7th Most Common Venue</th>\n      <th>8th Most Common Venue</th>\n      <th>9th Most Common Venue</th>\n      <th>10th Most Common Venue</th>\n    </tr>\n  </thead>\n  <tbody>\n    <tr>\n      <th>0</th>\n      <td>M1A\\n</td>\n      <td>Not assigned\\n</td>\n      <td>Not assigned\\n</td>\n      <td>43.64869</td>\n      <td>-79.38544</td>\n      <td>0</td>\n      <td>Coffee Shop</td>\n      <td>Hotel</td>\n      <td>Café</td>\n      <td>Restaurant</td>\n      <td>Beer Bar</td>\n      <td>Cosmetics Shop</td>\n      <td>Japanese Restaurant</td>\n      <td>Theater</td>\n      <td>Pizza Place</td>\n      <td>Concert Hall</td>\n    </tr>\n    <tr>\n      <th>1</th>\n      <td>M1B\\n</td>\n      <td>Scarborough\\n</td>\n      <td>Malvern, Rouge</td>\n      <td>43.81139</td>\n      <td>-79.19662</td>\n      <td>2</td>\n      <td>Zoo Exhibit</td>\n      <td>Fast Food Restaurant</td>\n      <td>Business Service</td>\n      <td>Escape Room</td>\n      <td>Doner Restaurant</td>\n      <td>Donut Shop</td>\n      <td>Dry Cleaner</td>\n      <td>Dumpling Restaurant</td>\n      <td>Eastern European Restaurant</td>\n      <td>Electronics Store</td>\n    </tr>\n    <tr>\n      <th>2</th>\n      <td>M1C\\n</td>\n      <td>Scarborough\\n</td>\n      <td>Rouge Hill, Port Union, Highland Creek</td>\n      <td>43.78574</td>\n      <td>-79.15875</td>\n      <td>0</td>\n      <td>Bar</td>\n      <td>Fish &amp; Chips Shop</td>\n      <td>Yoga Studio</td>\n      <td>Escape Room</td>\n      <td>Doner Restaurant</td>\n      <td>Donut Shop</td>\n      <td>Dry Cleaner</td>\n      <td>Dumpling Restaurant</td>\n      <td>Eastern European Restaurant</td>\n      <td>Electronics Store</td>\n    </tr>\n    <tr>\n      <th>3</th>\n      <td>M1E\\n</td>\n      <td>Scarborough\\n</td>\n      <td>Guildwood, Morningside, West Hill</td>\n      <td>43.76575</td>\n      <td>-79.17470</td>\n      <td>1</td>\n      <td>Park</td>\n      <td>Gym / Fitness Center</td>\n      <td>Athletics &amp; Sports</td>\n      <td>Gymnastics Gym</td>\n      <td>Electronics Store</td>\n      <td>Dog Run</td>\n      <td>Doner Restaurant</td>\n      <td>Donut Shop</td>\n      <td>Dry Cleaner</td>\n      <td>Dumpling Restaurant</td>\n    </tr>\n    <tr>\n      <th>4</th>\n      <td>M1G\\n</td>\n      <td>Scarborough\\n</td>\n      <td>Woburn</td>\n      <td>43.76812</td>\n      <td>-79.21761</td>\n      <td>0</td>\n      <td>Fast Food Restaurant</td>\n      <td>Coffee Shop</td>\n      <td>Park</td>\n      <td>Chinese Restaurant</td>\n      <td>Yoga Studio</td>\n      <td>Electronics Store</td>\n      <td>Doner Restaurant</td>\n      <td>Donut Shop</td>\n      <td>Dry Cleaner</td>\n      <td>Dumpling Restaurant</td>\n    </tr>\n  </tbody>\n</table>\n</div>"
     },
     "execution_count": 91,
     "metadata": {},
     "output_type": "execute_result"
    }
   ],
   "source": [
    "neighborhoods_venues_sorted.insert(0, 'Cluster Labels', kmeans.labels_)\n",
    "\n",
    "Scarborough_merged =df_2.iloc[:16,:]\n",
    "\n",
    "# merge toronto_grouped with toronto_data to add latitude/longitude for each neighborhood\n",
    "Scarborough_merged = Scarborough_merged.join(neighborhoods_venues_sorted.set_index('Neighborhood'), on='Neighborhood')\n",
    "\n",
    "Scarborough_merged.head()# check the last columns!\n"
   ],
   "metadata": {
    "collapsed": false,
    "pycharm": {
     "name": "#%%\n"
    }
   }
  },
  {
   "cell_type": "code",
   "execution_count": 92,
   "outputs": [],
   "source": [
    "kclusters = 10"
   ],
   "metadata": {
    "collapsed": false,
    "pycharm": {
     "name": "#%%\n"
    }
   }
  },
  {
   "cell_type": "code",
   "execution_count": 93,
   "outputs": [
    {
     "name": "stdout",
     "output_type": "stream",
     "text": [
      "['#8000ff', '#4856fb', '#10a2f0', '#2adddd', '#62fbc4', '#9cfba4', '#d4dd80', '#ffa256', '#ff562c', '#ff0000']\n"
     ]
    },
    {
     "data": {
      "text/plain": "<folium.folium.Map at 0x27af90686d0>",
      "text/html": "<div style=\"width:100%;\"><div style=\"position:relative;width:100%;height:0;padding-bottom:60%;\"><span style=\"color:#565656\">Make this Notebook Trusted to load map: File -> Trust Notebook</span><iframe src=\"about:blank\" style=\"position:absolute;width:100%;height:100%;left:0;top:0;border:none !important;\" data-html=PCFET0NUWVBFIGh0bWw+CjxoZWFkPiAgICAKICAgIDxtZXRhIGh0dHAtZXF1aXY9ImNvbnRlbnQtdHlwZSIgY29udGVudD0idGV4dC9odG1sOyBjaGFyc2V0PVVURi04IiAvPgogICAgCiAgICAgICAgPHNjcmlwdD4KICAgICAgICAgICAgTF9OT19UT1VDSCA9IGZhbHNlOwogICAgICAgICAgICBMX0RJU0FCTEVfM0QgPSBmYWxzZTsKICAgICAgICA8L3NjcmlwdD4KICAgIAogICAgPHNjcmlwdCBzcmM9Imh0dHBzOi8vY2RuLmpzZGVsaXZyLm5ldC9ucG0vbGVhZmxldEAxLjYuMC9kaXN0L2xlYWZsZXQuanMiPjwvc2NyaXB0PgogICAgPHNjcmlwdCBzcmM9Imh0dHBzOi8vY29kZS5qcXVlcnkuY29tL2pxdWVyeS0xLjEyLjQubWluLmpzIj48L3NjcmlwdD4KICAgIDxzY3JpcHQgc3JjPSJodHRwczovL21heGNkbi5ib290c3RyYXBjZG4uY29tL2Jvb3RzdHJhcC8zLjIuMC9qcy9ib290c3RyYXAubWluLmpzIj48L3NjcmlwdD4KICAgIDxzY3JpcHQgc3JjPSJodHRwczovL2NkbmpzLmNsb3VkZmxhcmUuY29tL2FqYXgvbGlicy9MZWFmbGV0LmF3ZXNvbWUtbWFya2Vycy8yLjAuMi9sZWFmbGV0LmF3ZXNvbWUtbWFya2Vycy5qcyI+PC9zY3JpcHQ+CiAgICA8bGluayByZWw9InN0eWxlc2hlZXQiIGhyZWY9Imh0dHBzOi8vY2RuLmpzZGVsaXZyLm5ldC9ucG0vbGVhZmxldEAxLjYuMC9kaXN0L2xlYWZsZXQuY3NzIi8+CiAgICA8bGluayByZWw9InN0eWxlc2hlZXQiIGhyZWY9Imh0dHBzOi8vbWF4Y2RuLmJvb3RzdHJhcGNkbi5jb20vYm9vdHN0cmFwLzMuMi4wL2Nzcy9ib290c3RyYXAubWluLmNzcyIvPgogICAgPGxpbmsgcmVsPSJzdHlsZXNoZWV0IiBocmVmPSJodHRwczovL21heGNkbi5ib290c3RyYXBjZG4uY29tL2Jvb3RzdHJhcC8zLjIuMC9jc3MvYm9vdHN0cmFwLXRoZW1lLm1pbi5jc3MiLz4KICAgIDxsaW5rIHJlbD0ic3R5bGVzaGVldCIgaHJlZj0iaHR0cHM6Ly9tYXhjZG4uYm9vdHN0cmFwY2RuLmNvbS9mb250LWF3ZXNvbWUvNC42LjMvY3NzL2ZvbnQtYXdlc29tZS5taW4uY3NzIi8+CiAgICA8bGluayByZWw9InN0eWxlc2hlZXQiIGhyZWY9Imh0dHBzOi8vY2RuanMuY2xvdWRmbGFyZS5jb20vYWpheC9saWJzL0xlYWZsZXQuYXdlc29tZS1tYXJrZXJzLzIuMC4yL2xlYWZsZXQuYXdlc29tZS1tYXJrZXJzLmNzcyIvPgogICAgPGxpbmsgcmVsPSJzdHlsZXNoZWV0IiBocmVmPSJodHRwczovL3Jhd2Nkbi5naXRoYWNrLmNvbS9weXRob24tdmlzdWFsaXphdGlvbi9mb2xpdW0vbWFzdGVyL2ZvbGl1bS90ZW1wbGF0ZXMvbGVhZmxldC5hd2Vzb21lLnJvdGF0ZS5jc3MiLz4KICAgIDxzdHlsZT5odG1sLCBib2R5IHt3aWR0aDogMTAwJTtoZWlnaHQ6IDEwMCU7bWFyZ2luOiAwO3BhZGRpbmc6IDA7fTwvc3R5bGU+CiAgICA8c3R5bGU+I21hcCB7cG9zaXRpb246YWJzb2x1dGU7dG9wOjA7Ym90dG9tOjA7cmlnaHQ6MDtsZWZ0OjA7fTwvc3R5bGU+CiAgICAKICAgICAgICAgICAgPG1ldGEgbmFtZT0idmlld3BvcnQiIGNvbnRlbnQ9IndpZHRoPWRldmljZS13aWR0aCwKICAgICAgICAgICAgICAgIGluaXRpYWwtc2NhbGU9MS4wLCBtYXhpbXVtLXNjYWxlPTEuMCwgdXNlci1zY2FsYWJsZT1ubyIgLz4KICAgICAgICAgICAgPHN0eWxlPgogICAgICAgICAgICAgICAgI21hcF82YTk1NTZmNjRlYjI0N2UyODFjMjE5MDQ5YjFmNDZlZSB7CiAgICAgICAgICAgICAgICAgICAgcG9zaXRpb246IHJlbGF0aXZlOwogICAgICAgICAgICAgICAgICAgIHdpZHRoOiAxMDAuMCU7CiAgICAgICAgICAgICAgICAgICAgaGVpZ2h0OiAxMDAuMCU7CiAgICAgICAgICAgICAgICAgICAgbGVmdDogMC4wJTsKICAgICAgICAgICAgICAgICAgICB0b3A6IDAuMCU7CiAgICAgICAgICAgICAgICB9CiAgICAgICAgICAgIDwvc3R5bGU+CiAgICAgICAgCjwvaGVhZD4KPGJvZHk+ICAgIAogICAgCiAgICAgICAgICAgIDxkaXYgY2xhc3M9ImZvbGl1bS1tYXAiIGlkPSJtYXBfNmE5NTU2ZjY0ZWIyNDdlMjgxYzIxOTA0OWIxZjQ2ZWUiID48L2Rpdj4KICAgICAgICAKPC9ib2R5Pgo8c2NyaXB0PiAgICAKICAgIAogICAgICAgICAgICB2YXIgbWFwXzZhOTU1NmY2NGViMjQ3ZTI4MWMyMTkwNDliMWY0NmVlID0gTC5tYXAoCiAgICAgICAgICAgICAgICAibWFwXzZhOTU1NmY2NGViMjQ3ZTI4MWMyMTkwNDliMWY0NmVlIiwKICAgICAgICAgICAgICAgIHsKICAgICAgICAgICAgICAgICAgICBjZW50ZXI6IFs0My43NzI5NzQ0LCAtNzkuMjU3NjQ3OV0sCiAgICAgICAgICAgICAgICAgICAgY3JzOiBMLkNSUy5FUFNHMzg1NywKICAgICAgICAgICAgICAgICAgICB6b29tOiAxMSwKICAgICAgICAgICAgICAgICAgICB6b29tQ29udHJvbDogdHJ1ZSwKICAgICAgICAgICAgICAgICAgICBwcmVmZXJDYW52YXM6IGZhbHNlLAogICAgICAgICAgICAgICAgfQogICAgICAgICAgICApOwoKICAgICAgICAgICAgCgogICAgICAgIAogICAgCiAgICAgICAgICAgIHZhciB0aWxlX2xheWVyX2Q2NGQwZTcwN2M0MDRlNGViZDU3ZTQ0NWE1NzE5MzQ4ID0gTC50aWxlTGF5ZXIoCiAgICAgICAgICAgICAgICAiaHR0cHM6Ly97c30udGlsZS5vcGVuc3RyZWV0bWFwLm9yZy97en0ve3h9L3t5fS5wbmciLAogICAgICAgICAgICAgICAgeyJhdHRyaWJ1dGlvbiI6ICJEYXRhIGJ5IFx1MDAyNmNvcHk7IFx1MDAzY2EgaHJlZj1cImh0dHA6Ly9vcGVuc3RyZWV0bWFwLm9yZ1wiXHUwMDNlT3BlblN0cmVldE1hcFx1MDAzYy9hXHUwMDNlLCB1bmRlciBcdTAwM2NhIGhyZWY9XCJodHRwOi8vd3d3Lm9wZW5zdHJlZXRtYXAub3JnL2NvcHlyaWdodFwiXHUwMDNlT0RiTFx1MDAzYy9hXHUwMDNlLiIsICJkZXRlY3RSZXRpbmEiOiBmYWxzZSwgIm1heE5hdGl2ZVpvb20iOiAxOCwgIm1heFpvb20iOiAxOCwgIm1pblpvb20iOiAwLCAibm9XcmFwIjogZmFsc2UsICJvcGFjaXR5IjogMSwgInN1YmRvbWFpbnMiOiAiYWJjIiwgInRtcyI6IGZhbHNlfQogICAgICAgICAgICApLmFkZFRvKG1hcF82YTk1NTZmNjRlYjI0N2UyODFjMjE5MDQ5YjFmNDZlZSk7CiAgICAgICAgCiAgICAKICAgICAgICAgICAgdmFyIGNpcmNsZV9tYXJrZXJfM2M0MmY1ZmJhODViNDc3YzliNGYxYzdjNjYwZmM4OGQgPSBMLmNpcmNsZU1hcmtlcigKICAgICAgICAgICAgICAgIFs0My42NDg2OTAwMDAwMDAwNDUsIC03OS4zODU0Mzk5OTk5OTk5Nl0sCiAgICAgICAgICAgICAgICB7ImJ1YmJsaW5nTW91c2VFdmVudHMiOiB0cnVlLCAiY29sb3IiOiAiI2ZmMDAwMCIsICJkYXNoQXJyYXkiOiBudWxsLCAiZGFzaE9mZnNldCI6IG51bGwsICJmaWxsIjogdHJ1ZSwgImZpbGxDb2xvciI6ICIjZmYwMDAwIiwgImZpbGxPcGFjaXR5IjogMC43LCAiZmlsbFJ1bGUiOiAiZXZlbm9kZCIsICJsaW5lQ2FwIjogInJvdW5kIiwgImxpbmVKb2luIjogInJvdW5kIiwgIm9wYWNpdHkiOiAxLjAsICJyYWRpdXMiOiA1LCAic3Ryb2tlIjogdHJ1ZSwgIndlaWdodCI6IDN9CiAgICAgICAgICAgICkuYWRkVG8obWFwXzZhOTU1NmY2NGViMjQ3ZTI4MWMyMTkwNDliMWY0NmVlKTsKICAgICAgICAKICAgIAogICAgICAgIHZhciBwb3B1cF85NDcyYjk4YTNiNDI0ZGJjYjg5NmE2ODA0MDdjNzViMyA9IEwucG9wdXAoeyJtYXhXaWR0aCI6ICIxMDAlIn0pOwoKICAgICAgICAKICAgICAgICAgICAgdmFyIGh0bWxfN2M3YmQ4ZjUzMGU3NDFhYWExZGI4NDNmYmNkZjhiYTAgPSAkKGA8ZGl2IGlkPSJodG1sXzdjN2JkOGY1MzBlNzQxYWFhMWRiODQzZmJjZGY4YmEwIiBzdHlsZT0id2lkdGg6IDEwMC4wJTsgaGVpZ2h0OiAxMDAuMCU7Ij5Ob3QgYXNzaWduZWQgIENsdXN0ZXIgMDwvZGl2PmApWzBdOwogICAgICAgICAgICBwb3B1cF85NDcyYjk4YTNiNDI0ZGJjYjg5NmE2ODA0MDdjNzViMy5zZXRDb250ZW50KGh0bWxfN2M3YmQ4ZjUzMGU3NDFhYWExZGI4NDNmYmNkZjhiYTApOwogICAgICAgIAoKICAgICAgICBjaXJjbGVfbWFya2VyXzNjNDJmNWZiYTg1YjQ3N2M5YjRmMWM3YzY2MGZjODhkLmJpbmRQb3B1cChwb3B1cF85NDcyYjk4YTNiNDI0ZGJjYjg5NmE2ODA0MDdjNzViMykKICAgICAgICA7CgogICAgICAgIAogICAgCiAgICAKICAgICAgICAgICAgdmFyIGNpcmNsZV9tYXJrZXJfZGI0ZDZlMDc0Mjg0NDIwYzliOTMzY2NjNWY0ZmQ5MDkgPSBMLmNpcmNsZU1hcmtlcigKICAgICAgICAgICAgICAgIFs0My44MTEzOTAwMDAwMDAwNzQsIC03OS4xOTY2MTk5OTk5OTk5NF0sCiAgICAgICAgICAgICAgICB7ImJ1YmJsaW5nTW91c2VFdmVudHMiOiB0cnVlLCAiY29sb3IiOiAiIzQ4NTZmYiIsICJkYXNoQXJyYXkiOiBudWxsLCAiZGFzaE9mZnNldCI6IG51bGwsICJmaWxsIjogdHJ1ZSwgImZpbGxDb2xvciI6ICIjNDg1NmZiIiwgImZpbGxPcGFjaXR5IjogMC43LCAiZmlsbFJ1bGUiOiAiZXZlbm9kZCIsICJsaW5lQ2FwIjogInJvdW5kIiwgImxpbmVKb2luIjogInJvdW5kIiwgIm9wYWNpdHkiOiAxLjAsICJyYWRpdXMiOiA1LCAic3Ryb2tlIjogdHJ1ZSwgIndlaWdodCI6IDN9CiAgICAgICAgICAgICkuYWRkVG8obWFwXzZhOTU1NmY2NGViMjQ3ZTI4MWMyMTkwNDliMWY0NmVlKTsKICAgICAgICAKICAgIAogICAgICAgIHZhciBwb3B1cF9kMzE4OTFjNGEzZDU0Mzc3ODA0OTg2YzcwNjZjOWE4NiA9IEwucG9wdXAoeyJtYXhXaWR0aCI6ICIxMDAlIn0pOwoKICAgICAgICAKICAgICAgICAgICAgdmFyIGh0bWxfYjhlNzI2YWRlMWVlNDhlOTkzOTY4NjJmNmJiZjZjNWIgPSAkKGA8ZGl2IGlkPSJodG1sX2I4ZTcyNmFkZTFlZTQ4ZTk5Mzk2ODYyZjZiYmY2YzViIiBzdHlsZT0id2lkdGg6IDEwMC4wJTsgaGVpZ2h0OiAxMDAuMCU7Ij5NYWx2ZXJuLCBSb3VnZSBDbHVzdGVyIDI8L2Rpdj5gKVswXTsKICAgICAgICAgICAgcG9wdXBfZDMxODkxYzRhM2Q1NDM3NzgwNDk4NmM3MDY2YzlhODYuc2V0Q29udGVudChodG1sX2I4ZTcyNmFkZTFlZTQ4ZTk5Mzk2ODYyZjZiYmY2YzViKTsKICAgICAgICAKCiAgICAgICAgY2lyY2xlX21hcmtlcl9kYjRkNmUwNzQyODQ0MjBjOWI5MzNjY2M1ZjRmZDkwOS5iaW5kUG9wdXAocG9wdXBfZDMxODkxYzRhM2Q1NDM3NzgwNDk4NmM3MDY2YzlhODYpCiAgICAgICAgOwoKICAgICAgICAKICAgIAogICAgCiAgICAgICAgICAgIHZhciBjaXJjbGVfbWFya2VyXzVlZDEwNDc5ZDQ1MjQzNjI5ZTYyZmU1OTg5NjhkOGZiID0gTC5jaXJjbGVNYXJrZXIoCiAgICAgICAgICAgICAgICBbNDMuNzg1NzQwMDAwMDAwMDMsIC03OS4xNTg3NDk5OTk5OTk5NF0sCiAgICAgICAgICAgICAgICB7ImJ1YmJsaW5nTW91c2VFdmVudHMiOiB0cnVlLCAiY29sb3IiOiAiI2ZmMDAwMCIsICJkYXNoQXJyYXkiOiBudWxsLCAiZGFzaE9mZnNldCI6IG51bGwsICJmaWxsIjogdHJ1ZSwgImZpbGxDb2xvciI6ICIjZmYwMDAwIiwgImZpbGxPcGFjaXR5IjogMC43LCAiZmlsbFJ1bGUiOiAiZXZlbm9kZCIsICJsaW5lQ2FwIjogInJvdW5kIiwgImxpbmVKb2luIjogInJvdW5kIiwgIm9wYWNpdHkiOiAxLjAsICJyYWRpdXMiOiA1LCAic3Ryb2tlIjogdHJ1ZSwgIndlaWdodCI6IDN9CiAgICAgICAgICAgICkuYWRkVG8obWFwXzZhOTU1NmY2NGViMjQ3ZTI4MWMyMTkwNDliMWY0NmVlKTsKICAgICAgICAKICAgIAogICAgICAgIHZhciBwb3B1cF9hZTNhY2JmZDU0ZDg0ODU0OGYxYzM2NzMxNTdkMTE2MyA9IEwucG9wdXAoeyJtYXhXaWR0aCI6ICIxMDAlIn0pOwoKICAgICAgICAKICAgICAgICAgICAgdmFyIGh0bWxfYzAyYzA3YWE5NjBjNDI0MGI0NGUwODgxNDU5Zjc3MjAgPSAkKGA8ZGl2IGlkPSJodG1sX2MwMmMwN2FhOTYwYzQyNDBiNDRlMDg4MTQ1OWY3NzIwIiBzdHlsZT0id2lkdGg6IDEwMC4wJTsgaGVpZ2h0OiAxMDAuMCU7Ij5Sb3VnZSBIaWxsLCBQb3J0IFVuaW9uLCBIaWdobGFuZCBDcmVlayBDbHVzdGVyIDA8L2Rpdj5gKVswXTsKICAgICAgICAgICAgcG9wdXBfYWUzYWNiZmQ1NGQ4NDg1NDhmMWMzNjczMTU3ZDExNjMuc2V0Q29udGVudChodG1sX2MwMmMwN2FhOTYwYzQyNDBiNDRlMDg4MTQ1OWY3NzIwKTsKICAgICAgICAKCiAgICAgICAgY2lyY2xlX21hcmtlcl81ZWQxMDQ3OWQ0NTI0MzYyOWU2MmZlNTk4OTY4ZDhmYi5iaW5kUG9wdXAocG9wdXBfYWUzYWNiZmQ1NGQ4NDg1NDhmMWMzNjczMTU3ZDExNjMpCiAgICAgICAgOwoKICAgICAgICAKICAgIAogICAgCiAgICAgICAgICAgIHZhciBjaXJjbGVfbWFya2VyXzk0NmMxYzU5ZjM1ZDQ4MDdiMGU0Y2VmM2FkZDM0ZTkyID0gTC5jaXJjbGVNYXJrZXIoCiAgICAgICAgICAgICAgICBbNDMuNzY1NzUwMDAwMDAwMDI1LCAtNzkuMTc0Njk5OTk5OTk5OTddLAogICAgICAgICAgICAgICAgeyJidWJibGluZ01vdXNlRXZlbnRzIjogdHJ1ZSwgImNvbG9yIjogIiM4MDAwZmYiLCAiZGFzaEFycmF5IjogbnVsbCwgImRhc2hPZmZzZXQiOiBudWxsLCAiZmlsbCI6IHRydWUsICJmaWxsQ29sb3IiOiAiIzgwMDBmZiIsICJmaWxsT3BhY2l0eSI6IDAuNywgImZpbGxSdWxlIjogImV2ZW5vZGQiLCAibGluZUNhcCI6ICJyb3VuZCIsICJsaW5lSm9pbiI6ICJyb3VuZCIsICJvcGFjaXR5IjogMS4wLCAicmFkaXVzIjogNSwgInN0cm9rZSI6IHRydWUsICJ3ZWlnaHQiOiAzfQogICAgICAgICAgICApLmFkZFRvKG1hcF82YTk1NTZmNjRlYjI0N2UyODFjMjE5MDQ5YjFmNDZlZSk7CiAgICAgICAgCiAgICAKICAgICAgICB2YXIgcG9wdXBfOWI2MTFiMzE1ZWFmNDBlY2EwNzAxOWZmOTkxZDFjNzggPSBMLnBvcHVwKHsibWF4V2lkdGgiOiAiMTAwJSJ9KTsKCiAgICAgICAgCiAgICAgICAgICAgIHZhciBodG1sX2YxOTU4MjFhNjk5MTQ5ZmViZDZhYWI3NGM3YWUyMzMxID0gJChgPGRpdiBpZD0iaHRtbF9mMTk1ODIxYTY5OTE0OWZlYmQ2YWFiNzRjN2FlMjMzMSIgc3R5bGU9IndpZHRoOiAxMDAuMCU7IGhlaWdodDogMTAwLjAlOyI+R3VpbGR3b29kLCBNb3JuaW5nc2lkZSwgV2VzdCBIaWxsIENsdXN0ZXIgMTwvZGl2PmApWzBdOwogICAgICAgICAgICBwb3B1cF85YjYxMWIzMTVlYWY0MGVjYTA3MDE5ZmY5OTFkMWM3OC5zZXRDb250ZW50KGh0bWxfZjE5NTgyMWE2OTkxNDlmZWJkNmFhYjc0YzdhZTIzMzEpOwogICAgICAgIAoKICAgICAgICBjaXJjbGVfbWFya2VyXzk0NmMxYzU5ZjM1ZDQ4MDdiMGU0Y2VmM2FkZDM0ZTkyLmJpbmRQb3B1cChwb3B1cF85YjYxMWIzMTVlYWY0MGVjYTA3MDE5ZmY5OTFkMWM3OCkKICAgICAgICA7CgogICAgICAgIAogICAgCiAgICAKICAgICAgICAgICAgdmFyIGNpcmNsZV9tYXJrZXJfNGI0MzliNzc5NDdlNGQ1ZmI3ZjU4ZDljOGYwM2Q1YzYgPSBMLmNpcmNsZU1hcmtlcigKICAgICAgICAgICAgICAgIFs0My43NjgxMjAwMDAwMDAwNywgLTc5LjIxNzYwOTk5OTk5OTk4XSwKICAgICAgICAgICAgICAgIHsiYnViYmxpbmdNb3VzZUV2ZW50cyI6IHRydWUsICJjb2xvciI6ICIjZmYwMDAwIiwgImRhc2hBcnJheSI6IG51bGwsICJkYXNoT2Zmc2V0IjogbnVsbCwgImZpbGwiOiB0cnVlLCAiZmlsbENvbG9yIjogIiNmZjAwMDAiLCAiZmlsbE9wYWNpdHkiOiAwLjcsICJmaWxsUnVsZSI6ICJldmVub2RkIiwgImxpbmVDYXAiOiAicm91bmQiLCAibGluZUpvaW4iOiAicm91bmQiLCAib3BhY2l0eSI6IDEuMCwgInJhZGl1cyI6IDUsICJzdHJva2UiOiB0cnVlLCAid2VpZ2h0IjogM30KICAgICAgICAgICAgKS5hZGRUbyhtYXBfNmE5NTU2ZjY0ZWIyNDdlMjgxYzIxOTA0OWIxZjQ2ZWUpOwogICAgICAgIAogICAgCiAgICAgICAgdmFyIHBvcHVwX2Q1OTUwZTBkOWRlZTQ5MTc5YmM0ZGNiZjVlYzM0ZDljID0gTC5wb3B1cCh7Im1heFdpZHRoIjogIjEwMCUifSk7CgogICAgICAgIAogICAgICAgICAgICB2YXIgaHRtbF83YmRkNTFiY2NmOWM0MWQxYjBiYWJmMDgxODQxMWVkYyA9ICQoYDxkaXYgaWQ9Imh0bWxfN2JkZDUxYmNjZjljNDFkMWIwYmFiZjA4MTg0MTFlZGMiIHN0eWxlPSJ3aWR0aDogMTAwLjAlOyBoZWlnaHQ6IDEwMC4wJTsiPldvYnVybiBDbHVzdGVyIDA8L2Rpdj5gKVswXTsKICAgICAgICAgICAgcG9wdXBfZDU5NTBlMGQ5ZGVlNDkxNzliYzRkY2JmNWVjMzRkOWMuc2V0Q29udGVudChodG1sXzdiZGQ1MWJjY2Y5YzQxZDFiMGJhYmYwODE4NDExZWRjKTsKICAgICAgICAKCiAgICAgICAgY2lyY2xlX21hcmtlcl80YjQzOWI3Nzk0N2U0ZDVmYjdmNThkOWM4ZjAzZDVjNi5iaW5kUG9wdXAocG9wdXBfZDU5NTBlMGQ5ZGVlNDkxNzliYzRkY2JmNWVjMzRkOWMpCiAgICAgICAgOwoKICAgICAgICAKICAgIAogICAgCiAgICAgICAgICAgIHZhciBjaXJjbGVfbWFya2VyXzNhNTA1MGVlZThlMzQ4NTQ5YmE4YWMwOTQ0ZDMxMmNhID0gTC5jaXJjbGVNYXJrZXIoCiAgICAgICAgICAgICAgICBbNDMuNzY5NDQwMDAwMDAwMDMsIC03OS4yMzg5MTk5OTk5OTk5NV0sCiAgICAgICAgICAgICAgICB7ImJ1YmJsaW5nTW91c2VFdmVudHMiOiB0cnVlLCAiY29sb3IiOiAiI2ZmMDAwMCIsICJkYXNoQXJyYXkiOiBudWxsLCAiZGFzaE9mZnNldCI6IG51bGwsICJmaWxsIjogdHJ1ZSwgImZpbGxDb2xvciI6ICIjZmYwMDAwIiwgImZpbGxPcGFjaXR5IjogMC43LCAiZmlsbFJ1bGUiOiAiZXZlbm9kZCIsICJsaW5lQ2FwIjogInJvdW5kIiwgImxpbmVKb2luIjogInJvdW5kIiwgIm9wYWNpdHkiOiAxLjAsICJyYWRpdXMiOiA1LCAic3Ryb2tlIjogdHJ1ZSwgIndlaWdodCI6IDN9CiAgICAgICAgICAgICkuYWRkVG8obWFwXzZhOTU1NmY2NGViMjQ3ZTI4MWMyMTkwNDliMWY0NmVlKTsKICAgICAgICAKICAgIAogICAgICAgIHZhciBwb3B1cF9lYjRiZWI5NmM2NzM0ZmY2YjM3NjVhMDIxNjQwZmQ2YSA9IEwucG9wdXAoeyJtYXhXaWR0aCI6ICIxMDAlIn0pOwoKICAgICAgICAKICAgICAgICAgICAgdmFyIGh0bWxfZWUxY2Q2YWJhZTRmNDQ0YmE1NWI4ZjI2YzNmMjQwYWEgPSAkKGA8ZGl2IGlkPSJodG1sX2VlMWNkNmFiYWU0ZjQ0NGJhNTViOGYyNmMzZjI0MGFhIiBzdHlsZT0id2lkdGg6IDEwMC4wJTsgaGVpZ2h0OiAxMDAuMCU7Ij5DZWRhcmJyYWUgQ2x1c3RlciAwPC9kaXY+YClbMF07CiAgICAgICAgICAgIHBvcHVwX2ViNGJlYjk2YzY3MzRmZjZiMzc2NWEwMjE2NDBmZDZhLnNldENvbnRlbnQoaHRtbF9lZTFjZDZhYmFlNGY0NDRiYTU1YjhmMjZjM2YyNDBhYSk7CiAgICAgICAgCgogICAgICAgIGNpcmNsZV9tYXJrZXJfM2E1MDUwZWVlOGUzNDg1NDliYThhYzA5NDRkMzEyY2EuYmluZFBvcHVwKHBvcHVwX2ViNGJlYjk2YzY3MzRmZjZiMzc2NWEwMjE2NDBmZDZhKQogICAgICAgIDsKCiAgICAgICAgCiAgICAKICAgIAogICAgICAgICAgICB2YXIgY2lyY2xlX21hcmtlcl83Y2E2YzMyMzVjNzQ0YjVmYmVjNWE5ZTQ1ZjhmNmYxYSA9IEwuY2lyY2xlTWFya2VyKAogICAgICAgICAgICAgICAgWzQzLjc0NDQ2MDAwMDAwMDA2LCAtNzkuMjMxMTY5OTk5OTk5OTZdLAogICAgICAgICAgICAgICAgeyJidWJibGluZ01vdXNlRXZlbnRzIjogdHJ1ZSwgImNvbG9yIjogIiNmZjAwMDAiLCAiZGFzaEFycmF5IjogbnVsbCwgImRhc2hPZmZzZXQiOiBudWxsLCAiZmlsbCI6IHRydWUsICJmaWxsQ29sb3IiOiAiI2ZmMDAwMCIsICJmaWxsT3BhY2l0eSI6IDAuNywgImZpbGxSdWxlIjogImV2ZW5vZGQiLCAibGluZUNhcCI6ICJyb3VuZCIsICJsaW5lSm9pbiI6ICJyb3VuZCIsICJvcGFjaXR5IjogMS4wLCAicmFkaXVzIjogNSwgInN0cm9rZSI6IHRydWUsICJ3ZWlnaHQiOiAzfQogICAgICAgICAgICApLmFkZFRvKG1hcF82YTk1NTZmNjRlYjI0N2UyODFjMjE5MDQ5YjFmNDZlZSk7CiAgICAgICAgCiAgICAKICAgICAgICB2YXIgcG9wdXBfYzQ5YjRkMWUzM2MyNDQxYWI0MTBiZjFjNDZmYzliMDAgPSBMLnBvcHVwKHsibWF4V2lkdGgiOiAiMTAwJSJ9KTsKCiAgICAgICAgCiAgICAgICAgICAgIHZhciBodG1sXzFkMTJiNzdmZDBmNTRiZmNhMmE1MWNlNDgwMzNhMDMzID0gJChgPGRpdiBpZD0iaHRtbF8xZDEyYjc3ZmQwZjU0YmZjYTJhNTFjZTQ4MDMzYTAzMyIgc3R5bGU9IndpZHRoOiAxMDAuMCU7IGhlaWdodDogMTAwLjAlOyI+U2NhcmJvcm91Z2ggVmlsbGFnZSBDbHVzdGVyIDA8L2Rpdj5gKVswXTsKICAgICAgICAgICAgcG9wdXBfYzQ5YjRkMWUzM2MyNDQxYWI0MTBiZjFjNDZmYzliMDAuc2V0Q29udGVudChodG1sXzFkMTJiNzdmZDBmNTRiZmNhMmE1MWNlNDgwMzNhMDMzKTsKICAgICAgICAKCiAgICAgICAgY2lyY2xlX21hcmtlcl83Y2E2YzMyMzVjNzQ0YjVmYmVjNWE5ZTQ1ZjhmNmYxYS5iaW5kUG9wdXAocG9wdXBfYzQ5YjRkMWUzM2MyNDQxYWI0MTBiZjFjNDZmYzliMDApCiAgICAgICAgOwoKICAgICAgICAKICAgIAogICAgCiAgICAgICAgICAgIHZhciBjaXJjbGVfbWFya2VyXzAzNWU0YzQyZmI3ZTQ4YWI4MjBlMzc3ZGMyYjU2MzVjID0gTC5jaXJjbGVNYXJrZXIoCiAgICAgICAgICAgICAgICBbNDMuNzI1ODIwMDAwMDAwMDU2LCAtNzkuMjY0NjA5OTk5OTk5OTVdLAogICAgICAgICAgICAgICAgeyJidWJibGluZ01vdXNlRXZlbnRzIjogdHJ1ZSwgImNvbG9yIjogIiNmZjAwMDAiLCAiZGFzaEFycmF5IjogbnVsbCwgImRhc2hPZmZzZXQiOiBudWxsLCAiZmlsbCI6IHRydWUsICJmaWxsQ29sb3IiOiAiI2ZmMDAwMCIsICJmaWxsT3BhY2l0eSI6IDAuNywgImZpbGxSdWxlIjogImV2ZW5vZGQiLCAibGluZUNhcCI6ICJyb3VuZCIsICJsaW5lSm9pbiI6ICJyb3VuZCIsICJvcGFjaXR5IjogMS4wLCAicmFkaXVzIjogNSwgInN0cm9rZSI6IHRydWUsICJ3ZWlnaHQiOiAzfQogICAgICAgICAgICApLmFkZFRvKG1hcF82YTk1NTZmNjRlYjI0N2UyODFjMjE5MDQ5YjFmNDZlZSk7CiAgICAgICAgCiAgICAKICAgICAgICB2YXIgcG9wdXBfZjVlMjk3MjQzODUxNGVmZGJhYTU0MTkzN2VhMzNiYWEgPSBMLnBvcHVwKHsibWF4V2lkdGgiOiAiMTAwJSJ9KTsKCiAgICAgICAgCiAgICAgICAgICAgIHZhciBodG1sX2MwMDI1MmIyYmU5ODRmN2I4MjI2YTlkZjlkMGQxMTRiID0gJChgPGRpdiBpZD0iaHRtbF9jMDAyNTJiMmJlOTg0ZjdiODIyNmE5ZGY5ZDBkMTE0YiIgc3R5bGU9IndpZHRoOiAxMDAuMCU7IGhlaWdodDogMTAwLjAlOyI+S2VubmVkeSBQYXJrLCBJb252aWV3LCBFYXN0IEJpcmNobW91bnQgUGFyayBDbHVzdGVyIDA8L2Rpdj5gKVswXTsKICAgICAgICAgICAgcG9wdXBfZjVlMjk3MjQzODUxNGVmZGJhYTU0MTkzN2VhMzNiYWEuc2V0Q29udGVudChodG1sX2MwMDI1MmIyYmU5ODRmN2I4MjI2YTlkZjlkMGQxMTRiKTsKICAgICAgICAKCiAgICAgICAgY2lyY2xlX21hcmtlcl8wMzVlNGM0MmZiN2U0OGFiODIwZTM3N2RjMmI1NjM1Yy5iaW5kUG9wdXAocG9wdXBfZjVlMjk3MjQzODUxNGVmZGJhYTU0MTkzN2VhMzNiYWEpCiAgICAgICAgOwoKICAgICAgICAKICAgIAogICAgCiAgICAgICAgICAgIHZhciBjaXJjbGVfbWFya2VyXzdlYjA1MTM5Mzc0MTQwYmViNzQzMDRmZmU5NWQ1ZDVhID0gTC5jaXJjbGVNYXJrZXIoCiAgICAgICAgICAgICAgICBbNDMuNzEyODkwMDAwMDAwMDcsIC03OS4yODUwNTk5OTk5OTk5OV0sCiAgICAgICAgICAgICAgICB7ImJ1YmJsaW5nTW91c2VFdmVudHMiOiB0cnVlLCAiY29sb3IiOiAiI2ZmMDAwMCIsICJkYXNoQXJyYXkiOiBudWxsLCAiZGFzaE9mZnNldCI6IG51bGwsICJmaWxsIjogdHJ1ZSwgImZpbGxDb2xvciI6ICIjZmYwMDAwIiwgImZpbGxPcGFjaXR5IjogMC43LCAiZmlsbFJ1bGUiOiAiZXZlbm9kZCIsICJsaW5lQ2FwIjogInJvdW5kIiwgImxpbmVKb2luIjogInJvdW5kIiwgIm9wYWNpdHkiOiAxLjAsICJyYWRpdXMiOiA1LCAic3Ryb2tlIjogdHJ1ZSwgIndlaWdodCI6IDN9CiAgICAgICAgICAgICkuYWRkVG8obWFwXzZhOTU1NmY2NGViMjQ3ZTI4MWMyMTkwNDliMWY0NmVlKTsKICAgICAgICAKICAgIAogICAgICAgIHZhciBwb3B1cF85MWNkMDA4MzliMDQ0YWZiYWU4NWE2YWIwYTM1YzQxOCA9IEwucG9wdXAoeyJtYXhXaWR0aCI6ICIxMDAlIn0pOwoKICAgICAgICAKICAgICAgICAgICAgdmFyIGh0bWxfYzAwMGMwMzQ4MTUxNGZlMzhmMTI3MGM4MTA5MDI2NTkgPSAkKGA8ZGl2IGlkPSJodG1sX2MwMDBjMDM0ODE1MTRmZTM4ZjEyNzBjODEwOTAyNjU5IiBzdHlsZT0id2lkdGg6IDEwMC4wJTsgaGVpZ2h0OiAxMDAuMCU7Ij5Hb2xkZW4gTWlsZSwgQ2xhaXJsZWEsIE9ha3JpZGdlIENsdXN0ZXIgMDwvZGl2PmApWzBdOwogICAgICAgICAgICBwb3B1cF85MWNkMDA4MzliMDQ0YWZiYWU4NWE2YWIwYTM1YzQxOC5zZXRDb250ZW50KGh0bWxfYzAwMGMwMzQ4MTUxNGZlMzhmMTI3MGM4MTA5MDI2NTkpOwogICAgICAgIAoKICAgICAgICBjaXJjbGVfbWFya2VyXzdlYjA1MTM5Mzc0MTQwYmViNzQzMDRmZmU5NWQ1ZDVhLmJpbmRQb3B1cChwb3B1cF85MWNkMDA4MzliMDQ0YWZiYWU4NWE2YWIwYTM1YzQxOCkKICAgICAgICA7CgogICAgICAgIAogICAgCiAgICAKICAgICAgICAgICAgdmFyIGNpcmNsZV9tYXJrZXJfNDQ2Mzc2OTAyNDdjNDk5NjhkMzNjMGVjMzcwZjZhMzMgPSBMLmNpcmNsZU1hcmtlcigKICAgICAgICAgICAgICAgIFs0My43MjM2MDAwMDAwMDAwMywgLTc5LjIzNDk1OTk5OTk5OTk0XSwKICAgICAgICAgICAgICAgIHsiYnViYmxpbmdNb3VzZUV2ZW50cyI6IHRydWUsICJjb2xvciI6ICIjZmYwMDAwIiwgImRhc2hBcnJheSI6IG51bGwsICJkYXNoT2Zmc2V0IjogbnVsbCwgImZpbGwiOiB0cnVlLCAiZmlsbENvbG9yIjogIiNmZjAwMDAiLCAiZmlsbE9wYWNpdHkiOiAwLjcsICJmaWxsUnVsZSI6ICJldmVub2RkIiwgImxpbmVDYXAiOiAicm91bmQiLCAibGluZUpvaW4iOiAicm91bmQiLCAib3BhY2l0eSI6IDEuMCwgInJhZGl1cyI6IDUsICJzdHJva2UiOiB0cnVlLCAid2VpZ2h0IjogM30KICAgICAgICAgICAgKS5hZGRUbyhtYXBfNmE5NTU2ZjY0ZWIyNDdlMjgxYzIxOTA0OWIxZjQ2ZWUpOwogICAgICAgIAogICAgCiAgICAgICAgdmFyIHBvcHVwX2JiYWRjYjE2MmIyYjQ0NjJiNzg1YWJjMzZiMmFiMTBjID0gTC5wb3B1cCh7Im1heFdpZHRoIjogIjEwMCUifSk7CgogICAgICAgIAogICAgICAgICAgICB2YXIgaHRtbF9mN2I5N2VkNmRmYTU0YzM4YjJiNzY2MmI5NjIzNGMyNiA9ICQoYDxkaXYgaWQ9Imh0bWxfZjdiOTdlZDZkZmE1NGMzOGIyYjc2NjJiOTYyMzRjMjYiIHN0eWxlPSJ3aWR0aDogMTAwLjAlOyBoZWlnaHQ6IDEwMC4wJTsiPkNsaWZmc2lkZSwgQ2xpZmZjcmVzdCwgU2NhcmJvcm91Z2ggVmlsbGFnZSBXZXN0IENsdXN0ZXIgMDwvZGl2PmApWzBdOwogICAgICAgICAgICBwb3B1cF9iYmFkY2IxNjJiMmI0NDYyYjc4NWFiYzM2YjJhYjEwYy5zZXRDb250ZW50KGh0bWxfZjdiOTdlZDZkZmE1NGMzOGIyYjc2NjJiOTYyMzRjMjYpOwogICAgICAgIAoKICAgICAgICBjaXJjbGVfbWFya2VyXzQ0NjM3NjkwMjQ3YzQ5OTY4ZDMzYzBlYzM3MGY2YTMzLmJpbmRQb3B1cChwb3B1cF9iYmFkY2IxNjJiMmI0NDYyYjc4NWFiYzM2YjJhYjEwYykKICAgICAgICA7CgogICAgICAgIAogICAgCiAgICAKICAgICAgICAgICAgdmFyIGNpcmNsZV9tYXJrZXJfNGJkYzFmMzdkYTllNGQ5ZGFkZjIzZTMzMGI1ZmRmOGUgPSBMLmNpcmNsZU1hcmtlcigKICAgICAgICAgICAgICAgIFs0My42OTUxMDAwMDAwMDAwMjUsIC03OS4yNjQ2NTk5OTk5OTk5NF0sCiAgICAgICAgICAgICAgICB7ImJ1YmJsaW5nTW91c2VFdmVudHMiOiB0cnVlLCAiY29sb3IiOiAiI2ZmMDAwMCIsICJkYXNoQXJyYXkiOiBudWxsLCAiZGFzaE9mZnNldCI6IG51bGwsICJmaWxsIjogdHJ1ZSwgImZpbGxDb2xvciI6ICIjZmYwMDAwIiwgImZpbGxPcGFjaXR5IjogMC43LCAiZmlsbFJ1bGUiOiAiZXZlbm9kZCIsICJsaW5lQ2FwIjogInJvdW5kIiwgImxpbmVKb2luIjogInJvdW5kIiwgIm9wYWNpdHkiOiAxLjAsICJyYWRpdXMiOiA1LCAic3Ryb2tlIjogdHJ1ZSwgIndlaWdodCI6IDN9CiAgICAgICAgICAgICkuYWRkVG8obWFwXzZhOTU1NmY2NGViMjQ3ZTI4MWMyMTkwNDliMWY0NmVlKTsKICAgICAgICAKICAgIAogICAgICAgIHZhciBwb3B1cF81MzM5NDFkODczZDA0OTZkYjg3YTBiZjFlNzRiNWJhMSA9IEwucG9wdXAoeyJtYXhXaWR0aCI6ICIxMDAlIn0pOwoKICAgICAgICAKICAgICAgICAgICAgdmFyIGh0bWxfMDc4M2JiZDY5YmI3NDQ5Mjk1ZTNlZmNmZGExMDYyZTUgPSAkKGA8ZGl2IGlkPSJodG1sXzA3ODNiYmQ2OWJiNzQ0OTI5NWUzZWZjZmRhMTA2MmU1IiBzdHlsZT0id2lkdGg6IDEwMC4wJTsgaGVpZ2h0OiAxMDAuMCU7Ij5CaXJjaCBDbGlmZiwgQ2xpZmZzaWRlIFdlc3QgQ2x1c3RlciAwPC9kaXY+YClbMF07CiAgICAgICAgICAgIHBvcHVwXzUzMzk0MWQ4NzNkMDQ5NmRiODdhMGJmMWU3NGI1YmExLnNldENvbnRlbnQoaHRtbF8wNzgzYmJkNjliYjc0NDkyOTVlM2VmY2ZkYTEwNjJlNSk7CiAgICAgICAgCgogICAgICAgIGNpcmNsZV9tYXJrZXJfNGJkYzFmMzdkYTllNGQ5ZGFkZjIzZTMzMGI1ZmRmOGUuYmluZFBvcHVwKHBvcHVwXzUzMzk0MWQ4NzNkMDQ5NmRiODdhMGJmMWU3NGI1YmExKQogICAgICAgIDsKCiAgICAgICAgCiAgICAKICAgIAogICAgICAgICAgICB2YXIgY2lyY2xlX21hcmtlcl9mZmE0MzRmNTkzMTM0MDYwOGNkMTg4YzFmNDE1NDg3NyA9IEwuY2lyY2xlTWFya2VyKAogICAgICAgICAgICAgICAgWzQzLjc1OTk4MDAwMDAwMDA0LCAtNzkuMjY5Mzk5OTk5OTk5OTZdLAogICAgICAgICAgICAgICAgeyJidWJibGluZ01vdXNlRXZlbnRzIjogdHJ1ZSwgImNvbG9yIjogIiNmZjAwMDAiLCAiZGFzaEFycmF5IjogbnVsbCwgImRhc2hPZmZzZXQiOiBudWxsLCAiZmlsbCI6IHRydWUsICJmaWxsQ29sb3IiOiAiI2ZmMDAwMCIsICJmaWxsT3BhY2l0eSI6IDAuNywgImZpbGxSdWxlIjogImV2ZW5vZGQiLCAibGluZUNhcCI6ICJyb3VuZCIsICJsaW5lSm9pbiI6ICJyb3VuZCIsICJvcGFjaXR5IjogMS4wLCAicmFkaXVzIjogNSwgInN0cm9rZSI6IHRydWUsICJ3ZWlnaHQiOiAzfQogICAgICAgICAgICApLmFkZFRvKG1hcF82YTk1NTZmNjRlYjI0N2UyODFjMjE5MDQ5YjFmNDZlZSk7CiAgICAgICAgCiAgICAKICAgICAgICB2YXIgcG9wdXBfMmU1NDdhMjBjODc1NDAwY2IyMjQzY2E3ZTdhYzI5ZWQgPSBMLnBvcHVwKHsibWF4V2lkdGgiOiAiMTAwJSJ9KTsKCiAgICAgICAgCiAgICAgICAgICAgIHZhciBodG1sX2I2ZWJjMjk0MzYyYzQ0ZDFiMjc0YmZmNTE5OTFjYzVlID0gJChgPGRpdiBpZD0iaHRtbF9iNmViYzI5NDM2MmM0NGQxYjI3NGJmZjUxOTkxY2M1ZSIgc3R5bGU9IndpZHRoOiAxMDAuMCU7IGhlaWdodDogMTAwLjAlOyI+RG9yc2V0IFBhcmssIFdleGZvcmQgSGVpZ2h0cywgU2NhcmJvcm91Z2ggVG93biBDZW50cmUgQ2x1c3RlciAwPC9kaXY+YClbMF07CiAgICAgICAgICAgIHBvcHVwXzJlNTQ3YTIwYzg3NTQwMGNiMjI0M2NhN2U3YWMyOWVkLnNldENvbnRlbnQoaHRtbF9iNmViYzI5NDM2MmM0NGQxYjI3NGJmZjUxOTkxY2M1ZSk7CiAgICAgICAgCgogICAgICAgIGNpcmNsZV9tYXJrZXJfZmZhNDM0ZjU5MzEzNDA2MDhjZDE4OGMxZjQxNTQ4NzcuYmluZFBvcHVwKHBvcHVwXzJlNTQ3YTIwYzg3NTQwMGNiMjI0M2NhN2U3YWMyOWVkKQogICAgICAgIDsKCiAgICAgICAgCiAgICAKICAgIAogICAgICAgICAgICB2YXIgY2lyY2xlX21hcmtlcl9jMzhmZjIyM2YyNGE0NzRiODM1N2UzNTZjODJkNGYxYyA9IEwuY2lyY2xlTWFya2VyKAogICAgICAgICAgICAgICAgWzQzLjc1MDc1MDAwMDAwMDA0LCAtNzkuMzAwNTM5OTk5OTk5OTZdLAogICAgICAgICAgICAgICAgeyJidWJibGluZ01vdXNlRXZlbnRzIjogdHJ1ZSwgImNvbG9yIjogIiNmZjAwMDAiLCAiZGFzaEFycmF5IjogbnVsbCwgImRhc2hPZmZzZXQiOiBudWxsLCAiZmlsbCI6IHRydWUsICJmaWxsQ29sb3IiOiAiI2ZmMDAwMCIsICJmaWxsT3BhY2l0eSI6IDAuNywgImZpbGxSdWxlIjogImV2ZW5vZGQiLCAibGluZUNhcCI6ICJyb3VuZCIsICJsaW5lSm9pbiI6ICJyb3VuZCIsICJvcGFjaXR5IjogMS4wLCAicmFkaXVzIjogNSwgInN0cm9rZSI6IHRydWUsICJ3ZWlnaHQiOiAzfQogICAgICAgICAgICApLmFkZFRvKG1hcF82YTk1NTZmNjRlYjI0N2UyODFjMjE5MDQ5YjFmNDZlZSk7CiAgICAgICAgCiAgICAKICAgICAgICB2YXIgcG9wdXBfZGVmNWNiZjUyYzY3NDc2MzlhMmQxOTBlNTA5NWRkOTMgPSBMLnBvcHVwKHsibWF4V2lkdGgiOiAiMTAwJSJ9KTsKCiAgICAgICAgCiAgICAgICAgICAgIHZhciBodG1sX2Y0ODI0NDIwM2MzMTQ0N2I5Yzc1NDM4NDIzNTQyNmFlID0gJChgPGRpdiBpZD0iaHRtbF9mNDgyNDQyMDNjMzE0NDdiOWM3NTQzODQyMzU0MjZhZSIgc3R5bGU9IndpZHRoOiAxMDAuMCU7IGhlaWdodDogMTAwLjAlOyI+V2V4Zm9yZCwgTWFyeXZhbGUgQ2x1c3RlciAwPC9kaXY+YClbMF07CiAgICAgICAgICAgIHBvcHVwX2RlZjVjYmY1MmM2NzQ3NjM5YTJkMTkwZTUwOTVkZDkzLnNldENvbnRlbnQoaHRtbF9mNDgyNDQyMDNjMzE0NDdiOWM3NTQzODQyMzU0MjZhZSk7CiAgICAgICAgCgogICAgICAgIGNpcmNsZV9tYXJrZXJfYzM4ZmYyMjNmMjRhNDc0YjgzNTdlMzU2YzgyZDRmMWMuYmluZFBvcHVwKHBvcHVwX2RlZjVjYmY1MmM2NzQ3NjM5YTJkMTkwZTUwOTVkZDkzKQogICAgICAgIDsKCiAgICAgICAgCiAgICAKICAgIAogICAgICAgICAgICB2YXIgY2lyY2xlX21hcmtlcl9mN2M3MzY0ZTliNjA0Y2Q1OTIyM2NkNDhlMzJlNjdiYyA9IEwuY2lyY2xlTWFya2VyKAogICAgICAgICAgICAgICAgWzQzLjc5NDUyMDAwMDAwMDAzNCwgLTc5LjI2NzA3OTk5OTk5OTk2XSwKICAgICAgICAgICAgICAgIHsiYnViYmxpbmdNb3VzZUV2ZW50cyI6IHRydWUsICJjb2xvciI6ICIjZmYwMDAwIiwgImRhc2hBcnJheSI6IG51bGwsICJkYXNoT2Zmc2V0IjogbnVsbCwgImZpbGwiOiB0cnVlLCAiZmlsbENvbG9yIjogIiNmZjAwMDAiLCAiZmlsbE9wYWNpdHkiOiAwLjcsICJmaWxsUnVsZSI6ICJldmVub2RkIiwgImxpbmVDYXAiOiAicm91bmQiLCAibGluZUpvaW4iOiAicm91bmQiLCAib3BhY2l0eSI6IDEuMCwgInJhZGl1cyI6IDUsICJzdHJva2UiOiB0cnVlLCAid2VpZ2h0IjogM30KICAgICAgICAgICAgKS5hZGRUbyhtYXBfNmE5NTU2ZjY0ZWIyNDdlMjgxYzIxOTA0OWIxZjQ2ZWUpOwogICAgICAgIAogICAgCiAgICAgICAgdmFyIHBvcHVwXzA5ZjcwMjdkODcwZDRjYmViNGQxYTBkMTI0YzhkMjZmID0gTC5wb3B1cCh7Im1heFdpZHRoIjogIjEwMCUifSk7CgogICAgICAgIAogICAgICAgICAgICB2YXIgaHRtbF9iMWNiMTRjY2I3NTY0NjdlYTYyZTc4NmQzOTAwYjEyZCA9ICQoYDxkaXYgaWQ9Imh0bWxfYjFjYjE0Y2NiNzU2NDY3ZWE2MmU3ODZkMzkwMGIxMmQiIHN0eWxlPSJ3aWR0aDogMTAwLjAlOyBoZWlnaHQ6IDEwMC4wJTsiPkFnaW5jb3VydCBDbHVzdGVyIDA8L2Rpdj5gKVswXTsKICAgICAgICAgICAgcG9wdXBfMDlmNzAyN2Q4NzBkNGNiZWI0ZDFhMGQxMjRjOGQyNmYuc2V0Q29udGVudChodG1sX2IxY2IxNGNjYjc1NjQ2N2VhNjJlNzg2ZDM5MDBiMTJkKTsKICAgICAgICAKCiAgICAgICAgY2lyY2xlX21hcmtlcl9mN2M3MzY0ZTliNjA0Y2Q1OTIyM2NkNDhlMzJlNjdiYy5iaW5kUG9wdXAocG9wdXBfMDlmNzAyN2Q4NzBkNGNiZWI0ZDFhMGQxMjRjOGQyNmYpCiAgICAgICAgOwoKICAgICAgICAKICAgIAogICAgCiAgICAgICAgICAgIHZhciBjaXJjbGVfbWFya2VyX2Y5YjQ3ZTU4MzdjMzRhYWJhMjQyMGJkMDFhYzM1NjM1ID0gTC5jaXJjbGVNYXJrZXIoCiAgICAgICAgICAgICAgICBbNDMuNzg0OTEwMDAwMDAwMDI1LCAtNzkuMjk3MjE5OTk5OTk5OThdLAogICAgICAgICAgICAgICAgeyJidWJibGluZ01vdXNlRXZlbnRzIjogdHJ1ZSwgImNvbG9yIjogIiNmZjAwMDAiLCAiZGFzaEFycmF5IjogbnVsbCwgImRhc2hPZmZzZXQiOiBudWxsLCAiZmlsbCI6IHRydWUsICJmaWxsQ29sb3IiOiAiI2ZmMDAwMCIsICJmaWxsT3BhY2l0eSI6IDAuNywgImZpbGxSdWxlIjogImV2ZW5vZGQiLCAibGluZUNhcCI6ICJyb3VuZCIsICJsaW5lSm9pbiI6ICJyb3VuZCIsICJvcGFjaXR5IjogMS4wLCAicmFkaXVzIjogNSwgInN0cm9rZSI6IHRydWUsICJ3ZWlnaHQiOiAzfQogICAgICAgICAgICApLmFkZFRvKG1hcF82YTk1NTZmNjRlYjI0N2UyODFjMjE5MDQ5YjFmNDZlZSk7CiAgICAgICAgCiAgICAKICAgICAgICB2YXIgcG9wdXBfZGI5NWY5ZWIzOTc2NGFjN2I2ZTNlOGUxYjBhMmRlMzAgPSBMLnBvcHVwKHsibWF4V2lkdGgiOiAiMTAwJSJ9KTsKCiAgICAgICAgCiAgICAgICAgICAgIHZhciBodG1sXzM0YjhlZjlmYjNjYzRkYmE5MjZmOWViNzM3ODBjNDk4ID0gJChgPGRpdiBpZD0iaHRtbF8zNGI4ZWY5ZmIzY2M0ZGJhOTI2ZjllYjczNzgwYzQ5OCIgc3R5bGU9IndpZHRoOiAxMDAuMCU7IGhlaWdodDogMTAwLjAlOyI+Q2xhcmtzIENvcm5lcnMsIFRhbSBPJiMzOTtTaGFudGVyLCBTdWxsaXZhbiBDbHVzdGVyIDA8L2Rpdj5gKVswXTsKICAgICAgICAgICAgcG9wdXBfZGI5NWY5ZWIzOTc2NGFjN2I2ZTNlOGUxYjBhMmRlMzAuc2V0Q29udGVudChodG1sXzM0YjhlZjlmYjNjYzRkYmE5MjZmOWViNzM3ODBjNDk4KTsKICAgICAgICAKCiAgICAgICAgY2lyY2xlX21hcmtlcl9mOWI0N2U1ODM3YzM0YWFiYTI0MjBiZDAxYWMzNTYzNS5iaW5kUG9wdXAocG9wdXBfZGI5NWY5ZWIzOTc2NGFjN2I2ZTNlOGUxYjBhMmRlMzApCiAgICAgICAgOwoKICAgICAgICAKICAgIAogICAgCiAgICAgICAgICAgIHZhciBjaXJjbGVfbWFya2VyXzA0OTcyNWQzMDViYjQ4MjFiZjkzYzIzYzE3MjE2MmI1ID0gTC5jaXJjbGVNYXJrZXIoCiAgICAgICAgICAgICAgICBbNDMuODE3ODEwMDAwMDAwMDY1LCAtNzkuMjgwNDM5OTk5OTk5OTRdLAogICAgICAgICAgICAgICAgeyJidWJibGluZ01vdXNlRXZlbnRzIjogdHJ1ZSwgImNvbG9yIjogIiNmZjAwMDAiLCAiZGFzaEFycmF5IjogbnVsbCwgImRhc2hPZmZzZXQiOiBudWxsLCAiZmlsbCI6IHRydWUsICJmaWxsQ29sb3IiOiAiI2ZmMDAwMCIsICJmaWxsT3BhY2l0eSI6IDAuNywgImZpbGxSdWxlIjogImV2ZW5vZGQiLCAibGluZUNhcCI6ICJyb3VuZCIsICJsaW5lSm9pbiI6ICJyb3VuZCIsICJvcGFjaXR5IjogMS4wLCAicmFkaXVzIjogNSwgInN0cm9rZSI6IHRydWUsICJ3ZWlnaHQiOiAzfQogICAgICAgICAgICApLmFkZFRvKG1hcF82YTk1NTZmNjRlYjI0N2UyODFjMjE5MDQ5YjFmNDZlZSk7CiAgICAgICAgCiAgICAKICAgICAgICB2YXIgcG9wdXBfMDdiN2Y1NThjNDY1NDczMjg2ZGEwYzcxNWYxZmRkOWQgPSBMLnBvcHVwKHsibWF4V2lkdGgiOiAiMTAwJSJ9KTsKCiAgICAgICAgCiAgICAgICAgICAgIHZhciBodG1sXzg4MWMzYjkyNDQzMTRkMGM4N2JlMTBiN2EyZDE2NGM4ID0gJChgPGRpdiBpZD0iaHRtbF84ODFjM2I5MjQ0MzE0ZDBjODdiZTEwYjdhMmQxNjRjOCIgc3R5bGU9IndpZHRoOiAxMDAuMCU7IGhlaWdodDogMTAwLjAlOyI+TWlsbGlrZW4sIEFnaW5jb3VydCBOb3J0aCwgU3RlZWxlcyBFYXN0LCBMJiMzOTtBbW9yZWF1eCBFYXN0IENsdXN0ZXIgMDwvZGl2PmApWzBdOwogICAgICAgICAgICBwb3B1cF8wN2I3ZjU1OGM0NjU0NzMyODZkYTBjNzE1ZjFmZGQ5ZC5zZXRDb250ZW50KGh0bWxfODgxYzNiOTI0NDMxNGQwYzg3YmUxMGI3YTJkMTY0YzgpOwogICAgICAgIAoKICAgICAgICBjaXJjbGVfbWFya2VyXzA0OTcyNWQzMDViYjQ4MjFiZjkzYzIzYzE3MjE2MmI1LmJpbmRQb3B1cChwb3B1cF8wN2I3ZjU1OGM0NjU0NzMyODZkYTBjNzE1ZjFmZGQ5ZCkKICAgICAgICA7CgogICAgICAgIAogICAgCjwvc2NyaXB0Pg== onload=\"this.contentDocument.open();this.contentDocument.write(atob(this.getAttribute('data-html')));this.contentDocument.close();\" allowfullscreen webkitallowfullscreen mozallowfullscreen></iframe></div></div>"
     },
     "execution_count": 93,
     "metadata": {},
     "output_type": "execute_result"
    }
   ],
   "source": [
    "# create map\n",
    "map_clusters = folium.Map(location=[latitude_x, longitude_y], zoom_start=11)\n",
    "\n",
    "# set color scheme for the clusters\n",
    "x = np.arange(kclusters)\n",
    "colors_array = cm.rainbow(np.linspace(0, 1, kclusters))\n",
    "rainbow = [colors.rgb2hex(i) for i in colors_array]\n",
    "print(rainbow)\n",
    "# add markers to the map\n",
    "\n",
    "markers_colors = []\n",
    "for lat, lon, nei , cluster in zip(Scarborough_merged['Latitude'],\n",
    "                                   Scarborough_merged['Longitude'],\n",
    "                                   Scarborough_merged['Neighborhood'],\n",
    "                                   Scarborough_merged['Cluster Labels']):\n",
    "    label = folium.Popup(str(nei) + ' Cluster ' + str(cluster), parse_html=True)\n",
    "    folium.CircleMarker(\n",
    "        [lat, lon],\n",
    "        radius=5,\n",
    "        popup=label,\n",
    "        color=rainbow[cluster-1],\n",
    "        fill=True,\n",
    "        fill_color=rainbow[cluster-1],\n",
    "        fill_opacity=0.7).add_to(map_clusters)\n",
    "\n",
    "map_clusters"
   ],
   "metadata": {
    "collapsed": false,
    "pycharm": {
     "name": "#%%\n"
    }
   }
  },
  {
   "cell_type": "code",
   "execution_count": 94,
   "outputs": [],
   "source": [
    "df1=Scarborough_merged.loc[Scarborough_merged['Cluster Labels'] == 0,Scarborough_merged.columns[[2] + list(range(5, Scarborough_merged.shape[1]))]]\n",
    "df2=Scarborough_merged.loc[Scarborough_merged['Cluster Labels'] == 1,Scarborough_merged.columns[[2] + list(range(5, Scarborough_merged.shape[1]))]]\n",
    "df3=Scarborough_merged.loc[Scarborough_merged['Cluster Labels'] == 2,Scarborough_merged.columns[[2] + list(range(5, Scarborough_merged.shape[1]))]]"
   ],
   "metadata": {
    "collapsed": false,
    "pycharm": {
     "name": "#%%\n"
    }
   }
  },
  {
   "cell_type": "code",
   "execution_count": 106,
   "outputs": [
    {
     "ename": "ValueError",
     "evalue": "array length 103 does not match index length 180",
     "output_type": "error",
     "traceback": [
      "\u001B[1;31m---------------------------------------------------------------------------\u001B[0m",
      "\u001B[1;31mValueError\u001B[0m                                Traceback (most recent call last)",
      "\u001B[1;32m<ipython-input-106-d40d202a16d8>\u001B[0m in \u001B[0;36m<module>\u001B[1;34m\u001B[0m\n\u001B[1;32m----> 1\u001B[1;33m Scarborough_Avg_HousingPrice=pd.DataFrame({\"Neighborhood\":df_2[\"Neighborhood\"],\n\u001B[0m\u001B[0;32m      2\u001B[0m                                       \"Average_Housing_Price\":[335000.0,286600.0,175000.0,225900.0,219400.0,\n\u001B[0;32m      3\u001B[0m                                                                \u001B[1;36m573900.0\u001B[0m\u001B[1;33m,\u001B[0m\u001B[1;36m225000.0\u001B[0m\u001B[1;33m,\u001B[0m\u001B[1;36m370500.0\u001B[0m\u001B[1;33m,\u001B[0m\u001B[1;36m370500.0\u001B[0m\u001B[1;33m,\u001B[0m\u001B[1;36m433500.0\u001B[0m\u001B[1;33m,\u001B[0m\u001B[1;36m279200.0\u001B[0m\u001B[1;33m,\u001B[0m\u001B[1;33m\u001B[0m\u001B[1;33m\u001B[0m\u001B[0m\n\u001B[0;32m      4\u001B[0m                                                                \u001B[1;36m279200.0\u001B[0m\u001B[1;33m,\u001B[0m\u001B[1;36m225000.0\u001B[0m\u001B[1;33m,\u001B[0m\u001B[1;36m370500.\u001B[0m\u001B[1;33m,\u001B[0m\u001B[1;36m255400.0\u001B[0m\u001B[1;33m,\u001B[0m\u001B[1;36m433500.0\u001B[0m\u001B[1;33m,\u001B[0m\u001B[1;36m433500.0\u001B[0m\u001B[1;33m,\u001B[0m\u001B[1;33m\u001B[0m\u001B[1;33m\u001B[0m\u001B[0m\n\u001B[0;32m      5\u001B[0m                                                                \u001B[1;36m435000.0\u001B[0m\u001B[1;33m,\u001B[0m\u001B[1;36m289500.0\u001B[0m\u001B[1;33m,\u001B[0m\u001B[1;36m265000.0\u001B[0m\u001B[1;33m,\u001B[0m\u001B[1;36m285900.0\u001B[0m\u001B[1;33m,\u001B[0m\u001B[1;36m239400.0\u001B[0m\u001B[1;33m,\u001B[0m\u001B[1;33m\u001B[0m\u001B[1;33m\u001B[0m\u001B[0m\n",
      "\u001B[1;32mC:\\ProgramData\\Anaconda3\\envs\\pythonProject\\lib\\site-packages\\pandas\\core\\frame.py\u001B[0m in \u001B[0;36m__init__\u001B[1;34m(self, data, index, columns, dtype, copy)\u001B[0m\n\u001B[0;32m    466\u001B[0m \u001B[1;33m\u001B[0m\u001B[0m\n\u001B[0;32m    467\u001B[0m         \u001B[1;32melif\u001B[0m \u001B[0misinstance\u001B[0m\u001B[1;33m(\u001B[0m\u001B[0mdata\u001B[0m\u001B[1;33m,\u001B[0m \u001B[0mdict\u001B[0m\u001B[1;33m)\u001B[0m\u001B[1;33m:\u001B[0m\u001B[1;33m\u001B[0m\u001B[1;33m\u001B[0m\u001B[0m\n\u001B[1;32m--> 468\u001B[1;33m             \u001B[0mmgr\u001B[0m \u001B[1;33m=\u001B[0m \u001B[0minit_dict\u001B[0m\u001B[1;33m(\u001B[0m\u001B[0mdata\u001B[0m\u001B[1;33m,\u001B[0m \u001B[0mindex\u001B[0m\u001B[1;33m,\u001B[0m \u001B[0mcolumns\u001B[0m\u001B[1;33m,\u001B[0m \u001B[0mdtype\u001B[0m\u001B[1;33m=\u001B[0m\u001B[0mdtype\u001B[0m\u001B[1;33m)\u001B[0m\u001B[1;33m\u001B[0m\u001B[1;33m\u001B[0m\u001B[0m\n\u001B[0m\u001B[0;32m    469\u001B[0m         \u001B[1;32melif\u001B[0m \u001B[0misinstance\u001B[0m\u001B[1;33m(\u001B[0m\u001B[0mdata\u001B[0m\u001B[1;33m,\u001B[0m \u001B[0mma\u001B[0m\u001B[1;33m.\u001B[0m\u001B[0mMaskedArray\u001B[0m\u001B[1;33m)\u001B[0m\u001B[1;33m:\u001B[0m\u001B[1;33m\u001B[0m\u001B[1;33m\u001B[0m\u001B[0m\n\u001B[0;32m    470\u001B[0m             \u001B[1;32mimport\u001B[0m \u001B[0mnumpy\u001B[0m\u001B[1;33m.\u001B[0m\u001B[0mma\u001B[0m\u001B[1;33m.\u001B[0m\u001B[0mmrecords\u001B[0m \u001B[1;32mas\u001B[0m \u001B[0mmrecords\u001B[0m\u001B[1;33m\u001B[0m\u001B[1;33m\u001B[0m\u001B[0m\n",
      "\u001B[1;32mC:\\ProgramData\\Anaconda3\\envs\\pythonProject\\lib\\site-packages\\pandas\\core\\internals\\construction.py\u001B[0m in \u001B[0;36minit_dict\u001B[1;34m(data, index, columns, dtype)\u001B[0m\n\u001B[0;32m    281\u001B[0m             \u001B[0marr\u001B[0m \u001B[1;32mif\u001B[0m \u001B[1;32mnot\u001B[0m \u001B[0mis_datetime64tz_dtype\u001B[0m\u001B[1;33m(\u001B[0m\u001B[0marr\u001B[0m\u001B[1;33m)\u001B[0m \u001B[1;32melse\u001B[0m \u001B[0marr\u001B[0m\u001B[1;33m.\u001B[0m\u001B[0mcopy\u001B[0m\u001B[1;33m(\u001B[0m\u001B[1;33m)\u001B[0m \u001B[1;32mfor\u001B[0m \u001B[0marr\u001B[0m \u001B[1;32min\u001B[0m \u001B[0marrays\u001B[0m\u001B[1;33m\u001B[0m\u001B[1;33m\u001B[0m\u001B[0m\n\u001B[0;32m    282\u001B[0m         ]\n\u001B[1;32m--> 283\u001B[1;33m     \u001B[1;32mreturn\u001B[0m \u001B[0marrays_to_mgr\u001B[0m\u001B[1;33m(\u001B[0m\u001B[0marrays\u001B[0m\u001B[1;33m,\u001B[0m \u001B[0mdata_names\u001B[0m\u001B[1;33m,\u001B[0m \u001B[0mindex\u001B[0m\u001B[1;33m,\u001B[0m \u001B[0mcolumns\u001B[0m\u001B[1;33m,\u001B[0m \u001B[0mdtype\u001B[0m\u001B[1;33m=\u001B[0m\u001B[0mdtype\u001B[0m\u001B[1;33m)\u001B[0m\u001B[1;33m\u001B[0m\u001B[1;33m\u001B[0m\u001B[0m\n\u001B[0m\u001B[0;32m    284\u001B[0m \u001B[1;33m\u001B[0m\u001B[0m\n\u001B[0;32m    285\u001B[0m \u001B[1;33m\u001B[0m\u001B[0m\n",
      "\u001B[1;32mC:\\ProgramData\\Anaconda3\\envs\\pythonProject\\lib\\site-packages\\pandas\\core\\internals\\construction.py\u001B[0m in \u001B[0;36marrays_to_mgr\u001B[1;34m(arrays, arr_names, index, columns, dtype, verify_integrity)\u001B[0m\n\u001B[0;32m     76\u001B[0m         \u001B[1;31m# figure out the index, if necessary\u001B[0m\u001B[1;33m\u001B[0m\u001B[1;33m\u001B[0m\u001B[1;33m\u001B[0m\u001B[0m\n\u001B[0;32m     77\u001B[0m         \u001B[1;32mif\u001B[0m \u001B[0mindex\u001B[0m \u001B[1;32mis\u001B[0m \u001B[1;32mNone\u001B[0m\u001B[1;33m:\u001B[0m\u001B[1;33m\u001B[0m\u001B[1;33m\u001B[0m\u001B[0m\n\u001B[1;32m---> 78\u001B[1;33m             \u001B[0mindex\u001B[0m \u001B[1;33m=\u001B[0m \u001B[0mextract_index\u001B[0m\u001B[1;33m(\u001B[0m\u001B[0marrays\u001B[0m\u001B[1;33m)\u001B[0m\u001B[1;33m\u001B[0m\u001B[1;33m\u001B[0m\u001B[0m\n\u001B[0m\u001B[0;32m     79\u001B[0m         \u001B[1;32melse\u001B[0m\u001B[1;33m:\u001B[0m\u001B[1;33m\u001B[0m\u001B[1;33m\u001B[0m\u001B[0m\n\u001B[0;32m     80\u001B[0m             \u001B[0mindex\u001B[0m \u001B[1;33m=\u001B[0m \u001B[0mensure_index\u001B[0m\u001B[1;33m(\u001B[0m\u001B[0mindex\u001B[0m\u001B[1;33m)\u001B[0m\u001B[1;33m\u001B[0m\u001B[1;33m\u001B[0m\u001B[0m\n",
      "\u001B[1;32mC:\\ProgramData\\Anaconda3\\envs\\pythonProject\\lib\\site-packages\\pandas\\core\\internals\\construction.py\u001B[0m in \u001B[0;36mextract_index\u001B[1;34m(data)\u001B[0m\n\u001B[0;32m    409\u001B[0m                         \u001B[1;34mf\"length {len(index)}\"\u001B[0m\u001B[1;33m\u001B[0m\u001B[1;33m\u001B[0m\u001B[0m\n\u001B[0;32m    410\u001B[0m                     )\n\u001B[1;32m--> 411\u001B[1;33m                     \u001B[1;32mraise\u001B[0m \u001B[0mValueError\u001B[0m\u001B[1;33m(\u001B[0m\u001B[0mmsg\u001B[0m\u001B[1;33m)\u001B[0m\u001B[1;33m\u001B[0m\u001B[1;33m\u001B[0m\u001B[0m\n\u001B[0m\u001B[0;32m    412\u001B[0m             \u001B[1;32melse\u001B[0m\u001B[1;33m:\u001B[0m\u001B[1;33m\u001B[0m\u001B[1;33m\u001B[0m\u001B[0m\n\u001B[0;32m    413\u001B[0m                 \u001B[0mindex\u001B[0m \u001B[1;33m=\u001B[0m \u001B[0mibase\u001B[0m\u001B[1;33m.\u001B[0m\u001B[0mdefault_index\u001B[0m\u001B[1;33m(\u001B[0m\u001B[0mlengths\u001B[0m\u001B[1;33m[\u001B[0m\u001B[1;36m0\u001B[0m\u001B[1;33m]\u001B[0m\u001B[1;33m)\u001B[0m\u001B[1;33m\u001B[0m\u001B[1;33m\u001B[0m\u001B[0m\n",
      "\u001B[1;31mValueError\u001B[0m: array length 103 does not match index length 180"
     ]
    }
   ],
   "source": [
    "Scarborough_Avg_HousingPrice=pd.DataFrame({\"Neighborhood\":df_2[\"Neighborhood\"],\n",
    "                                      \"Average_Housing_Price\":[335000.0,286600.0,175000.0,225900.0,219400.0,\n",
    "                                                               573900.0,225000.0,370500.0,370500.0,433500.0,279200.0,\n",
    "                                                               279200.0,225000.0,370500.,255400.0,433500.0,433500.0,\n",
    "                                                               435000.0,289500.0,265000.0,285900.0,239400.0,\n",
    "                                                               589900.0,295000.0,380500.0,378500.0,438500.0,229200.0,\n",
    "                                                               229200.0,365000.0,388500.,285400.0,493500.0,477500.0,378000.0,316600.0,195000.0,225900.0,219400.0,\n",
    "                                                               573900.0,367000.0,370500.0,370500.0,363500.0,279200.0,\n",
    "                                                               279200.0,271000.0,370500.,255400.0,383500.0,433500.0,335000.0,286600.0,185000.0,225900.0,219400.0,\n",
    "                                                               573900.0,329000.0,370500.0,370500.0,533500.0,279200.0,\n",
    "                                                               279200.0,375000.0,370500.,255400.0,493500.0,433500.0,335000.0,286600.0,165000.0,225900.0,219400.0,\n",
    "                                                               573900.0,425000.0,370500.0,370500.0,433500.0,279200.0,\n",
    "                                                               279200.0,195000.0,370500.,255400.0,403500.0,433500.0,335000.0,286600.0,187000.0,225900.0,219400.0,\n",
    "                                                               573900.0,325000.0,370500.0,370500.0,333500.0,279200.0,\n",
    "                                                               279200.0,289000.0,370500.,255400.0,413500.0,433500.0,254800.0\n",
    "\n",
    "\n",
    "                                                              ]})\n",
    "\n",
    "\n",
    "\n"
   ],
   "metadata": {
    "collapsed": false,
    "pycharm": {
     "name": "#%%\n"
    }
   }
  },
  {
   "cell_type": "code",
   "execution_count": null,
   "outputs": [],
   "source": [
    "Scarborough_Avg_HousingPrice.set_index('Neighborhood',inplace=True,drop=True)\n",
    "\n"
   ],
   "metadata": {
    "collapsed": false,
    "pycharm": {
     "name": "#%%\n"
    }
   }
  },
  {
   "cell_type": "code",
   "execution_count": null,
   "outputs": [],
   "source": [
    "Scarborough_Avg_HousingPrice.plot(kind='bar',figsize=(24,18),alpha=0.75)\n"
   ],
   "metadata": {
    "collapsed": false,
    "pycharm": {
     "name": "#%%\n"
    }
   }
  },
  {
   "cell_type": "code",
   "execution_count": null,
   "outputs": [],
   "source": [
    "clusters=pd.DataFrame({\"Cluster1\":df1[\"Neighborhood\"],\n",
    "                      \"Cluster2\":df2[\"Neighborhood\"],\n",
    "                      \"Cluster4\":df3[\"Neighborhood\"]})\n",
    "clusters = clusters.replace(np.nan, '', regex=True)\n"
   ],
   "metadata": {
    "collapsed": false,
    "pycharm": {
     "name": "#%%\n"
    }
   }
  },
  {
   "cell_type": "code",
   "execution_count": null,
   "outputs": [],
   "source": [
    "new_Scarborough=Scarborough_merged.set_index(\"Neighborhood\",drop=True)\n",
    "#Source:https://www.greatschools.org\n",
    "Scarborough_school_ratings=pd.DataFrame({\"Neighborhood\":df[\"Neighborhood\"],\n",
    "                                      \"Top School Rating\":[7,9,5,8,10,10,7,10,1,2,1,2,7,2,3,2,6,\n",
    "                                                           5,4,8,9,9,6,6,4,5,4,6,8,10,8,9,6,2,\n",
    "                                                           10,2,5,8,9,6,6,10,8,9,1,2,3,4,5,6,9,\n",
    "                                                           8,5,9,6,9,6,4,8,10,2,5,6,3,9,8,7,\n",
    "                                                           7,8,5,8,9,1,5,4,7,2,3,6,6,9,4,8,7,\n",
    "                                                           4,8,9,2,6,4,7,5,10,4,6,8,9,7,5,6,5,8,7\n",
    "                                                           ]})\n"
   ],
   "metadata": {
    "collapsed": false,
    "pycharm": {
     "name": "#%%\n"
    }
   }
  },
  {
   "cell_type": "code",
   "execution_count": null,
   "outputs": [],
   "source": [
    "Scarborough_school_ratings.set_index('Neighborhood',inplace=True,drop=True)\n"
   ],
   "metadata": {
    "collapsed": false,
    "pycharm": {
     "name": "#%%\n"
    }
   }
  },
  {
   "cell_type": "code",
   "execution_count": null,
   "outputs": [],
   "source": [
    "Scarborough_school_ratings.plot(kind='bar',figsize=(16,10),color='red',alpha=0.75);\n"
   ],
   "metadata": {
    "collapsed": false,
    "pycharm": {
     "name": "#%%\n"
    }
   }
  }
 ],
 "metadata": {
  "kernelspec": {
   "name": "python3",
   "language": "python",
   "display_name": "Python 3"
  },
  "language_info": {
   "codemirror_mode": {
    "name": "ipython",
    "version": 2
   },
   "file_extension": ".py",
   "mimetype": "text/x-python",
   "name": "python",
   "nbconvert_exporter": "python",
   "pygments_lexer": "ipython2",
   "version": "2.7.6"
  }
 },
 "nbformat": 4,
 "nbformat_minor": 0
}