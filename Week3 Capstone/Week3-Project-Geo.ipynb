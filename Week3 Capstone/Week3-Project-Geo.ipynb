{
 "cells": [
  {
   "cell_type": "code",
   "execution_count": 15,
   "outputs": [],
   "source": [
    "import wget\n",
    "import pandas as pd\n",
    "import wikipedia as wp\n",
    "import numpy as np\n",
    "import lxml"
   ],
   "metadata": {
    "collapsed": false,
    "pycharm": {
     "name": "#%%\n"
    }
   }
  },
  {
   "cell_type": "code",
   "execution_count": 16,
   "metadata": {
    "scrolled": true
   },
   "outputs": [
    {
     "name": "stdout",
     "output_type": "stream",
     "text": [
      "    Postal Code           Borough                                                                                                                           Neighbourhood\n",
      "0           M1A      Not assigned                                                                                                                            Not assigned\n",
      "1           M2A      Not assigned                                                                                                                            Not assigned\n",
      "2           M3A        North York                                                                                                                               Parkwoods\n",
      "3           M4A        North York                                                                                                                        Victoria Village\n",
      "4           M5A  Downtown Toronto                                                                                                               Regent Park, Harbourfront\n",
      "5           M6A        North York                                                                                                        Lawrence Manor, Lawrence Heights\n",
      "6           M7A  Downtown Toronto                                                                                             Queen's Park, Ontario Provincial Government\n",
      "7           M8A      Not assigned                                                                                                                            Not assigned\n",
      "8           M9A         Etobicoke                                                                                                 Islington Avenue, Humber Valley Village\n",
      "9           M1B       Scarborough                                                                                                                          Malvern, Rouge\n",
      "10          M2B      Not assigned                                                                                                                            Not assigned\n",
      "11          M3B        North York                                                                                                                               Don Mills\n",
      "12          M4B         East York                                                                                                         Parkview Hill, Woodbine Gardens\n",
      "13          M5B  Downtown Toronto                                                                                                                Garden District, Ryerson\n",
      "14          M6B        North York                                                                                                                               Glencairn\n",
      "15          M7B      Not assigned                                                                                                                            Not assigned\n",
      "16          M8B      Not assigned                                                                                                                            Not assigned\n",
      "17          M9B         Etobicoke                                                                  West Deane Park, Princess Gardens, Martin Grove, Islington, Cloverdale\n",
      "18          M1C       Scarborough                                                                                                  Rouge Hill, Port Union, Highland Creek\n",
      "19          M2C      Not assigned                                                                                                                            Not assigned\n",
      "20          M3C        North York                                                                                                                               Don Mills\n",
      "21          M4C         East York                                                                                                                        Woodbine Heights\n",
      "22          M5C  Downtown Toronto                                                                                                                          St. James Town\n",
      "23          M6C              York                                                                                                                      Humewood-Cedarvale\n",
      "24          M7C      Not assigned                                                                                                                            Not assigned\n",
      "25          M8C      Not assigned                                                                                                                            Not assigned\n",
      "26          M9C         Etobicoke                                                                           Eringate, Bloordale Gardens, Old Burnhamthorpe, Markland Wood\n",
      "27          M1E       Scarborough                                                                                                       Guildwood, Morningside, West Hill\n",
      "28          M2E      Not assigned                                                                                                                            Not assigned\n",
      "29          M3E      Not assigned                                                                                                                            Not assigned\n",
      "30          M4E      East Toronto                                                                                                                             The Beaches\n",
      "31          M5E  Downtown Toronto                                                                                                                             Berczy Park\n",
      "32          M6E              York                                                                                                                     Caledonia-Fairbanks\n",
      "33          M7E      Not assigned                                                                                                                            Not assigned\n",
      "34          M8E      Not assigned                                                                                                                            Not assigned\n",
      "35          M9E      Not assigned                                                                                                                            Not assigned\n",
      "36          M1G       Scarborough                                                                                                                                  Woburn\n",
      "37          M2G      Not assigned                                                                                                                            Not assigned\n",
      "38          M3G      Not assigned                                                                                                                            Not assigned\n",
      "39          M4G         East York                                                                                                                                 Leaside\n",
      "40          M5G  Downtown Toronto                                                                                                                      Central Bay Street\n",
      "41          M6G  Downtown Toronto                                                                                                                                Christie\n",
      "42          M7G      Not assigned                                                                                                                            Not assigned\n",
      "43          M8G      Not assigned                                                                                                                            Not assigned\n",
      "44          M9G      Not assigned                                                                                                                            Not assigned\n",
      "45          M1H       Scarborough                                                                                                                               Cedarbrae\n",
      "46          M2H        North York                                                                                                                       Hillcrest Village\n",
      "47          M3H        North York                                                                                         Bathurst Manor, Wilson Heights, Downsview North\n",
      "48          M4H         East York                                                                                                                        Thorncliffe Park\n",
      "49          M5H  Downtown Toronto                                                                                                                Richmond, Adelaide, King\n",
      "50          M6H      West Toronto                                                                                                            Dufferin, Dovercourt Village\n",
      "51          M7H      Not assigned                                                                                                                            Not assigned\n",
      "52          M8H      Not assigned                                                                                                                            Not assigned\n",
      "53          M9H      Not assigned                                                                                                                            Not assigned\n",
      "54          M1J       Scarborough                                                                                                                     Scarborough Village\n",
      "55          M2J        North York                                                                                                            Fairview, Henry Farm, Oriole\n",
      "56          M3J        North York                                                                                                         Northwood Park, York University\n",
      "57          M4J         East York                                                                                           East Toronto, Broadview North (Old East York)\n",
      "58          M5J  Downtown Toronto                                                                                       Harbourfront East, Union Station, Toronto Islands\n",
      "59          M6J      West Toronto                                                                                                                Little Portugal, Trinity\n",
      "60          M7J      Not assigned                                                                                                                            Not assigned\n",
      "61          M8J      Not assigned                                                                                                                            Not assigned\n",
      "62          M9J      Not assigned                                                                                                                            Not assigned\n",
      "63          M1K       Scarborough                                                                                             Kennedy Park, Ionview, East Birchmount Park\n",
      "64          M2K        North York                                                                                                                         Bayview Village\n",
      "65          M3K        North York                                                                                                                               Downsview\n",
      "66          M4K      East Toronto                                                                                                            The Danforth West, Riverdale\n",
      "67          M5K  Downtown Toronto                                                                                                Toronto Dominion Centre, Design Exchange\n",
      "68          M6K      West Toronto                                                                                            Brockton, Parkdale Village, Exhibition Place\n",
      "69          M7K      Not assigned                                                                                                                            Not assigned\n",
      "70          M8K      Not assigned                                                                                                                            Not assigned\n",
      "71          M9K      Not assigned                                                                                                                            Not assigned\n",
      "72          M1L       Scarborough                                                                                                         Golden Mile, Clairlea, Oakridge\n",
      "73          M2L        North York                                                                                                                York Mills, Silver Hills\n",
      "74          M3L        North York                                                                                                                               Downsview\n",
      "75          M4L      East Toronto                                                                                                          India Bazaar, The Beaches West\n",
      "76          M5L  Downtown Toronto                                                                                                          Commerce Court, Victoria Hotel\n",
      "77          M6L        North York                                                                                                North Park, Maple Leaf Park, Upwood Park\n",
      "78          M7L      Not assigned                                                                                                                            Not assigned\n",
      "79          M8L      Not assigned                                                                                                                            Not assigned\n",
      "80          M9L        North York                                                                                                                           Humber Summit\n",
      "81          M1M       Scarborough                                                                                         Cliffside, Cliffcrest, Scarborough Village West\n",
      "82          M2M        North York                                                                                                                 Willowdale, Newtonbrook\n",
      "83          M3M        North York                                                                                                                               Downsview\n",
      "84          M4M      East Toronto                                                                                                                         Studio District\n",
      "85          M5M        North York                                                                                                       Bedford Park, Lawrence Manor East\n",
      "86          M6M              York                                                                                        Del Ray, Mount Dennis, Keelsdale and Silverthorn\n",
      "87          M7M      Not assigned                                                                                                                            Not assigned\n",
      "88          M8M      Not assigned                                                                                                                            Not assigned\n",
      "89          M9M        North York                                                                                                                        Humberlea, Emery\n",
      "90          M1N       Scarborough                                                                                                             Birch Cliff, Cliffside West\n",
      "91          M2N        North York                                                                                                             Willowdale, Willowdale East\n",
      "92          M3N        North York                                                                                                                               Downsview\n",
      "93          M4N   Central Toronto                                                                                                                           Lawrence Park\n",
      "94          M5N   Central Toronto                                                                                                                                Roselawn\n",
      "95          M6N              York                                                                                                           Runnymede, The Junction North\n",
      "96          M7N      Not assigned                                                                                                                            Not assigned\n",
      "97          M8N      Not assigned                                                                                                                            Not assigned\n",
      "98          M9N              York                                                                                                                                  Weston\n",
      "99          M1P       Scarborough                                                                                   Dorset Park, Wexford Heights, Scarborough Town Centre\n",
      "100         M2P        North York                                                                                                                         York Mills West\n",
      "101         M3P      Not assigned                                                                                                                            Not assigned\n",
      "102         M4P   Central Toronto                                                                                                                        Davisville North\n",
      "103         M5P   Central Toronto                                                                                         Forest Hill North & West, Forest Hill Road Park\n",
      "104         M6P      West Toronto                                                                                                           High Park, The Junction South\n",
      "105         M7P      Not assigned                                                                                                                            Not assigned\n",
      "106         M8P      Not assigned                                                                                                                            Not assigned\n",
      "107         M9P         Etobicoke                                                                                                                               Westmount\n",
      "108         M1R       Scarborough                                                                                                                       Wexford, Maryvale\n",
      "109         M2R        North York                                                                                                             Willowdale, Willowdale West\n",
      "110         M3R      Not assigned                                                                                                                            Not assigned\n",
      "111         M4R   Central Toronto                                                                                                       North Toronto West, Lawrence Park\n",
      "112         M5R   Central Toronto                                                                                                     The Annex, North Midtown, Yorkville\n",
      "113         M6R      West Toronto                                                                                                                  Parkdale, Roncesvalles\n",
      "114         M7R       Mississauga                                                                                                   Canada Post Gateway Processing Centre\n",
      "115         M8R      Not assigned                                                                                                                            Not assigned\n",
      "116         M9R         Etobicoke                                                                 Kingsview Village, St. Phillips, Martin Grove Gardens, Richview Gardens\n",
      "117         M1S       Scarborough                                                                                                                               Agincourt\n",
      "118         M2S      Not assigned                                                                                                                            Not assigned\n",
      "119         M3S      Not assigned                                                                                                                            Not assigned\n",
      "120         M4S   Central Toronto                                                                                                                              Davisville\n",
      "121         M5S  Downtown Toronto                                                                                                          University of Toronto, Harbord\n",
      "122         M6S      West Toronto                                                                                                                      Runnymede, Swansea\n",
      "123         M7S      Not assigned                                                                                                                            Not assigned\n",
      "124         M8S      Not assigned                                                                                                                            Not assigned\n",
      "125         M9S      Not assigned                                                                                                                            Not assigned\n",
      "126         M1T       Scarborough                                                                                                 Clarks Corners, Tam O'Shanter, Sullivan\n",
      "127         M2T      Not assigned                                                                                                                            Not assigned\n",
      "128         M3T      Not assigned                                                                                                                            Not assigned\n",
      "129         M4T   Central Toronto                                                                                                             Moore Park, Summerhill East\n",
      "130         M5T  Downtown Toronto                                                                                               Kensington Market, Chinatown, Grange Park\n",
      "131         M6T      Not assigned                                                                                                                            Not assigned\n",
      "132         M7T      Not assigned                                                                                                                            Not assigned\n",
      "133         M8T      Not assigned                                                                                                                            Not assigned\n",
      "134         M9T      Not assigned                                                                                                                            Not assigned\n",
      "135         M1V       Scarborough                                                                                Milliken, Agincourt North, Steeles East, L'Amoreaux East\n",
      "136         M2V      Not assigned                                                                                                                            Not assigned\n",
      "137         M3V      Not assigned                                                                                                                            Not assigned\n",
      "138         M4V   Central Toronto                                                                       Summerhill West, Rathnelly, South Hill, Forest Hill SE, Deer Park\n",
      "139         M5V  Downtown Toronto                              CN Tower, King and Spadina, Railway Lands, Harbourfront West, Bathurst Quay, South Niagara, Island airport\n",
      "140         M6V      Not assigned                                                                                                                            Not assigned\n",
      "141         M7V      Not assigned                                                                                                                            Not assigned\n",
      "142         M8V         Etobicoke                                                                                            New Toronto, Mimico South, Humber Bay Shores\n",
      "143         M9V         Etobicoke                           South Steeles, Silverstone, Humbergate, Jamestown, Mount Olive, Beaumond Heights, Thistletown, Albion Gardens\n",
      "144         M1W       Scarborough                                                                                                           Steeles West, L'Amoreaux West\n",
      "145         M2W      Not assigned                                                                                                                            Not assigned\n",
      "146         M3W      Not assigned                                                                                                                            Not assigned\n",
      "147         M4W  Downtown Toronto                                                                                                                                Rosedale\n",
      "148         M5W  Downtown Toronto                                                                                                                          Stn A PO Boxes\n",
      "149         M6W      Not assigned                                                                                                                            Not assigned\n",
      "150         M7W      Not assigned                                                                                                                            Not assigned\n",
      "151         M8W         Etobicoke                                                                                                                  Alderwood, Long Branch\n",
      "152         M9W         Etobicoke                                                                                                     Northwest, West Humber - Clairville\n",
      "153         M1X       Scarborough                                                                                                                             Upper Rouge\n",
      "154         M2X      Not assigned                                                                                                                            Not assigned\n",
      "155         M3X      Not assigned                                                                                                                            Not assigned\n",
      "156         M4X  Downtown Toronto                                                                                                             St. James Town, Cabbagetown\n",
      "157         M5X  Downtown Toronto                                                                                                  First Canadian Place, Underground city\n",
      "158         M6X      Not assigned                                                                                                                            Not assigned\n",
      "159         M7X      Not assigned                                                                                                                            Not assigned\n",
      "160         M8X         Etobicoke                                                                                           The Kingsway, Montgomery Road, Old Mill North\n",
      "161         M9X      Not assigned                                                                                                                            Not assigned\n",
      "162         M1Y      Not assigned                                                                                                                            Not assigned\n",
      "163         M2Y      Not assigned                                                                                                                            Not assigned\n",
      "164         M3Y      Not assigned                                                                                                                            Not assigned\n",
      "165         M4Y  Downtown Toronto                                                                                                                    Church and Wellesley\n",
      "166         M5Y      Not assigned                                                                                                                            Not assigned\n",
      "167         M6Y      Not assigned                                                                                                                            Not assigned\n",
      "168         M7Y      East Toronto                                                    Business reply mail Processing Centre, South Central Letter Processing Plant Toronto\n",
      "169         M8Y         Etobicoke  Old Mill South, King's Mill Park, Sunnylea, Humber Bay, Mimico NE, The Queensway East, Royal York South East, Kingsway Park South East\n",
      "170         M9Y      Not assigned                                                                                                                            Not assigned\n",
      "171         M1Z      Not assigned                                                                                                                            Not assigned\n",
      "172         M2Z      Not assigned                                                                                                                            Not assigned\n",
      "173         M3Z      Not assigned                                                                                                                            Not assigned\n",
      "174         M4Z      Not assigned                                                                                                                            Not assigned\n",
      "175         M5Z      Not assigned                                                                                                                            Not assigned\n",
      "176         M6Z      Not assigned                                                                                                                            Not assigned\n",
      "177         M7Z      Not assigned                                                                                                                            Not assigned\n",
      "178         M8Z         Etobicoke                                          Mimico NW, The Queensway West, South of Bloor, Kingsway Park South West, Royal York South West\n",
      "179         M9Z      Not assigned                                                                                                                            Not assigned\n"
     ]
    },
    {
     "data": {
      "text/plain": "   Postal Code           Borough                                Neighbourhood\n85         M7A  Downtown Toronto  Queen's Park, Ontario Provincial Government",
      "text/html": "<div>\n<style scoped>\n    .dataframe tbody tr th:only-of-type {\n        vertical-align: middle;\n    }\n\n    .dataframe tbody tr th {\n        vertical-align: top;\n    }\n\n    .dataframe thead th {\n        text-align: right;\n    }\n</style>\n<table border=\"1\" class=\"dataframe\">\n  <thead>\n    <tr style=\"text-align: right;\">\n      <th></th>\n      <th>Postal Code</th>\n      <th>Borough</th>\n      <th>Neighbourhood</th>\n    </tr>\n  </thead>\n  <tbody>\n    <tr>\n      <th>85</th>\n      <td>M7A</td>\n      <td>Downtown Toronto</td>\n      <td>Queen's Park, Ontario Provincial Government</td>\n    </tr>\n  </tbody>\n</table>\n</div>"
     },
     "execution_count": 16,
     "metadata": {},
     "output_type": "execute_result"
    }
   ],
   "source": [
    "# Get the table from wiki page\n",
    "html = wp.page(\"List of postal codes of Canada: M\").html().encode(\"UTF-8\")\n",
    "df = pd.read_html(html)[1]\n",
    "df = pd.read_html(html)[0]\n",
    "print(df.to_string())\n",
    "\n",
    "# Drope the rows with Borough of \"Not assigned\"\n",
    "df_assigned = df[df.Borough != 'Not assigned']\n",
    "df_assigned.reset_index(drop = True, inplace = True)\n",
    "\n",
    "# Merge rows with the same Postcode\n",
    "df_assigned = df_assigned.groupby(['Postal Code', 'Borough'], as_index=False).agg(lambda x: ', '.join(set(x)))\n",
    "\n",
    "# Set 'Not assigned' Neigbourhood to be equal to Borough\n",
    "na_nb_idx =df_assigned['Neighbourhood'] == 'Not assigned'\n",
    "df_assigned.loc[na_nb_idx, 'Neighbourhood'] = df_assigned[na_nb_idx].Borough\n",
    "df_assigned[df_assigned['Postal Code'] == 'M7A']"
   ]
  },
  {
   "cell_type": "code",
   "execution_count": 17,
   "metadata": {},
   "outputs": [
    {
     "data": {
      "text/plain": "(103, 3)"
     },
     "execution_count": 17,
     "metadata": {},
     "output_type": "execute_result"
    }
   ],
   "source": [
    "# Show the shape of the df\n",
    "df_assigned.shape"
   ]
  },
  {
   "cell_type": "code",
   "execution_count": 18,
   "metadata": {},
   "outputs": [
    {
     "data": {
      "text/plain": "'/users/User/PycharmProjects/pythonProject/Geospatial_Coordinates (1).csv'"
     },
     "execution_count": 18,
     "metadata": {},
     "output_type": "execute_result"
    }
   ],
   "source": [
    "# Since it is not able to obtain coordinates from using geocoder.google, the given csv file is used\n",
    "url = 'http://cocl.us/Geospatial_data/'\n",
    "wget.download(url, '/users/User/PycharmProjects/pythonProject/Geospatial_Coordinates.csv')"
   ]
  },
  {
   "cell_type": "code",
   "execution_count": 19,
   "metadata": {},
   "outputs": [
    {
     "data": {
      "text/plain": "  Postal Code   Latitude  Longitude\n0         M1B  43.806686 -79.194353\n1         M1C  43.784535 -79.160497\n2         M1E  43.763573 -79.188711\n3         M1G  43.770992 -79.216917\n4         M1H  43.773136 -79.239476",
      "text/html": "<div>\n<style scoped>\n    .dataframe tbody tr th:only-of-type {\n        vertical-align: middle;\n    }\n\n    .dataframe tbody tr th {\n        vertical-align: top;\n    }\n\n    .dataframe thead th {\n        text-align: right;\n    }\n</style>\n<table border=\"1\" class=\"dataframe\">\n  <thead>\n    <tr style=\"text-align: right;\">\n      <th></th>\n      <th>Postal Code</th>\n      <th>Latitude</th>\n      <th>Longitude</th>\n    </tr>\n  </thead>\n  <tbody>\n    <tr>\n      <th>0</th>\n      <td>M1B</td>\n      <td>43.806686</td>\n      <td>-79.194353</td>\n    </tr>\n    <tr>\n      <th>1</th>\n      <td>M1C</td>\n      <td>43.784535</td>\n      <td>-79.160497</td>\n    </tr>\n    <tr>\n      <th>2</th>\n      <td>M1E</td>\n      <td>43.763573</td>\n      <td>-79.188711</td>\n    </tr>\n    <tr>\n      <th>3</th>\n      <td>M1G</td>\n      <td>43.770992</td>\n      <td>-79.216917</td>\n    </tr>\n    <tr>\n      <th>4</th>\n      <td>M1H</td>\n      <td>43.773136</td>\n      <td>-79.239476</td>\n    </tr>\n  </tbody>\n</table>\n</div>"
     },
     "execution_count": 19,
     "metadata": {},
     "output_type": "execute_result"
    }
   ],
   "source": [
    "df_cord = pd.read_csv('Geospatial_Coordinates.csv') # Read the csv data\n",
    "df_cord.head()"
   ]
  },
  {
   "cell_type": "code",
   "execution_count": 21,
   "metadata": {
    "pycharm": {
     "name": "#%%\n"
    }
   },
   "outputs": [
    {
     "data": {
      "text/plain": "   Postal Code      Borough  \\\n0          M1B  Scarborough   \n1          M1C  Scarborough   \n2          M1E  Scarborough   \n3          M1G  Scarborough   \n4          M1H  Scarborough   \n5          M1J  Scarborough   \n6          M1K  Scarborough   \n7          M1L  Scarborough   \n8          M1M  Scarborough   \n9          M1N  Scarborough   \n10         M1P  Scarborough   \n11         M1R  Scarborough   \n12         M1S  Scarborough   \n13         M1T  Scarborough   \n14         M1V  Scarborough   \n15         M1W  Scarborough   \n16         M1X  Scarborough   \n17         M2H   North York   \n18         M2J   North York   \n19         M2K   North York   \n\n                                        Neighbourhood   Latitude  Longitude  \n0                                      Malvern, Rouge  43.806686 -79.194353  \n1              Rouge Hill, Port Union, Highland Creek  43.784535 -79.160497  \n2                   Guildwood, Morningside, West Hill  43.763573 -79.188711  \n3                                              Woburn  43.770992 -79.216917  \n4                                           Cedarbrae  43.773136 -79.239476  \n5                                 Scarborough Village  43.744734 -79.239476  \n6         Kennedy Park, Ionview, East Birchmount Park  43.727929 -79.262029  \n7                     Golden Mile, Clairlea, Oakridge  43.711112 -79.284577  \n8     Cliffside, Cliffcrest, Scarborough Village West  43.716316 -79.239476  \n9                         Birch Cliff, Cliffside West  43.692657 -79.264848  \n10  Dorset Park, Wexford Heights, Scarborough Town...  43.757410 -79.273304  \n11                                  Wexford, Maryvale  43.750072 -79.295849  \n12                                          Agincourt  43.794200 -79.262029  \n13            Clarks Corners, Tam O'Shanter, Sullivan  43.781638 -79.304302  \n14  Milliken, Agincourt North, Steeles East, L'Amo...  43.815252 -79.284577  \n15                      Steeles West, L'Amoreaux West  43.799525 -79.318389  \n16                                        Upper Rouge  43.836125 -79.205636  \n17                                  Hillcrest Village  43.803762 -79.363452  \n18                       Fairview, Henry Farm, Oriole  43.778517 -79.346556  \n19                                    Bayview Village  43.786947 -79.385975  ",
      "text/html": "<div>\n<style scoped>\n    .dataframe tbody tr th:only-of-type {\n        vertical-align: middle;\n    }\n\n    .dataframe tbody tr th {\n        vertical-align: top;\n    }\n\n    .dataframe thead th {\n        text-align: right;\n    }\n</style>\n<table border=\"1\" class=\"dataframe\">\n  <thead>\n    <tr style=\"text-align: right;\">\n      <th></th>\n      <th>Postal Code</th>\n      <th>Borough</th>\n      <th>Neighbourhood</th>\n      <th>Latitude</th>\n      <th>Longitude</th>\n    </tr>\n  </thead>\n  <tbody>\n    <tr>\n      <th>0</th>\n      <td>M1B</td>\n      <td>Scarborough</td>\n      <td>Malvern, Rouge</td>\n      <td>43.806686</td>\n      <td>-79.194353</td>\n    </tr>\n    <tr>\n      <th>1</th>\n      <td>M1C</td>\n      <td>Scarborough</td>\n      <td>Rouge Hill, Port Union, Highland Creek</td>\n      <td>43.784535</td>\n      <td>-79.160497</td>\n    </tr>\n    <tr>\n      <th>2</th>\n      <td>M1E</td>\n      <td>Scarborough</td>\n      <td>Guildwood, Morningside, West Hill</td>\n      <td>43.763573</td>\n      <td>-79.188711</td>\n    </tr>\n    <tr>\n      <th>3</th>\n      <td>M1G</td>\n      <td>Scarborough</td>\n      <td>Woburn</td>\n      <td>43.770992</td>\n      <td>-79.216917</td>\n    </tr>\n    <tr>\n      <th>4</th>\n      <td>M1H</td>\n      <td>Scarborough</td>\n      <td>Cedarbrae</td>\n      <td>43.773136</td>\n      <td>-79.239476</td>\n    </tr>\n    <tr>\n      <th>5</th>\n      <td>M1J</td>\n      <td>Scarborough</td>\n      <td>Scarborough Village</td>\n      <td>43.744734</td>\n      <td>-79.239476</td>\n    </tr>\n    <tr>\n      <th>6</th>\n      <td>M1K</td>\n      <td>Scarborough</td>\n      <td>Kennedy Park, Ionview, East Birchmount Park</td>\n      <td>43.727929</td>\n      <td>-79.262029</td>\n    </tr>\n    <tr>\n      <th>7</th>\n      <td>M1L</td>\n      <td>Scarborough</td>\n      <td>Golden Mile, Clairlea, Oakridge</td>\n      <td>43.711112</td>\n      <td>-79.284577</td>\n    </tr>\n    <tr>\n      <th>8</th>\n      <td>M1M</td>\n      <td>Scarborough</td>\n      <td>Cliffside, Cliffcrest, Scarborough Village West</td>\n      <td>43.716316</td>\n      <td>-79.239476</td>\n    </tr>\n    <tr>\n      <th>9</th>\n      <td>M1N</td>\n      <td>Scarborough</td>\n      <td>Birch Cliff, Cliffside West</td>\n      <td>43.692657</td>\n      <td>-79.264848</td>\n    </tr>\n    <tr>\n      <th>10</th>\n      <td>M1P</td>\n      <td>Scarborough</td>\n      <td>Dorset Park, Wexford Heights, Scarborough Town...</td>\n      <td>43.757410</td>\n      <td>-79.273304</td>\n    </tr>\n    <tr>\n      <th>11</th>\n      <td>M1R</td>\n      <td>Scarborough</td>\n      <td>Wexford, Maryvale</td>\n      <td>43.750072</td>\n      <td>-79.295849</td>\n    </tr>\n    <tr>\n      <th>12</th>\n      <td>M1S</td>\n      <td>Scarborough</td>\n      <td>Agincourt</td>\n      <td>43.794200</td>\n      <td>-79.262029</td>\n    </tr>\n    <tr>\n      <th>13</th>\n      <td>M1T</td>\n      <td>Scarborough</td>\n      <td>Clarks Corners, Tam O'Shanter, Sullivan</td>\n      <td>43.781638</td>\n      <td>-79.304302</td>\n    </tr>\n    <tr>\n      <th>14</th>\n      <td>M1V</td>\n      <td>Scarborough</td>\n      <td>Milliken, Agincourt North, Steeles East, L'Amo...</td>\n      <td>43.815252</td>\n      <td>-79.284577</td>\n    </tr>\n    <tr>\n      <th>15</th>\n      <td>M1W</td>\n      <td>Scarborough</td>\n      <td>Steeles West, L'Amoreaux West</td>\n      <td>43.799525</td>\n      <td>-79.318389</td>\n    </tr>\n    <tr>\n      <th>16</th>\n      <td>M1X</td>\n      <td>Scarborough</td>\n      <td>Upper Rouge</td>\n      <td>43.836125</td>\n      <td>-79.205636</td>\n    </tr>\n    <tr>\n      <th>17</th>\n      <td>M2H</td>\n      <td>North York</td>\n      <td>Hillcrest Village</td>\n      <td>43.803762</td>\n      <td>-79.363452</td>\n    </tr>\n    <tr>\n      <th>18</th>\n      <td>M2J</td>\n      <td>North York</td>\n      <td>Fairview, Henry Farm, Oriole</td>\n      <td>43.778517</td>\n      <td>-79.346556</td>\n    </tr>\n    <tr>\n      <th>19</th>\n      <td>M2K</td>\n      <td>North York</td>\n      <td>Bayview Village</td>\n      <td>43.786947</td>\n      <td>-79.385975</td>\n    </tr>\n  </tbody>\n</table>\n</div>"
     },
     "execution_count": 21,
     "metadata": {},
     "output_type": "execute_result"
    }
   ],
   "source": [
    "# Create Latitude and Longitude columns in df_assigned\n",
    "df_assigned['Latitude'] = np.nan\n",
    "df_assigned['Longitude'] = np.nan\n",
    "\n",
    "# For each postcode in df_assigned, find corresponding coordinates in df_cord and assign it to df_assigned\n",
    "for idx in df_assigned.index:\n",
    "    cord_idx = df_cord['Postal Code'] == df_assigned.loc[idx, 'Postal Code']\n",
    "    df_assigned.at[idx, 'Latitude'] = df_cord.loc[cord_idx, 'Latitude'].values\n",
    "    df_assigned.at[idx, 'Longitude'] = df_cord.loc[cord_idx, 'Longitude'].values\n",
    "\n",
    "# Display the results\n",
    "df_assigned.head(20)"
   ]
  }
 ],
 "metadata": {
  "kernelspec": {
   "name": "python3",
   "language": "python",
   "display_name": "Python 3"
  },
  "language_info": {
   "codemirror_mode": {
    "name": "ipython",
    "version": 3
   },
   "file_extension": ".py",
   "mimetype": "text/x-python",
   "name": "python",
   "nbconvert_exporter": "python",
   "pygments_lexer": "ipython3",
   "version": "3.8.5"
  }
 },
 "nbformat": 4,
 "nbformat_minor": 4
}
